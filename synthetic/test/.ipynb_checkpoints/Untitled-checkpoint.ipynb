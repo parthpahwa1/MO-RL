{
 "cells": [
  {
   "cell_type": "code",
   "execution_count": 2,
   "id": "48716811",
   "metadata": {},
   "outputs": [],
   "source": [
    "import pandas as pd\n",
    "import numpy as np\n",
    "import matplotlib.pyplot as plt"
   ]
  },
  {
   "cell_type": "code",
   "execution_count": 5,
   "id": "de6b7f70",
   "metadata": {},
   "outputs": [],
   "source": [
    "df = pd.read_csv('experiment_mt_envelope.csv').drop(columns='Unnamed: 0')"
   ]
  },
  {
   "cell_type": "code",
   "execution_count": 7,
   "id": "be94b8c9",
   "metadata": {},
   "outputs": [
    {
     "data": {
      "text/html": [
       "<div>\n",
       "<style scoped>\n",
       "    .dataframe tbody tr th:only-of-type {\n",
       "        vertical-align: middle;\n",
       "    }\n",
       "\n",
       "    .dataframe tbody tr th {\n",
       "        vertical-align: top;\n",
       "    }\n",
       "\n",
       "    .dataframe thead th {\n",
       "        text-align: right;\n",
       "    }\n",
       "</style>\n",
       "<table border=\"1\" class=\"dataframe\">\n",
       "  <thead>\n",
       "    <tr style=\"text-align: right;\">\n",
       "      <th></th>\n",
       "      <th>Train Episode</th>\n",
       "      <th>Steps to terminate</th>\n",
       "      <th>Reward</th>\n",
       "      <th>Left Action</th>\n",
       "      <th>Right Action</th>\n",
       "      <th>No Action</th>\n",
       "      <th>Time Penalty</th>\n",
       "      <th>Left penalty</th>\n",
       "      <th>Right penalty</th>\n",
       "    </tr>\n",
       "  </thead>\n",
       "  <tbody>\n",
       "    <tr>\n",
       "      <th>0</th>\n",
       "      <td>449.0</td>\n",
       "      <td>102.45</td>\n",
       "      <td>-75.663774</td>\n",
       "      <td>40.97</td>\n",
       "      <td>61.48</td>\n",
       "      <td>0.00</td>\n",
       "      <td>0.9</td>\n",
       "      <td>0.05</td>\n",
       "      <td>0.05</td>\n",
       "    </tr>\n",
       "    <tr>\n",
       "      <th>1</th>\n",
       "      <td>449.0</td>\n",
       "      <td>99.97</td>\n",
       "      <td>-73.575678</td>\n",
       "      <td>38.96</td>\n",
       "      <td>61.01</td>\n",
       "      <td>0.00</td>\n",
       "      <td>0.9</td>\n",
       "      <td>0.10</td>\n",
       "      <td>0.00</td>\n",
       "    </tr>\n",
       "    <tr>\n",
       "      <th>2</th>\n",
       "      <td>449.0</td>\n",
       "      <td>102.84</td>\n",
       "      <td>-76.340298</td>\n",
       "      <td>43.10</td>\n",
       "      <td>59.74</td>\n",
       "      <td>0.00</td>\n",
       "      <td>0.9</td>\n",
       "      <td>0.00</td>\n",
       "      <td>0.10</td>\n",
       "    </tr>\n",
       "    <tr>\n",
       "      <th>3</th>\n",
       "      <td>449.0</td>\n",
       "      <td>138.58</td>\n",
       "      <td>-61.527789</td>\n",
       "      <td>82.45</td>\n",
       "      <td>42.03</td>\n",
       "      <td>14.10</td>\n",
       "      <td>0.5</td>\n",
       "      <td>0.00</td>\n",
       "      <td>0.50</td>\n",
       "    </tr>\n",
       "    <tr>\n",
       "      <th>4</th>\n",
       "      <td>449.0</td>\n",
       "      <td>104.68</td>\n",
       "      <td>-52.951671</td>\n",
       "      <td>28.84</td>\n",
       "      <td>74.35</td>\n",
       "      <td>1.49</td>\n",
       "      <td>0.5</td>\n",
       "      <td>0.50</td>\n",
       "      <td>0.00</td>\n",
       "    </tr>\n",
       "  </tbody>\n",
       "</table>\n",
       "</div>"
      ],
      "text/plain": [
       "   Train Episode  Steps to terminate     Reward  Left Action  Right Action  \\\n",
       "0          449.0              102.45 -75.663774        40.97         61.48   \n",
       "1          449.0               99.97 -73.575678        38.96         61.01   \n",
       "2          449.0              102.84 -76.340298        43.10         59.74   \n",
       "3          449.0              138.58 -61.527789        82.45         42.03   \n",
       "4          449.0              104.68 -52.951671        28.84         74.35   \n",
       "\n",
       "   No Action  Time Penalty  Left penalty  Right penalty  \n",
       "0       0.00           0.9          0.05           0.05  \n",
       "1       0.00           0.9          0.10           0.00  \n",
       "2       0.00           0.9          0.00           0.10  \n",
       "3      14.10           0.5          0.00           0.50  \n",
       "4       1.49           0.5          0.50           0.00  "
      ]
     },
     "execution_count": 7,
     "metadata": {},
     "output_type": "execute_result"
    }
   ],
   "source": [
    "df.head()"
   ]
  },
  {
   "cell_type": "code",
   "execution_count": 9,
   "id": "5030fef5",
   "metadata": {},
   "outputs": [
    {
     "data": {
      "text/plain": [
       "[<matplotlib.lines.Line2D at 0x13bda9bb0>]"
      ]
     },
     "execution_count": 9,
     "metadata": {},
     "output_type": "execute_result"
    },
    {
     "data": {
      "image/png": "[encoded data removed]",
      "text/plain": [
       "<Figure size 432x288 with 1 Axes>"
      ]
     },
     "metadata": {
      "needs_background": "light"
     },
     "output_type": "display_data"
    }
   ],
   "source": [
    "condition = df[df['Time Penalty'] == 0.9]\n",
    "x = df['Train Episode']\n",
    "y = df['Steps to terminate']\n",
    "\n",
    "plt.plot(x, )"
   ]
  }
 ],
 "metadata": {
  "kernelspec": {
   "display_name": "Python 3 (ipykernel)",
   "language": "python",
   "name": "python3"
  },
  "language_info": {
   "codemirror_mode": {
    "name": "ipython",
    "version": 3
   },
   "file_extension": ".py",
   "mimetype": "text/x-python",
   "name": "python",
   "nbconvert_exporter": "python",
   "pygments_lexer": "ipython3",
   "version": "3.9.10"
  }
 },
 "nbformat": 4,
 "nbformat_minor": 5
}
