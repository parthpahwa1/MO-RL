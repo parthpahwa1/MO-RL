{
  "cells": [
    {
      "cell_type": "markdown",
      "metadata": {
        "id": "BErSeefeQwQi"
      },
      "source": [
        "### Setup packages "
      ]
    },
    {
      "cell_type": "code",
      "execution_count": null,
      "metadata": {
        "id": "L8DGCgVxR2AB"
      },
      "outputs": [],
      "source": [
        "#from google.colab import drive\n",
        "#drive.mount('/content/drive')"
      ]
    },
    {
      "cell_type": "code",
      "execution_count": null,
      "metadata": {
        "colab": {
          "base_uri": "https://localhost:8080/"
        },
        "id": "3xIx5C6UQn4u",
        "outputId": "ce5e5d6e-5a55-42d1-fd13-90e285b0fca6"
      },
      "outputs": [
        {
          "output_type": "stream",
          "name": "stdout",
          "text": [
            "Looking in indexes: https://pypi.org/simple, https://us-python.pkg.dev/colab-wheels/public/simple/\n",
            "Collecting progressbar\n",
            "  Downloading progressbar-2.5.tar.gz (10 kB)\n",
            "Building wheels for collected packages: progressbar\n",
            "  Building wheel for progressbar (setup.py) ... \u001b[?25l\u001b[?25hdone\n",
            "  Created wheel for progressbar: filename=progressbar-2.5-py3-none-any.whl size=12082 sha256=0b9db790e4bacf23cb5ac0dc4017027a8d0e7bbb89a6474ccc198e039d6fa69f\n",
            "  Stored in directory: /root/.cache/pip/wheels/f0/fd/1f/3e35ed57e94cd8ced38dd46771f1f0f94f65fec548659ed855\n",
            "Successfully built progressbar\n",
            "Installing collected packages: progressbar\n",
            "Successfully installed progressbar-2.5\n",
            "Looking in indexes: https://pypi.org/simple, https://us-python.pkg.dev/colab-wheels/public/simple/\n",
            "Requirement already satisfied: plotnine in /usr/local/lib/python3.7/dist-packages (0.6.0)\n",
            "Requirement already satisfied: statsmodels>=0.9.0 in /usr/local/lib/python3.7/dist-packages (from plotnine) (0.10.2)\n",
            "Requirement already satisfied: numpy>=1.16.0 in /usr/local/lib/python3.7/dist-packages (from plotnine) (1.21.6)\n",
            "Requirement already satisfied: mizani>=0.6.0 in /usr/local/lib/python3.7/dist-packages (from plotnine) (0.6.0)\n",
            "Requirement already satisfied: pandas>=0.25.0 in /usr/local/lib/python3.7/dist-packages (from plotnine) (1.3.5)\n",
            "Requirement already satisfied: descartes>=1.1.0 in /usr/local/lib/python3.7/dist-packages (from plotnine) (1.1.0)\n",
            "Requirement already satisfied: matplotlib>=3.1.1 in /usr/local/lib/python3.7/dist-packages (from plotnine) (3.2.2)\n",
            "Requirement already satisfied: patsy>=0.4.1 in /usr/local/lib/python3.7/dist-packages (from plotnine) (0.5.2)\n",
            "Requirement already satisfied: scipy>=1.2.0 in /usr/local/lib/python3.7/dist-packages (from plotnine) (1.4.1)\n",
            "Requirement already satisfied: kiwisolver>=1.0.1 in /usr/local/lib/python3.7/dist-packages (from matplotlib>=3.1.1->plotnine) (1.4.3)\n",
            "Requirement already satisfied: python-dateutil>=2.1 in /usr/local/lib/python3.7/dist-packages (from matplotlib>=3.1.1->plotnine) (2.8.2)\n",
            "Requirement already satisfied: pyparsing!=2.0.4,!=2.1.2,!=2.1.6,>=2.0.1 in /usr/local/lib/python3.7/dist-packages (from matplotlib>=3.1.1->plotnine) (3.0.9)\n",
            "Requirement already satisfied: cycler>=0.10 in /usr/local/lib/python3.7/dist-packages (from matplotlib>=3.1.1->plotnine) (0.11.0)\n",
            "Requirement already satisfied: typing-extensions in /usr/local/lib/python3.7/dist-packages (from kiwisolver>=1.0.1->matplotlib>=3.1.1->plotnine) (4.1.1)\n",
            "Requirement already satisfied: palettable in /usr/local/lib/python3.7/dist-packages (from mizani>=0.6.0->plotnine) (3.3.0)\n",
            "Requirement already satisfied: pytz>=2017.3 in /usr/local/lib/python3.7/dist-packages (from pandas>=0.25.0->plotnine) (2022.1)\n",
            "Requirement already satisfied: six in /usr/local/lib/python3.7/dist-packages (from patsy>=0.4.1->plotnine) (1.15.0)\n",
            "Looking in indexes: https://pypi.org/simple, https://us-python.pkg.dev/colab-wheels/public/simple/\n",
            "Requirement already satisfied: torch in /usr/local/lib/python3.7/dist-packages (1.11.0+cu113)\n",
            "Requirement already satisfied: typing-extensions in /usr/local/lib/python3.7/dist-packages (from torch) (4.1.1)\n",
            "Looking in indexes: https://pypi.org/simple, https://us-python.pkg.dev/colab-wheels/public/simple/\n",
            "Collecting ipython-autotime\n",
            "  Downloading ipython_autotime-0.3.1-py2.py3-none-any.whl (6.8 kB)\n",
            "Requirement already satisfied: ipython in /usr/local/lib/python3.7/dist-packages (from ipython-autotime) (5.5.0)\n",
            "Requirement already satisfied: decorator in /usr/local/lib/python3.7/dist-packages (from ipython->ipython-autotime) (4.4.2)\n",
            "Requirement already satisfied: prompt-toolkit<2.0.0,>=1.0.4 in /usr/local/lib/python3.7/dist-packages (from ipython->ipython-autotime) (1.0.18)\n",
            "Requirement already satisfied: pexpect in /usr/local/lib/python3.7/dist-packages (from ipython->ipython-autotime) (4.8.0)\n",
            "Requirement already satisfied: setuptools>=18.5 in /usr/local/lib/python3.7/dist-packages (from ipython->ipython-autotime) (57.4.0)\n",
            "Requirement already satisfied: traitlets>=4.2 in /usr/local/lib/python3.7/dist-packages (from ipython->ipython-autotime) (5.1.1)\n",
            "Requirement already satisfied: pickleshare in /usr/local/lib/python3.7/dist-packages (from ipython->ipython-autotime) (0.7.5)\n",
            "Requirement already satisfied: simplegeneric>0.8 in /usr/local/lib/python3.7/dist-packages (from ipython->ipython-autotime) (0.8.1)\n",
            "Requirement already satisfied: pygments in /usr/local/lib/python3.7/dist-packages (from ipython->ipython-autotime) (2.6.1)\n",
            "Requirement already satisfied: six>=1.9.0 in /usr/local/lib/python3.7/dist-packages (from prompt-toolkit<2.0.0,>=1.0.4->ipython->ipython-autotime) (1.15.0)\n",
            "Requirement already satisfied: wcwidth in /usr/local/lib/python3.7/dist-packages (from prompt-toolkit<2.0.0,>=1.0.4->ipython->ipython-autotime) (0.2.5)\n",
            "Requirement already satisfied: ptyprocess>=0.5 in /usr/local/lib/python3.7/dist-packages (from pexpect->ipython->ipython-autotime) (0.7.0)\n",
            "Installing collected packages: ipython-autotime\n",
            "Successfully installed ipython-autotime-0.3.1\n",
            "time: 7.46 ms (started: 2022-07-10 17:59:07 +00:00)\n"
          ]
        }
      ],
      "source": [
        "%pip install progressbar\n",
        "%pip install plotnine\n",
        "%pip install torch\n",
        "%pip install ipython-autotime\n",
        "%load_ext autotime"
      ]
    },
    {
      "cell_type": "code",
      "execution_count": null,
      "metadata": {
        "colab": {
          "base_uri": "https://localhost:8080/"
        },
        "id": "EfIU_eNp3Zio",
        "outputId": "57f29799-77c0-48bb-9dfc-0c0a9a7720c1"
      },
      "outputs": [
        {
          "output_type": "stream",
          "name": "stdout",
          "text": [
            "time: 2.22 s (started: 2022-07-10 17:59:07 +00:00)\n"
          ]
        }
      ],
      "source": [
        "from plotnine import *\n",
        "from plotnine.themes import *"
      ]
    },
    {
      "cell_type": "code",
      "execution_count": null,
      "metadata": {
        "colab": {
          "base_uri": "https://localhost:8080/"
        },
        "id": "ZmUjYbArAuQT",
        "outputId": "26273ad7-f0c4-4749-ae4a-0ae36b7308d2"
      },
      "outputs": [
        {
          "output_type": "stream",
          "name": "stdout",
          "text": [
            "time: 2.91 s (started: 2022-07-10 17:59:09 +00:00)\n"
          ]
        }
      ],
      "source": [
        "import tensorflow as tf\n",
        "from scipy.io import loadmat\n",
        "import random\n",
        "import math\n",
        "import tensorflow_probability as tfp\n",
        "from tqdm import tqdm"
      ]
    },
    {
      "cell_type": "markdown",
      "metadata": {
        "id": "PieVKPfHHYQ6"
      },
      "source": [
        "_paper_name_ establishes the reusable name of the paper, it represents the directory under data_papers on the google drive"
      ]
    },
    {
      "cell_type": "code",
      "execution_count": null,
      "metadata": {
        "colab": {
          "base_uri": "https://localhost:8080/"
        },
        "id": "BI4p7ZKb0Qz2",
        "outputId": "c66e2a87-e5cd-4905-fe46-56e1ca52e535"
      },
      "outputs": [
        {
          "output_type": "stream",
          "name": "stdout",
          "text": [
            "time: 876 µs (started: 2022-07-10 17:59:12 +00:00)\n"
          ]
        }
      ],
      "source": [
        "paper_name = \"dgm_hjb\""
      ]
    },
    {
      "cell_type": "code",
      "execution_count": null,
      "metadata": {
        "colab": {
          "base_uri": "https://localhost:8080/"
        },
        "id": "433z6V3T2rB2",
        "outputId": "87de93b9-2662-445c-9da1-6380e93a4417"
      },
      "outputs": [
        {
          "output_type": "stream",
          "name": "stdout",
          "text": [
            "time: 13.2 ms (started: 2022-07-10 17:59:12 +00:00)\n"
          ]
        }
      ],
      "source": [
        "import os, sys\n",
        "import errno\n",
        "\n",
        "# make a directory if it does not exist\n",
        "def make_dir_if_not_exist(used_path):\n",
        "    if not os.path.isdir(used_path):\n",
        "        try:\n",
        "            os.mkdir(used_path)\n",
        "        except OSError as exc:\n",
        "            if exc.errno != errno.EEXIST:\n",
        "                raise exc\n",
        "            else:\n",
        "                raise ValueError(f'{used_path} directoy cannot be created because its parent directory does not exist.')\n",
        "\n",
        "# make directories if they do not exist\n",
        "\n",
        "#make_dir_if_not_exist(\"/content/drive/MyDrive/data_papers/\")\n",
        "#make_dir_if_not_exist(f\"/content/drive/MyDrive/data_papers/{paper_name}\")\n",
        "#make_dir_if_not_exist(f\"/content/drive/MyDrive/data_papers/{paper_name}/model_features/\")\n",
        "#make_dir_if_not_exist(f\"/content/drive/MyDrive/data_papers/{paper_name}/model_checkpoints/\")\n",
        "#make_dir_if_not_exist(f\"/content/drive/MyDrive/data_papers/{paper_name}/model_history/\")\n",
        "#make_dir_if_not_exist(f\"/content/drive/MyDrive/data_papers/{paper_name}/model_finals/\")\n",
        "#make_dir_if_not_exist(f\"/content/drive/MyDrive/data_papers/{paper_name}/model_predictions/\")\n",
        "#make_dir_if_not_exist(f\"/content/drive/MyDrive/data_papers/{paper_name}/model_ccs/\")\n",
        "#make_dir_if_not_exist(f\"/content/drive/MyDrive/data_papers/{paper_name}/summary_results/\")\n",
        "#make_dir_if_not_exist(f\"/content/drive/MyDrive/data_papers/{paper_name}/summary_results/temp/\")"
      ]
    },
    {
      "cell_type": "code",
      "execution_count": null,
      "metadata": {
        "colab": {
          "base_uri": "https://localhost:8080/"
        },
        "id": "uat0pG8aR3Rh",
        "outputId": "a0a0068e-d3fe-42a1-c033-8dbd49a314b9"
      },
      "outputs": [
        {
          "output_type": "stream",
          "name": "stdout",
          "text": [
            "time: 15.3 ms (started: 2022-07-10 17:59:12 +00:00)\n"
          ]
        }
      ],
      "source": [
        "# Set up the imports\n",
        "from sklearn.model_selection import train_test_split\n",
        "import matplotlib.pyplot as plt\n",
        "%matplotlib inline\n",
        "import pandas as pd\n",
        "import numpy as np\n",
        "\n",
        "import site\n",
        "import os\n",
        "import tensorflow as tf\n",
        "import pandas as pd\n",
        "import h5py as h5\n",
        "import matplotlib.pyplot as plt\n",
        "import errno\n",
        "import numpy as np\n",
        "import itertools\n",
        "import multiprocessing\n",
        "import json\n",
        "import datetime\n",
        "import random\n",
        "from collections import defaultdict\n",
        "from sklearn.model_selection import train_test_split\n",
        "\n",
        "pd.set_option('display.width', 400)\n",
        "pd.set_option('display.max_columns', 40)\n"
      ]
    },
    {
      "cell_type": "code",
      "execution_count": null,
      "metadata": {
        "colab": {
          "base_uri": "https://localhost:8080/"
        },
        "id": "KpFjo3MkLus9",
        "outputId": "eaac85f6-86bf-41a2-d942-62b0cdf3169c"
      },
      "outputs": [
        {
          "output_type": "stream",
          "name": "stdout",
          "text": [
            "time: 3.2 s (started: 2022-07-10 17:59:12 +00:00)\n"
          ]
        }
      ],
      "source": [
        "import torch \n",
        "import matplotlib.pyplot as plt\n",
        "import numpy as np\n",
        "from torch.autograd import Variable\n",
        "import torch.nn as nn\n",
        "import torch.nn.functional as F\n",
        "import torch.optim as optim\n",
        "import matplotlib.pyplot as plt\n",
        "from mpl_toolkits.mplot3d import Axes3D\n",
        "from scipy.stats import norm\n",
        "from matplotlib import cm\n",
        "import pdb\n",
        "from torch.utils.data import DataLoader\n"
      ]
    },
    {
      "cell_type": "code",
      "execution_count": null,
      "metadata": {
        "colab": {
          "base_uri": "https://localhost:8080/"
        },
        "id": "CbfN42gpGZhC",
        "outputId": "eae2512c-032f-4685-c2dd-62bdc86568c8"
      },
      "outputs": [
        {
          "output_type": "stream",
          "name": "stdout",
          "text": [
            "time: 3.84 s (started: 2022-07-10 17:59:15 +00:00)\n"
          ]
        }
      ],
      "source": [
        "import plotly.graph_objects as go\n",
        "import plotly.express as px\n",
        "from pprint import pprint as pp"
      ]
    },
    {
      "cell_type": "markdown",
      "metadata": {
        "id": "bvy0WvxDGCxk"
      },
      "source": [
        "### Shared functions across models"
      ]
    },
    {
      "cell_type": "code",
      "execution_count": null,
      "metadata": {
        "colab": {
          "base_uri": "https://localhost:8080/"
        },
        "id": "cpVaz5dwXZNq",
        "outputId": "01eb8600-838e-4daa-e08a-1cfd169ed75a"
      },
      "outputs": [
        {
          "output_type": "stream",
          "name": "stdout",
          "text": [
            "time: 83.5 ms (started: 2022-07-10 17:59:19 +00:00)\n"
          ]
        }
      ],
      "source": [
        "import pandas as pd\n",
        "\n",
        "def plot_report(train_instance):\n",
        "        \n",
        "    history_tl_cpu = [ x for x in train_instance.history_tl ]\n",
        "    history_internal_cpu = [ x.cpu().detach().numpy() for x in train_instance.history_internal_cpu ]\n",
        "    history_terminal_cpu = [ x.cpu().detach().numpy() for x in train_instance.history_terminal ]\n",
        "    history_initial_cpu = [ x.cpu().detach().numpy() for x in train_instance.history_initial ]\n",
        "    history_nonzero_cpu = [ x.cpu().detach().numpy() for x in train_instance.history_nonzero ]\n",
        "\n",
        "    obs_data = pd.DataFrame({\"Epochs\" : [ (x+1)*train_instance.hook_interval for x in range(len(history_initial_cpu))], \n",
        "                             \"AvgLogLoss\": np.log(history_tl_cpu), \n",
        "                             \"TerminalLogLoss\" :  np.log(history_terminal_cpu),\n",
        "                             \"InternalLogLoss\" :  np.log(history_internal_cpu),\n",
        "                             \"InitialLogLoss\" : np.log(history_initial_cpu),\n",
        "                             \"NonZeroLogLoss\" : np.log(history_nonzero_cpu),\n",
        "                             })\n",
        "\n",
        "    return (ggplot(obs_data, aes(\"Epochs\",\"AvgLogLoss\")) + geom_line() + geom_point(),\n",
        "            ggplot(obs_data, aes(\"Epochs\",\"TerminalLogLoss\")) + geom_line() + geom_point(),\n",
        "            ggplot(obs_data, aes(\"Epochs\",\"InternalLogLoss\")) + geom_line() + geom_point(),\n",
        "            ggplot(obs_data, aes(\"Epochs\",\"InitialLogLoss\")) + geom_line() + geom_point(),\n",
        "            ggplot(obs_data, aes(\"Epochs\",\"NonZeroLogLoss\")) + geom_line() + geom_point(),\n",
        "            )\n",
        "\n",
        "def plot_activation_mean(train_instance):\n",
        "    \n",
        "    # pdb.set_trace()\n",
        "\n",
        "    if train_instance.debug == False:\n",
        "        print( 'error: debug is off , turn it on and train again ' )\n",
        "    else:\n",
        "        history = np.array(train_instance.history_mean_hooks)\n",
        "        jet= plt.get_cmap('jet')\n",
        "        colors = iter(jet(np.linspace(0,1,10)))\n",
        "        fig, ax = plt.subplots()\n",
        "        for i in range(history.shape[1]):\n",
        "            ax.plot(history[:,i], '--r', label= i , color=next(colors) )\n",
        "        fig.suptitle('Layers activation mean value', fontsize=10)\n",
        "        leg = ax.legend();\n"
      ]
    },
    {
      "cell_type": "code",
      "execution_count": null,
      "metadata": {
        "colab": {
          "base_uri": "https://localhost:8080/"
        },
        "id": "QMAuMqdgU9kL",
        "outputId": "4eff2c00-2e39-41b8-9770-58b5e1c82b89"
      },
      "outputs": [
        {
          "output_type": "stream",
          "name": "stdout",
          "text": [
            "time: 2.37 ms (started: 2022-07-10 17:59:19 +00:00)\n"
          ]
        }
      ],
      "source": [
        "# plot_report(train)\n",
        "# plot_activation_mean(train)"
      ]
    },
    {
      "cell_type": "code",
      "execution_count": null,
      "metadata": {
        "colab": {
          "base_uri": "https://localhost:8080/"
        },
        "id": "sCV-yFDXUV4J",
        "outputId": "2621b90d-bcef-438e-feca-8d682d6c9e3c"
      },
      "outputs": [
        {
          "output_type": "stream",
          "name": "stdout",
          "text": [
            "time: 13.2 ms (started: 2022-07-10 17:59:19 +00:00)\n"
          ]
        }
      ],
      "source": [
        "# print( 'Value at 0' , net( torch.tensor( [ 0. , 1. , 1. , 1. ] ).cuda() ) )\n",
        "# #%% save\n",
        "# torch.save(net.state_dict(), './model3Assets')\n",
        "# #%%\n",
        "# net = TheModelClass(*args, **kwargs)\n",
        "# net.load_state_dict(torch.load('./modelmodel3Assets'))\n",
        "# net.eval()"
      ]
    },
    {
      "cell_type": "code",
      "execution_count": null,
      "metadata": {
        "colab": {
          "base_uri": "https://localhost:8080/"
        },
        "id": "ONB5NopRa3fD",
        "outputId": "f7f11d10-a9d3-4c9d-f371-6b63aa2c5379"
      },
      "outputs": [
        {
          "output_type": "stream",
          "name": "stdout",
          "text": [
            "time: 134 ms (started: 2022-07-10 17:59:19 +00:00)\n"
          ]
        }
      ],
      "source": [
        "# a set up that just maximizes the loss s.t. loss < eps (maximizeloss_weights_st) using the weights on the losses\n",
        "from scipy.optimize import LinearConstraint, NonlinearConstraint\n",
        "from scipy.optimize import Bounds\n",
        "from functools import partial\n",
        "from scipy.optimize import minimize\n",
        "from functools import wraps\n",
        "\n",
        "def negative(f):\n",
        "    @wraps(f)\n",
        "    def g(*args,**kwargs):\n",
        "        return - f(*args,**kwargs)\n",
        "    # g.__name__ = f'negative({f.__name__})'\n",
        "    return g\n",
        "# kl_loss = nn.KLDivLoss(size_average=None, reduction=\"batchmean\")\n",
        "\n",
        "# we can add more minimization functions here later (e.g. SS diff)\n",
        "def KLDiffHere( varX, loss_terms, log_target = False, reduction = \"mean\"):  \n",
        "  target = torch.tensor([1./len(loss_terms)]*len(loss_terms))*torch.tensor(loss_terms)\n",
        "  input = torch.tensor(varX*loss_terms)\n",
        "  loss_pointwise = target * (torch.log(target) - torch.log(input))\n",
        "  if reduction == \"mean\":  # default\n",
        "      loss = loss_pointwise.mean()\n",
        "  elif reduction == \"batchmean\":  # mathematically correct\n",
        "      loss = loss_pointwise.sum() / input.size(0)\n",
        "  elif reduction == \"sum\":\n",
        "      loss = loss_pointwise.sum()\n",
        "  else:  # reduction == \"none\"\n",
        "      loss = loss_pointwise  \n",
        "  return loss\n",
        "\n",
        "  # return torch.nn.KLDivLoss(varX*loss_terms,np.array([1./len(loss_terms)]*len(loss_terms))*loss_terms)\n",
        "\n",
        "def minimize_weights_st(loss_terms, loss_func):\n",
        "  bounds = Bounds([0]*len(loss_terms), [1.0]*len(loss_terms))\n",
        "  linear_constraint = LinearConstraint([[1]*len(loss_terms)], [1.0], [1.0])\n",
        "  x0 = [0.25]*len(loss_terms)\n",
        "  res = minimize( partial(loss_func, loss_terms=loss_terms), \n",
        "                  x0, \n",
        "                  method='trust-constr', \n",
        "                  constraints=[linear_constraint],\n",
        "                  options={'verbose': 0}, \n",
        "                  bounds=bounds )\n",
        "  return res\n",
        "\n",
        "def maximizeloss_weights_st(loss_terms, loss_func, eps):\n",
        "  bounds = Bounds([0]*len(loss_terms), [1.0]*len(loss_terms))\n",
        "  linear_constraint = LinearConstraint([[1]*len(loss_terms)], [1.0], [1.0])\n",
        "  nonlinear_constraint  = NonlinearConstraint(negative(partial(loss_func, loss_terms=loss_terms)),1E-9,eps)\n",
        "  # even though zero is the KL minimum it helps to put a negative number here to explore\n",
        "\n",
        "  x0 = [1.0/len(loss_terms)]*len(loss_terms)\n",
        "  res = minimize( negative(partial(loss_func, loss_terms=loss_terms)), \n",
        "                  x0, \n",
        "                  method='trust-constr', \n",
        "                  constraints=[linear_constraint, nonlinear_constraint],\n",
        "                  options={'verbose': 0}, \n",
        "                  bounds=bounds )\n",
        "  return res\n"
      ]
    },
    {
      "cell_type": "code",
      "execution_count": null,
      "metadata": {
        "colab": {
          "base_uri": "https://localhost:8080/"
        },
        "id": "RM0IVdZ_TXW3",
        "outputId": "b61cb6d5-6a28-4f96-caf5-c4a691b14bc0"
      },
      "outputs": [
        {
          "output_type": "stream",
          "name": "stdout",
          "text": [
            "[0.33334757 0.33333761 0.33331482]\n",
            "time: 136 ms (started: 2022-07-10 17:59:20 +00:00)\n"
          ]
        }
      ],
      "source": [
        "r1 = maximizeloss_weights_st( [ 34.25, 100.12, 23.45] , KLDiffHere, 1E9)\n",
        "print(r1.x)"
      ]
    },
    {
      "cell_type": "code",
      "execution_count": null,
      "metadata": {
        "colab": {
          "base_uri": "https://localhost:8080/"
        },
        "id": "ewko67bDIcz9",
        "outputId": "415a56e9-9536-4853-8cb9-37fa12fed8dd"
      },
      "outputs": [
        {
          "output_type": "stream",
          "name": "stdout",
          "text": [
            "time: 19.8 ms (started: 2022-07-10 17:59:20 +00:00)\n"
          ]
        }
      ],
      "source": [
        "### There is an issue getting this to work because of nonlinear_constraint  = NonlinearConstraint(negative(partial(loss_func, loss_terms=loss_terms)),1E-9,eps)\n",
        "\n",
        "    # def calculateLossAdaptWeights(self , size = 2**8 , train = True, min_max = True):\n",
        "    #     '''\n",
        "    #     Helper function that Sample and Calculate loss,\n",
        "    #     This is adapted in that it changes the weights on the losses to maximize the loss provided\n",
        "    #     the KL distance of the new weighting is within self.eps of the previous distribution (starting at equally weighted)\n",
        "    #     '''        \n",
        "    #     x , x_terminal , x_boundary = self.sample(size)\n",
        "    #     x = Variable( x , requires_grad=True)\n",
        "    #     Ls = self.criterion( x , x_terminal , x_boundary )\n",
        "    #     DO , TC , BC = Ls\n",
        "    #     DOm = torch.mean(DO).detach().cpu().float().item()\n",
        "    #     TCm = torch.mean(TC).detach().cpu().float().item()\n",
        "    #     BCm = torch.mean(BC).detach().cpu().float().item()\n",
        "\n",
        "    #     losses_for_reweighting = [ torch.mean(lv).detach().cpu().float().item() for lv in Ls if list(lv.size())] \n",
        "    #     mask_for_available_losses = [ True if list(lv.size()) else False for lv in Ls ]\n",
        "\n",
        "    #     # print([ DOm, TCm, BCm])\n",
        "    #     # if is.nan(DOm):\n",
        "    #     #   print(DO)\n",
        "\n",
        "    #     if self.weights is None:\n",
        "    #       self.weights = torch.ones(1,len(Ls))/len(Ls)\n",
        "\n",
        "    #     # pdb.set_trace()\n",
        "\n",
        "    #     if min_max:\n",
        "    #         r1 = maximizeloss_weights_st( losses_for_reweighting , KLDiffHere, self.eps)\n",
        "    #         candidate_weigths = torch.zeros_like(self.weights).to(torch.device(\"cuda:0\"))\n",
        "    #         candidate_weigths[0][mask_for_available_losses] = torch.tensor(r1.x).to(torch.device(\"cuda:0\")).float()\n",
        "    #         self.weights = candidate_weigths.to(torch.device(\"cuda:0\"))\n",
        "    #         self.weights_tbl.append(self.weights.detach().cpu().numpy())\n",
        "\n",
        "    #     numActive = np.sum([1 if list(lv.size()) else 0 for lv in Ls ])\n",
        "    #     if train == True:\n",
        "    #         return  (self.weights[0,0]*torch.mean(DO) + \n",
        "    #                  self.weights[0,1]*torch.mean(TC) + \n",
        "    #                  self.weights[0,2]*torch.mean(BC)) , \\\n",
        "    #                  self.weights[0,0]*torch.mean(DO) , \\\n",
        "    #                  self.weights[0,1]*torch.mean(TC) , \\\n",
        "    #                  self.weights[0,2]*torch.mean(BC) , \\\n",
        "    #                  (1./numActive*torch.mean(DO) + \n",
        "    #                  1./numActive*torch.mean(TC) + \n",
        "    #                  1./numActive*torch.mean(BC))             \n",
        "    #     else:\n",
        "    #         return  DO , TC , BC\n"
      ]
    },
    {
      "cell_type": "code",
      "execution_count": null,
      "metadata": {
        "colab": {
          "base_uri": "https://localhost:8080/"
        },
        "id": "iyacROFeXgNp",
        "outputId": "d0da1a6d-2565-425a-a66a-c456e21796fe"
      },
      "outputs": [
        {
          "output_type": "stream",
          "name": "stdout",
          "text": [
            "time: 27.3 ms (started: 2022-07-10 17:59:20 +00:00)\n"
          ]
        }
      ],
      "source": [
        "import torch\n",
        "from torch.distributions import Normal\n",
        "\n",
        "std_norm_cdf = Normal(0, 1).cdf\n",
        "std_norm_pdf = lambda x: torch.exp(Normal(0, 1).log_prob(x))\n",
        "\n",
        "def bs_price(right, K, S, T, sigma, r):\n",
        "    d_1 = (1 / (sigma * torch.sqrt(T))) * (torch.log(S / K) + (r + (torch.square(sigma) / 2)) * T)\n",
        "    d_2 = d_1 - sigma * torch.sqrt(T)\n",
        "    \n",
        "    if right == \"C\":\n",
        "        C = std_norm_cdf(d_1) * S - std_norm_cdf(d_2) * K * torch.exp(-r * T)\n",
        "        return C\n",
        "        \n",
        "    elif right == \"P\":\n",
        "        P = std_norm_cdf(-d_2) * K * torch.exp(-r * T) - std_norm_cdf(-d_1) * S\n",
        "        return P"
      ]
    },
    {
      "cell_type": "code",
      "execution_count": null,
      "metadata": {
        "colab": {
          "base_uri": "https://localhost:8080/"
        },
        "id": "sLsA5AvqpMM7",
        "outputId": "8b851d6c-286d-423d-884c-bb7df91a93f1"
      },
      "outputs": [
        {
          "output_type": "stream",
          "name": "stdout",
          "text": [
            "time: 5.77 ms (started: 2022-07-10 17:59:20 +00:00)\n"
          ]
        }
      ],
      "source": [
        "import torch\n",
        "\n",
        "def to_cpu_detach(x):\n",
        "  if isinstance(x, list):\n",
        "    return [ y.detach().cpu().item() for y in x ]\n",
        "  else:\n",
        "    return x.detach().cpu().item()"
      ]
    },
    {
      "cell_type": "code",
      "execution_count": null,
      "metadata": {
        "colab": {
          "base_uri": "https://localhost:8080/"
        },
        "id": "PC-E2SeX46A9",
        "outputId": "65a8a6d6-caad-4fa9-b138-f9e440f2ed9f"
      },
      "outputs": [
        {
          "output_type": "stream",
          "name": "stdout",
          "text": [
            "time: 9.77 ms (started: 2022-07-10 17:59:20 +00:00)\n"
          ]
        }
      ],
      "source": [
        "def huber_loss_zero_target(x, delta = 1.0):\n",
        "  loss_function = torch.nn.HuberLoss(delta=delta)\n",
        "  return loss_function(x, torch.zeros_like(x))\n"
      ]
    },
    {
      "cell_type": "code",
      "execution_count": null,
      "metadata": {
        "colab": {
          "base_uri": "https://localhost:8080/"
        },
        "id": "MNYJyHWpeL66",
        "outputId": "6f229ba7-3d04-4652-e908-1494ee127e12"
      },
      "outputs": [
        {
          "output_type": "stream",
          "name": "stdout",
          "text": [
            "time: 45.7 ms (started: 2022-07-10 17:59:20 +00:00)\n"
          ]
        }
      ],
      "source": [
        "# def save_model_train(lr, net,  eqLossFn, sample_method, trainObj, eqType, eqObject = None ):\n",
        "\n",
        "#   model_id_str =  f\"{eqType}_{datetime.datetime.now():%Y%m%d%H%M%S}_{eqLossFn}_{sample_method}_{trainObj.stop_epoch}_{str(lr).replace('.','p')}_{net.NL}_{net.NN}\"\n",
        "  \n",
        "#   if eqObject is not None:\n",
        "#     try:\n",
        "#         beta = getattr(eqObject,\"beta\")\n",
        "#         beta_str = str(beta).replace('.','p')\n",
        "#         model_id_str = model_id_str + f\"_beta{beta_str}\"\n",
        "#     except AttributeError:\n",
        "#         pass\n",
        "#     try:\n",
        "#         wgamma = getattr(eqObject,\"wgamma\")\n",
        "#         wgamma_str = str(wgamma).replace('.','p')\n",
        "#         model_id_str = model_id_str + f\"_wgamma{wgamma_str}\"\n",
        "#     except AttributeError:\n",
        "#         pass\n",
        "  \n",
        "#   torch.save(net.state_dict(), f\"/content/drive/MyDrive/data_papers/{paper_name}/model_finals/{model_id_str}\")\n",
        "#   df_at_hookintervals = None\n",
        "#   train_losses = None\n",
        "#   validation_losses = None\n",
        "#   try:\n",
        "#       df_at_hookintervals = getattr(trainObj, \"history_surfaces_hooks\")\n",
        "#       if df_at_hookintervals is not None:\n",
        "#         df_at_hookintervals.to_csv(f\"/content/drive/MyDrive/data_papers/{paper_name}/model_checkpoints/validationHook_{trainObj.hook_interval}_{model_id_str}.csv\", index=False)\n",
        "#   except AttributeError:\n",
        "#       print(\"Class `{}` does not have `{}`\".format(trainObj.__class__.__name__, \"history_surfaces_hooks\"))\n",
        "\n",
        "#   try:\n",
        "#       train_losses = getattr(trainObj,\"train_losses\")\n",
        "#       if train_losses is not None:\n",
        "#         train_losses.tofile(f\"/content/drive/MyDrive/data_papers/{paper_name}/model_checkpoints/trainlosses_{model_id_str}.csv\", sep = ',')    \n",
        "#   except AttributeError:\n",
        "#       print(\"Class `{}` does not have `{}`\".format(trainObj.__class__.__name__, \"train_losses\"))\n",
        "#       # raise NotImplementedError(\"Class `{}` does not have `{}`\".format(trainObj.__class__.__name__, \"train_losses\"))\n",
        "\n",
        "#   try:\n",
        "#       validation_losses = getattr(trainObj,\"validation_losses\")\n",
        "#       if validation_losses is not None:\n",
        "#         validation_losses.tofile(f\"/content/drive/MyDrive/data_papers/{paper_name}/model_checkpoints/validationlosses_{model_id_str}.csv\", sep = ',')    \n",
        "#   except AttributeError:\n",
        "#       print(\"Class `{}` does not have `{}`\".format(trainObj.__class__.__name__, \"validation_losses\"))"
      ]
    },
    {
      "cell_type": "code",
      "execution_count": null,
      "metadata": {
        "colab": {
          "base_uri": "https://localhost:8080/"
        },
        "id": "ipogSsVTbv0k",
        "outputId": "273551c6-6661-4b1e-813b-3e6aa9223f33"
      },
      "outputs": [
        {
          "output_type": "stream",
          "name": "stdout",
          "text": [
            "time: 136 ms (started: 2022-07-10 17:59:20 +00:00)\n"
          ]
        }
      ],
      "source": [
        "def save_model_train_stratified(lr, net,  eqLossFn, sample_method, trainObj, eqType, eqObject = None ):\n",
        "\n",
        "  model_id_str =  f\"{eqType}_{datetime.datetime.now():%Y%m%d%H%M%S}_{eqLossFn}_{sample_method}_{trainObj.stop_epoch}_{str(lr).replace('.','p')}_{net.NL}_{net.NN}\"\n",
        "  \n",
        "  if eqObject is not None:\n",
        "    try:\n",
        "        beta = getattr(eqObject,\"beta\")\n",
        "        beta_str = str(beta).replace('.','p')\n",
        "        model_id_str = model_id_str + f\"_beta{beta_str}\"\n",
        "    except AttributeError:\n",
        "        pass\n",
        "    try:\n",
        "        wgamma = getattr(eqObject,\"wgamma\")\n",
        "        wgamma_str = str(wgamma).replace('.','p')\n",
        "        model_id_str = model_id_str + f\"_gamma{wgamma_str}\"\n",
        "    except AttributeError:\n",
        "        pass\n",
        "    try:\n",
        "        xbreaks = getattr(eqObject,\"xbreaks\")\n",
        "        xbreaks_str = str(len(xbreaks))\n",
        "        model_id_str = model_id_str + f\"_StSaXbrks{xbreaks_str}\"\n",
        "    except AttributeError:\n",
        "        pass\n",
        "    try:\n",
        "        tbreaks = getattr(eqObject,\"tbreaks\")\n",
        "        tbreaks_str = str(len(tbreaks))\n",
        "        model_id_str = model_id_str + f\"_StSaTbrks{tbreaks_str}\"\n",
        "    except AttributeError:\n",
        "        pass\n",
        "  \n",
        "  torch.save(net.state_dict(), f\"/content/drive/MyDrive/data_papers/{paper_name}/model_finals/{model_id_str}\")\n",
        "  df_at_hookintervals = None\n",
        "  train_losses = None\n",
        "  validation_losses = None\n",
        "  try:\n",
        "      df_at_hookintervals = getattr(trainObj, \"history_surfaces_hooks\")\n",
        "      if df_at_hookintervals is not None:\n",
        "        df_at_hookintervals.to_csv(f\"/content/drive/MyDrive/data_papers/{paper_name}/model_checkpoints/validationHook_{trainObj.hook_interval}_{model_id_str}.csv\", index=False)\n",
        "  except AttributeError:\n",
        "      print(\"Class `{}` does not have `{}`\".format(trainObj.__class__.__name__, \"history_surfaces_hooks\"))\n",
        "\n",
        "  try:\n",
        "      train_losses = getattr(trainObj,\"train_losses\")\n",
        "      if train_losses is not None:\n",
        "        train_losses.tofile(f\"/content/drive/MyDrive/data_papers/{paper_name}/model_checkpoints/trainlosses_{model_id_str}.csv\", sep = ',')    \n",
        "  except AttributeError:\n",
        "      print(\"Class `{}` does not have `{}`\".format(trainObj.__class__.__name__, \"train_losses\"))\n",
        "      # raise NotImplementedError(\"Class `{}` does not have `{}`\".format(trainObj.__class__.__name__, \"train_losses\"))\n",
        "\n",
        "  try:\n",
        "      validation_losses = getattr(trainObj,\"validation_losses\")\n",
        "      if validation_losses is not None:\n",
        "        validation_losses.tofile(f\"/content/drive/MyDrive/data_papers/{paper_name}/model_checkpoints/validationlosses_{model_id_str}.csv\", sep = ',')    \n",
        "  except AttributeError:\n",
        "      print(\"Class `{}` does not have `{}`\".format(trainObj.__class__.__name__, \"validation_losses\"))"
      ]
    },
    {
      "cell_type": "markdown",
      "metadata": {
        "id": "Tz5tUJuYaXKu"
      },
      "source": [
        "### Merton Invest-Consumption Problem - Equation HJB optimization\n",
        "\n",
        "[Extensions of the Deep Galerkin Method](https://arxiv.org/pdf/1912.01455v3.pdf)"
      ]
    },
    {
      "cell_type": "markdown",
      "metadata": {
        "id": "N-GO35FcJPP6"
      },
      "source": [
        "##### Closed form terminal utility functions"
      ]
    },
    {
      "cell_type": "code",
      "execution_count": null,
      "metadata": {
        "colab": {
          "base_uri": "https://localhost:8080/"
        },
        "id": "0cWoRXs02PoF",
        "outputId": "f58becd8-406e-4009-ab2f-cf58ecce3040"
      },
      "outputs": [
        {
          "output_type": "stream",
          "name": "stdout",
          "text": [
            "time: 6.26 ms (started: 2022-07-10 17:59:20 +00:00)\n"
          ]
        }
      ],
      "source": [
        "def expTerminalUtilityOfWealth(x, gamma_discount = 1):\n",
        "  return(-1*torch.exp(-gamma_discount*x))\n",
        "\n",
        "def expTerminalUtilityOfWealth_np(x, gamma_discount = 1):\n",
        "  return(-np.exp(-gamma_discount*x))\n",
        "\n",
        "from functools import partial\n",
        "\n",
        "# should give a closed form solution for the control => PI(x,t) = [(mu-r)/(gamma*sigma^2)]*exp(-r*(T-t))"
      ]
    },
    {
      "cell_type": "markdown",
      "metadata": {
        "id": "HrivvbmubiiY"
      },
      "source": [
        "#### MertonUtilityNet"
      ]
    },
    {
      "cell_type": "code",
      "execution_count": null,
      "metadata": {
        "colab": {
          "base_uri": "https://localhost:8080/"
        },
        "id": "JRraqOG4aXKx",
        "outputId": "ede98dfa-5f4d-4b5d-9cca-654581808360"
      },
      "outputs": [
        {
          "output_type": "stream",
          "name": "stdout",
          "text": [
            "time: 70.3 ms (started: 2022-07-10 17:59:20 +00:00)\n"
          ]
        }
      ],
      "source": [
        "class MertonUtilityNet(nn.Module):\n",
        "    def __init__(self , NL  , NN, activation = torch.tanh):\n",
        "        super(MertonUtilityNet, self).__init__()\n",
        "        self.NL = NL\n",
        "        self.NN = NN\n",
        "        self.Input = 5  # wealth, time, mu, r, sigma, pi\n",
        "        self.fc_input = nn.Linear(self.Input,self.NN)\n",
        "        torch.nn.init.xavier_uniform_(self.fc_input.weight)\n",
        "        self.linears = nn.ModuleList([nn.Linear(self.NN, self.NN) for i in range(self.NL)])\n",
        "        for i, l in enumerate(self.linears):    \n",
        "            torch.nn.init.xavier_uniform_(l.weight)\n",
        "        self.fc_output = nn.Linear(self.NN,1)\n",
        "        torch.nn.init.xavier_uniform_(self.fc_output.weight)\n",
        "        self.act = activation\n",
        "        \n",
        "    def forward(self, x):\n",
        "        h = self.act(self.fc_input(x))\n",
        "        for i, l in enumerate(self.linears):\n",
        "            h = self.act( l(h) )\n",
        "        out = self.fc_output(h)\n",
        "        return out "
      ]
    },
    {
      "cell_type": "markdown",
      "metadata": {
        "id": "fyFbPZr7I5RE"
      },
      "source": [
        "#### MertonPiNet"
      ]
    },
    {
      "cell_type": "code",
      "execution_count": null,
      "metadata": {
        "colab": {
          "base_uri": "https://localhost:8080/"
        },
        "id": "PR7PHL4KI1S9",
        "outputId": "1f54b443-9b76-4bea-d199-b612c30f0409"
      },
      "outputs": [
        {
          "output_type": "stream",
          "name": "stdout",
          "text": [
            "time: 44.8 ms (started: 2022-07-10 17:59:20 +00:00)\n"
          ]
        }
      ],
      "source": [
        "import torch.nn.functional as F\n",
        "\n",
        "class MertonPiNet(nn.Module):\n",
        "    def __init__(self , NL  , NN, activation = torch.relu  ):\n",
        "        super(MertonPiNet, self).__init__()\n",
        "        self.NL = NL\n",
        "        self.NN = NN\n",
        "        self.Input = 5   # wealth, time, mu, r, sigma\n",
        "        self.fc_input = nn.Linear(self.Input,self.NN)\n",
        "        torch.nn.init.xavier_uniform_(self.fc_input.weight)\n",
        "        self.linears = nn.ModuleList([nn.Linear(self.NN, self.NN) for i in range(self.NL)])\n",
        "        for i, l in enumerate(self.linears):    \n",
        "            torch.nn.init.xavier_uniform_(l.weight)            \n",
        "        # self.fc_output_d = nn.Linear(self.NN, 2)\n",
        "        # self.fc_output = torch.nn.Softmax(dim=1)\n",
        "        self.fc_output = nn.Linear(self.NN, 1)\n",
        "        torch.nn.init.xavier_uniform_(self.fc_output.weight)\n",
        "        self.act = activation\n",
        "        \n",
        "    def forward(self, x):\n",
        "        h = self.act( self.fc_input(x)  )\n",
        "        for i, l in enumerate(self.linears):\n",
        "            h = self.act( l(h) )\n",
        "        # out = self.fc_output_d(h)\n",
        "        out = self.fc_output(h)\n",
        "        return out\n",
        "        "
      ]
    },
    {
      "cell_type": "markdown",
      "metadata": {
        "id": "RNhAbZ727RC_"
      },
      "source": [
        "#### MertonAlternativePiNet\n",
        "\n",
        "[implement from github](https://github.com/Plemeur/DGM/blob/master/first_net.py)"
      ]
    },
    {
      "cell_type": "code",
      "execution_count": null,
      "metadata": {
        "colab": {
          "base_uri": "https://localhost:8080/"
        },
        "id": "_c-dZ5b37NwV",
        "outputId": "04870643-df2a-4e7d-fd53-3d64d42232ae"
      },
      "outputs": [
        {
          "output_type": "stream",
          "name": "stdout",
          "text": [
            "time: 313 ms (started: 2022-07-10 17:59:20 +00:00)\n"
          ]
        }
      ],
      "source": [
        "class LinearWithXavier(nn.Module):\n",
        "    \"\"\" Copy of linear module from Pytorch, modified to have a Xavier init,\n",
        "        TODO : figure out what to do with the bias\"\"\"\n",
        "    def __init__(self, in_features, out_features, bias=True, batch_normalize=True):\n",
        "        super(LinearWithXavier, self).__init__()\n",
        "        self.in_features = in_features\n",
        "        self.out_features = out_features\n",
        "        self.weight = torch.nn.Parameter(torch.Tensor(out_features, in_features))\n",
        "        self.batch_normalize = batch_normalize\n",
        "        \n",
        "        if self.batch_normalize == True:\n",
        "          self.batch_norm = torch.nn.BatchNorm1d(out_features)\n",
        "        \n",
        "        if bias:\n",
        "            self.bias = torch.nn.Parameter(torch.Tensor(out_features))\n",
        "        else:\n",
        "            self.register_parameter('bias', None)\n",
        "        self.reset_parameters()\n",
        "    \n",
        "    def reset_parameters(self):\n",
        "        torch.nn.init.xavier_uniform_(self.weight)\n",
        "        if self.bias is not None:\n",
        "            torch.nn.init.uniform_(self.bias, -1, 1) #boundary matter?\n",
        "    \n",
        "    def forward(self, input):\n",
        "        if self.batch_normalize == True:\n",
        "          return self.batch_norm(torch.nn.functional.linear(input, self.weight, self.bias))\n",
        "        return torch.nn.functional.linear(input, self.weight, self.bias)\n",
        "    \n",
        "    def extra_repr(self):\n",
        "        return 'in_features={}, out_features={}, bias={}'.format(\n",
        "            self.in_features, self.out_features, self.bias is not None\n",
        "        )\n",
        "\n",
        "\n",
        "class DGM_layer(nn.Module):\n",
        "    \"\"\" See readme for paper source\"\"\"\n",
        "    def __init__(self, in_features, out_feature, residual=False, batch_normalize=False):\n",
        "        super(DGM_layer, self).__init__()\n",
        "        self.residual = residual\n",
        "\n",
        "        self.Z = LinearWithXavier(out_feature, out_feature, batch_normalize=batch_normalize)\n",
        "        self.UZ = LinearWithXavier(in_features, out_feature, bias=False, batch_normalize=batch_normalize)\n",
        "        self.G = LinearWithXavier(out_feature, out_feature, batch_normalize=batch_normalize)\n",
        "        self.UG = LinearWithXavier(in_features, out_feature, bias=False, batch_normalize=batch_normalize)\n",
        "        self.R = LinearWithXavier(out_feature, out_feature, batch_normalize=batch_normalize)\n",
        "        self.UR = LinearWithXavier(in_features, out_feature, bias=False, batch_normalize=batch_normalize)\n",
        "        self.H = LinearWithXavier(out_feature, out_feature, batch_normalize=batch_normalize)\n",
        "        self.UH = LinearWithXavier(in_features, out_feature, bias=False, batch_normalize=batch_normalize)\n",
        "\n",
        "    def forward(self, x, s):\n",
        "        z = torch.tanh(self.UZ(x) + self.Z(s))\n",
        "        g = torch.tanh(self.UG(x) + self.G(s))\n",
        "        r = torch.tanh(self.UR(x) + self.R(s))\n",
        "        h = torch.tanh(self.UH(x) + self.H(s * r))\n",
        "        return (1 - g) * h + z * s\n",
        "\n",
        "\n",
        "class MertonAlternativePiNet(nn.Module):\n",
        "\n",
        "    def __init__(self, in_size, out_size, neurons, depth):\n",
        "        super(MertonAlternativePiNet, self).__init__()\n",
        "        self.neurons=neurons\n",
        "        self.depth=depth\n",
        "\n",
        "        self.dim = in_size\n",
        "        self.input_layer = LinearWithXavier(in_size, neurons)\n",
        "        self.middle_layer = nn.ModuleList([DGM_layer(in_size, neurons) for i in range(depth)])\n",
        "        # self.middle_layer_2 = nn.ModuleList([DGM_layer(in_size, neurons, batch_normalize=False) for i in range(2)])\n",
        "        self.final_layer = LinearWithXavier(neurons, out_size, batch_normalize=False)\n",
        "\n",
        "    def forward(self, X):\n",
        "        s = torch.tanh(self.input_layer(X))\n",
        "        for i, layer in enumerate(self.middle_layer):\n",
        "            s = torch.tanh(layer(X, s))\n",
        "        \n",
        "        # for i, layer in enumerate(self.middle_layer_2):\n",
        "        #     s = torch.tanh(layer(X, s))\n",
        "        \n",
        "        # s = torch.nn.functional.gelu(self.input_layer(X))\n",
        "        # for i, layer in enumerate(self.middle_layer):\n",
        "        #     s = torch.nn.functional.elu(layer(X, s))\n",
        "        # for i, layer in enumerate(self.middle_layer):\n",
        "        #     s = torch.nn.functional.gelu(layer(X, s))\n",
        "        # for i, layer in enumerate(self.middle_layer_2):\n",
        "        #     s = torch.nn.functional.gelu(layer(X, s))\n",
        "\n",
        "        return self.final_layer(s)\n"
      ]
    },
    {
      "cell_type": "markdown",
      "metadata": {
        "id": "CNsqOm1ithSG"
      },
      "source": [
        "#### MertonMatchPiNet\n",
        "\n",
        "[Matching Paper by hand](https://arxiv.org/abs/1912.01455v3)"
      ]
    },
    {
      "cell_type": "code",
      "execution_count": null,
      "metadata": {
        "colab": {
          "base_uri": "https://localhost:8080/"
        },
        "id": "REWml4aYthSH",
        "outputId": "84b7c484-7f39-4c4d-aeb6-6463b350c569"
      },
      "outputs": [
        {
          "output_type": "stream",
          "name": "stdout",
          "text": [
            "time: 106 ms (started: 2022-07-10 17:59:21 +00:00)\n"
          ]
        }
      ],
      "source": [
        "class DGMLayerPaper(nn.Module):\n",
        "\n",
        "    def __init__(self, in_features, out_feature, activation=torch.relu, residual=False):\n",
        "        \n",
        "        super(DGMLayerPaper, self).__init__()\n",
        "        self.residual = residual\n",
        "        self.activation = activation\n",
        "\n",
        "        self.Z = LinearWithXavier(out_feature, out_feature) # w.S\n",
        "        self.UZ = LinearWithXavier(in_features, out_feature, bias=True) # u.x\n",
        "        self.G = LinearWithXavier(out_feature, out_feature)\n",
        "        self.UG = LinearWithXavier(in_features, out_feature, bias=True)\n",
        "        self.R = LinearWithXavier(out_feature, out_feature)\n",
        "        self.UR = LinearWithXavier(in_features, out_feature, bias=True)\n",
        "        self.H = LinearWithXavier(out_feature, out_feature) # w.(S(o)R)\n",
        "        self.UH = LinearWithXavier(in_features, out_feature, bias=True)\n",
        "\n",
        "    def forward(self, x, s):\n",
        "        z = self.activation(self.UZ(x) + self.Z(s))\n",
        "        g = self.activation(self.UG(x) + self.G(s))\n",
        "        r = self.activation(self.UR(x) + self.R(s))\n",
        "        h = self.activation(self.UH(x) + self.H(s * r))\n",
        "        return (1 - g) * h + z * s\n",
        "\n",
        "\n",
        "class MertonMatchPiNet(nn.Module):\n",
        "\n",
        "    def __init__(self, in_size, out_size, neurons, depth):\n",
        "        super(MertonMatchPiNet, self).__init__()\n",
        "        self.dim = in_size\n",
        "        self.input_layer = LinearWithXavier(in_size, neurons)\n",
        "        self.middle_layer = nn.ModuleList([DGMLayerPaper(in_size, neurons) for i in range(depth)])\n",
        "        self.final_layer = LinearWithXavier(neurons, out_size)\n",
        "\n",
        "    def forward(self, X):\n",
        "        s = torch.tanh(self.input_layer(X))\n",
        "        for i, layer in enumerate(self.middle_layer):\n",
        "            s = torch.tanh(layer(X, s))\n",
        "\n",
        "        return self.final_layer(s)\n"
      ]
    },
    {
      "cell_type": "markdown",
      "metadata": {
        "id": "wClW1g9rbm8o"
      },
      "source": [
        "#### PiEquation"
      ]
    },
    {
      "cell_type": "code",
      "execution_count": null,
      "metadata": {
        "colab": {
          "base_uri": "https://localhost:8080/"
        },
        "id": "uQTTkUhWuiJi",
        "outputId": "75c45c68-0729-4ce1-f772-cb418158e60a"
      },
      "outputs": [
        {
          "output_type": "stream",
          "name": "stdout",
          "text": [
            "time: 97.4 ms (started: 2022-07-10 17:59:21 +00:00)\n"
          ]
        }
      ],
      "source": [
        "class PiEquation():\n",
        "\n",
        "    def __init__(self, pi_net, du_dx, d2u_dx2, curr_epoch=0):\n",
        "        self.pi_net = pi_net\n",
        "        self.grads = du_dx, d2u_dx2\n",
        "        self.curr_epoch = curr_epoch\n",
        "\n",
        "        #self.wgamma = 0.0001\n",
        "        #seld.du_dx = Variable(du_dx, requires_grad=False)\n",
        "        #self.d2u_dx2 = Variable(d2u_dx2, requires_grad=False)\n",
        "\n",
        "    def criterion(self, x_internal, grads):\n",
        "      \n",
        "      #du_dx = Variable(grads[1], requires_grad=False)   # the derivatives with respect to u are held constant when finding pi \n",
        "      #d2u_dx2 = Variable(grads[2], requires_grad=False) # du_dt is grads[0], not relevant here\n",
        "      du_dx, d2u_dx2 = grads\n",
        "\n",
        "      #print('gradient shapes:', du_dx.shape, d2u_dx2.shape)\n",
        "\n",
        "      pi_net_preds = self.pi_net(x_internal)\n",
        "      pi_net_preds = pi_net_preds.reshape(-1,1)\n",
        "      #print('pi_net prediction shape:', pi_net_preds.shape)\n",
        "      \n",
        "      intC = None\n",
        "      #  time, wealth, mu, r, sigma\n",
        "      if len(x_internal) == 0:\n",
        "        intC_loss = torch.tensor(0).cuda().float()  \n",
        "      else:\n",
        "        \n",
        "        # pi * (mu-r)\n",
        "        loss_1 = pi_net_preds*(x_internal[:,2].reshape(-1,1) - x_internal[:,3].reshape(-1,1))\n",
        "        #print('loss1 shape:', loss_1.shape)\n",
        "        \n",
        "        # r * wealth\n",
        "        loss_2 = x_internal[:,3].reshape(-1,1)*x_internal[:,1].reshape(-1,1)\n",
        "        #print('loss2 shape:', loss_2.shape)\n",
        "        \n",
        "        # sigma^2 * pi^2\n",
        "        loss_3 = (x_internal[:,4].reshape(-1,1)**2)*(pi_net_preds**2)\n",
        "        #print('loss3 shape:', loss_3.shape)\n",
        "        \n",
        "        intC_loss = -(loss_1 +loss_2)*du_dx - 0.5*loss_3*d2u_dx2\n",
        "        #print('total internal loss shape:', intC_loss.shape)\n",
        "\n",
        "      return intC_loss\n",
        "\n",
        "    def calculatePiLoss(self, x_internal, grads, keep_batch = False):\n",
        "        '''\n",
        "        Helper function that Sample and Calculate loss,\n",
        "        '''        \n",
        "        #x_internal = Variable( x_internal , requires_grad=True)\n",
        "        Ls = self.criterion( x_internal, grads)\n",
        "        \n",
        "        if not keep_batch:          \n",
        "          return torch.mean(Ls)           \n",
        "        else:\n",
        "          return Ls"
      ]
    },
    {
      "cell_type": "markdown",
      "metadata": {
        "id": "8RRoBgFQINMv"
      },
      "source": [
        "#### TrainInternalPiWithDGM\n"
      ]
    },
    {
      "cell_type": "code",
      "execution_count": null,
      "metadata": {
        "colab": {
          "base_uri": "https://localhost:8080/"
        },
        "id": "VREn3fanpP1b",
        "outputId": "b19b5dc7-207e-453a-e515-6d37838676b5"
      },
      "outputs": [
        {
          "output_type": "stream",
          "name": "stdout",
          "text": [
            "time: 499 ms (started: 2022-07-10 17:59:21 +00:00)\n"
          ]
        }
      ],
      "source": [
        "class TrainInternalPiWithDGM():\n",
        "    \n",
        "    def __init__(self, u_equation, pi_equation, BATCH_SIZE, epoch, lr, debug = False, loss_multiply = 1.0):\n",
        "        self.BATCH_SIZE = BATCH_SIZE\n",
        "        self.u_model = u_equation        \n",
        "        self.pi_model = pi_equation\n",
        "        \n",
        "        self.debug = debug  \n",
        "        self.hook_interval = 100    \n",
        "        \n",
        "        if self.debug == True:\n",
        "            self.hooks = {}            \n",
        "            self.get_all_layers(self.pi_model.pi_net)\n",
        "\n",
        "        self.optimizer_used = optim.Adam\n",
        "\n",
        "        #self.use_early_stop = False\n",
        "        #self.early_stop_patience = 10\n",
        "        #self.early_stop_delta = 0.0        \n",
        "        #self.best_loss = np.Inf\n",
        "        #self.early_stop_counter = 0\n",
        "\n",
        "        self.stop_epoch = 0\n",
        "\n",
        "        #self.validation_sample = None\n",
        "        #self.validation_losses = None\n",
        "        #self.train_losses = None        \n",
        "\n",
        "        self.epoch = epoch\n",
        "        self.lr = lr\n",
        "\n",
        "        #self.loss_multiply = loss_multiply\n",
        "\n",
        "        \n",
        "    def train(self , eqLossFn = 'calculatePiLoss', sample_method_X = \"U\", sample_batch = None):\n",
        "        \n",
        "        #if self.validation_sample is not None:\n",
        "        #  self.validation_losses = np.ones((self.epoch, 3 ), dtype='float32') * np.nan\n",
        "        \n",
        "        #self.train_losses = np.ones((self.epoch, 1 ), dtype='float32') * np.nan\n",
        "\n",
        "        # set it to train mode\n",
        "        self.pi_model.pi_net.train()\n",
        "        \n",
        "        optimizer = self.optimizer_used(self.pi_model.pi_net.parameters(), self.lr)\n",
        "        if self.u_model.pi_optim_state is not None:\n",
        "            optimizer.load_state_dict(self.u_model.pi_optim_state)  ## check \n",
        "        \n",
        "        #if self.u_model.pi_optim_state is None:\n",
        "        #    optimizer = self.optimizer_used(self.pi_model.pi_net.parameters(), self.lr)\n",
        "        #else:\n",
        "        #    optimizer = self.u_model.pi_optim_state\n",
        "\n",
        "\n",
        "        loss_avg = 0.0\n",
        "        loss_calc_method = None\n",
        "        \n",
        "        try:\n",
        "            loss_calc_method = getattr(self.pi_model, eqLossFn)\n",
        "        except AttributeError:\n",
        "            raise NotImplementedError(\"Class `{}` does not implement `{}`\".format(self.pi_model.__class__.__name__, eqLossFn))\n",
        "        \n",
        "        if sample_batch is None:\n",
        "            sample_batch = self.u_model.sample(sample_method_X = sample_method_X, size=self.BATCH_SIZE)\n",
        "\n",
        "        x_internal, _ = sample_batch\n",
        "\n",
        "        for e in range(self.epoch):\n",
        "\n",
        "            optimizer.zero_grad()\n",
        "  \n",
        "\n",
        "            loss  = 1e4 * loss_calc_method(x_internal, self.pi_model.grads, keep_batch = False )            \n",
        "            # print(f\"Pi Net Epoch {e} Loss {round(loss.item(),5)}\")\n",
        "            \n",
        "            #self.train_losses[e,:] = [ to_cpu_detach(loss) ]\n",
        "\n",
        "            #if self.debug == True and (self.validation_sample is not None):\n",
        "            #  losses_L2_validation, losses_ABS_validation, losses_Huber_valiation = loss_calc_method( self.validation_sample, \n",
        "            #                                                                                         loss_transforms = [ torch.square, torch.abs, partial(huber_loss_zero_target, delta=0.5) ], \n",
        "            #                                                                                         keep_batch = False )\n",
        "            #  validation_loss_list = [*to_cpu_detach(losses_L2_validation),\n",
        "            #                          *to_cpu_detach(losses_ABS_validation),\n",
        "            #                          *to_cpu_detach(losses_Huber_valiation)]\n",
        "            #  self.validation_losses[e,:] = validation_loss_list\n",
        "            #\n",
        "            #if self.use_early_stop:\n",
        "            #  loss_to_check = loss\n",
        "            #  if loss_to_check < (self.best_loss-self.early_stop_delta):\n",
        "            #    self.best_loss = loss_to_check\n",
        "            #    self.early_stop_counter = 0\n",
        "            #  else:\n",
        "            #    self.early_stop_counter += 1\n",
        "            #  if self.early_stop_counter>=self.early_stop_patience:\n",
        "            #    # print(f\"Pi Early Stop at epoch {e}: {loss_to_check} with patience {self.early_stop_patience}\")\n",
        "            #    break\n",
        "            \n",
        "            \n",
        "            loss_avg = loss_avg + float(loss.item())\n",
        "\n",
        "            # print('self.epoch:', e)\n",
        "            loss.backward()\n",
        "            # for param in self.pi_model.pi_net.parameters():\n",
        "            #   print('pi grad', param.grad)\n",
        "            optimizer.step()\n",
        "            \n",
        "            #if (e % self.hook_interval == (self.hook_interval-1)) or e == 0:\n",
        "            if (self.pi_model.curr_epoch % self.hook_interval == (self.hook_interval-1)) and e==0:\n",
        "\n",
        "                loss_avg = loss_avg/self.hook_interval\n",
        "                #print(\"Unet Epoch {} - Pi Epoch {} - lr {} -  key loss: {}\".format(self.pi_model.curr_epoch, e , self.lr , loss_avg))\n",
        "                print(\"Pi Epoch {} - lr {} -  key loss: {}\".format(self.pi_model.curr_epoch, self.lr , loss_avg))\n",
        "                loss_avg = 0.0\n",
        "        \n",
        "        self.u_model.pi_optim_state = optimizer.state_dict()\n",
        "        self.stop_epoch = e\n",
        "\n",
        "    def hook_fn(self, m, i, o):\n",
        "              self.hooks[m] = o.detach()\n",
        "            \n",
        "    def get_all_layers(self, net):\n",
        "      for name, layer in net._modules.items():\n",
        "          if isinstance(layer, nn.ModuleList):\n",
        "              for n , l in layer.named_children():\n",
        "                l.register_forward_hook(self.hook_fn)\n",
        "          else:\n",
        "              # it's a non sequential. Register a hook\n",
        "              layer.register_forward_hook(self.hook_fn)\n"
      ]
    },
    {
      "cell_type": "markdown",
      "metadata": {
        "id": "hp4BG1ewKF6o"
      },
      "source": [
        "#### MertonEquation"
      ]
    },
    {
      "cell_type": "code",
      "execution_count": null,
      "metadata": {
        "cellView": "code",
        "colab": {
          "base_uri": "https://localhost:8080/"
        },
        "id": "LBMZYQSPaXKy",
        "outputId": "f4a2d969-c59e-4df2-f85c-608ff5bf6579"
      },
      "outputs": [
        {
          "output_type": "stream",
          "name": "stdout",
          "text": [
            "time: 3.13 s (started: 2022-07-10 17:59:21 +00:00)\n"
          ]
        }
      ],
      "source": [
        "import math\n",
        "\n",
        "class MertonEquation():\n",
        "    \n",
        "    def __init__(self , u_net, pi_net, pi_net_epoch, pi_net_lr, term_utility_function = partial(expTerminalUtilityOfWealth, gamma_discount=1)):\n",
        "\n",
        "        self.u_net = u_net\n",
        "        self.pi_net = pi_net\n",
        "\n",
        "        self.wgamma = 0.0001\n",
        "        self.term_utility_func = term_utility_function\n",
        "        self.xbreaks = None\n",
        "        self.tbreaks = None\n",
        "\n",
        "        self.MAX_X = 1.0\n",
        "        self.T = 1.0\n",
        "        self.MAX_MU = 0.2\n",
        "        self.MAX_SIGMA = 0.5\n",
        "\n",
        "        self.pi_net_epoch = pi_net_epoch\n",
        "        self.pi_net_lr = pi_net_lr\n",
        "        #self.loss_multiply = 1.0\n",
        "\n",
        "        #self.FORCE_MU = None\n",
        "        #self.FORCE_R = None\n",
        "        #self.FORCE_SIGMA = None\n",
        "\n",
        "        self.epoch_of_u = None\n",
        "        #self.adapt_pi_epochs = False\n",
        "        #self.start_adapt_epochs = [ [500, 1000, 2000, 5000, 10000, 15000 ], [4, 8, 10 ,20, 40, 60] ]\n",
        "        #self.was_loss_beaten = False\n",
        "        self.pi_optim_state = None\n",
        "\n",
        "        #self.pi_net.train()\n",
        "\n",
        "    def g(self,x):\n",
        "        # Time, Wealth, Mu, R, Sigma\n",
        "        return self.term_utility_func(x[:,1].reshape(-1,1))\n",
        "\n",
        "    @staticmethod\n",
        "    def to_device(x, to_cpu):\n",
        "      if to_cpu:\n",
        "        return x.cpu()\n",
        "      else:\n",
        "        return x.cuda()\n",
        "\n",
        "    def mu_r_sample(self, size):\n",
        "      mu_candidate = self.MAX_MU * torch.rand([size, 1])\n",
        "      r_candidate = mu_candidate * torch.rand([size, 1])  # ensuring that r is lower than mu\n",
        "      return mu_candidate, r_candidate\n",
        "\n",
        "      # r_sample = torch.where(r_candidate < mu_candidate, r_candidate, mu_candidate)\n",
        "      # mu_sample = torch.where(r_candidate > mu_candidate, r_candidate, mu_candidate)\n",
        "      # return (mu_sample, r_sample)\n",
        "\n",
        "    def apply_forced_mu_r_sigma(self, mu_sample, r_sample, sigma_sample):\n",
        "      if self.FORCE_MU is not None:\n",
        "         mu_sample = self.FORCE_MU*torch.ones_like(mu_sample)            \n",
        "      if self.FORCE_R is not None:\n",
        "        r_sample = self.FORCE_R*torch.ones_like(r_sample)\n",
        "      if self.FORCE_SIGMA is not None:\n",
        "        sigma_sample = self.FORCE_SIGMA*torch.ones_like(sigma_sample)\n",
        "      return mu_sample, r_sample, sigma_sample\n",
        "\n",
        "\n",
        "    def sample(self , sample_method_X = \"U\", size = 2**8, to_cpu = False ):\n",
        "        '''\n",
        "        Sampling function\n",
        "        '''\n",
        "        if sample_method_X in [\"U\"]:\n",
        "            #range_multiplier = 1.0\n",
        "            \n",
        "            ### internal samples of Time, Wealth, Mu, R, Sigma\n",
        "            mu_sample_internal, r_sample_internal = self.mu_r_sample(size)\n",
        "            sigma_sample_internal =  0.2 + self.MAX_SIGMA * (1. - torch.rand([size, 1]))\n",
        "            #mu_sample_internal, r_sample_internal, sigma_sample_internal = self.apply_forced_mu_r_sigma(mu_sample_internal, r_sample_internal, sigma_sample_internal)\n",
        "            x_internal = self.to_device(torch.cat(( (1 - torch.rand([size,1])) * self.T, # time to maturity\n",
        "                                                    self.MAX_X * (1 - torch.rand([size, 1])), # Wealth\n",
        "                                                    mu_sample_internal, # mu\n",
        "                                                    r_sample_internal, # R\n",
        "                                                    sigma_sample_internal # Sigma\n",
        "                                                   ) , dim = 1 ),to_cpu)\n",
        "            ### Terminal time samples\n",
        "            mu_sample_terminal, r_sample_terminal = self.mu_r_sample(size)\n",
        "            sigma_sample_terminal =  0.2 + self.MAX_SIGMA * (1. - torch.rand([size, 1]))\n",
        "            #mu_sample_terminal, r_sample_terminal, sigma_sample_terminal = self.apply_forced_mu_r_sigma(mu_sample_terminal, r_sample_terminal, sigma_sample_terminal)\n",
        "            x_terminal = self.to_device(torch.cat(( torch.zeros(size, 1), # time to maturity\n",
        "                                                   self.MAX_X * (1 - torch.rand([size, 1])), # Wealth\n",
        "                                                    mu_sample_terminal, # mu\n",
        "                                                    r_sample_terminal, # R\n",
        "                                                    sigma_sample_terminal # Sigma\n",
        "                                                   ) , dim = 1 ),to_cpu)\n",
        "            \n",
        "            # x_initial = torch.cat( ( torch.zeros(size, 1), -self.MAX_X*range_multiplier*torch.rand([size, 1])+self.MAX_X*range_multiplier) , dim = 1 ).cuda()\n",
        "            return x_internal , x_terminal\n",
        "\n",
        "        raise ValueError(f\"{sample_method_X} is not a supported sampling method\")\n",
        "        \n",
        "    def sample_stratified(self , sample_method_X = \"U\", size = 2**8, to_cpu = False ):\n",
        "\n",
        "      if self.xbreaks is None and self.tbreaks is None:\n",
        "        return self.sample(sample_method_X, size, to_cpu)\n",
        "\n",
        "      internal_strata_xts = []\n",
        "      terminal_strata_xts = []\n",
        "      \n",
        "      if sample_method_X in [\"U\"]:\n",
        "          range_multiplier = 1.0\n",
        "          xbreaks_used = self.xbreaks[:] if self.xbreaks is not None else [0,range_multiplier*self.MAX_X]\n",
        "          tbreaks_used = self.tbreaks[:] if self.tbreaks is not None else [0,self.T]\n",
        "          if xbreaks_used[-1] < range_multiplier*self.MAX_X:\n",
        "            xbreaks_used.append(range_multiplier*self.MAX_X)\n",
        "          while xbreaks_used[0] < 0.0:\n",
        "            xbreaks_used.pop(0)\n",
        "          if not xbreaks_used:\n",
        "            xbreaks_used = [0,range_multiplier*self.MAX_X]\n",
        "          if xbreaks_used[0] > 0.0:            \n",
        "            xbreaks_used.insert(0, 0.0)\n",
        "\n",
        "          if tbreaks_used[-1] < self.T:\n",
        "            tbreaks_used.append(self.T)\n",
        "          xbreaks_range = xbreaks_used[-1]-xbreaks_used[0]\n",
        "          tbreaks_range = tbreaks_used[-1]-tbreaks_used[0]\n",
        "\n",
        "          total_strat_processed = 0\n",
        "\n",
        "          # internal samples\n",
        "          for stratum_x_count in range(len(xbreaks_used)-1):\n",
        "              \n",
        "            num_samples_in_stratum = 0\n",
        "            if len(xbreaks_used) > 2:  # x division takes priority so assign it if there is no T division\n",
        "              range_ratio_x_stratum = (xbreaks_used[stratum_x_count+1]-xbreaks_used[stratum_x_count])/xbreaks_range\n",
        "              num_samples_in_stratum = math.ceil(range_ratio_x_stratum*size)\n",
        "\n",
        "            for stratum_t_count in range(len(self.tbreaks)-1):\n",
        "\n",
        "              if num_samples_in_stratum == 0: # there is only a T division, so use it\n",
        "                range_ratio_t_stratum = (tbreaks_used[stratum_t_count+1]-tbreaks_used[stratum_t_count])/tbreaks_range\n",
        "                num_samples_in_stratum = math.ceil(range_ratio_t_stratum*size)\n",
        "              else:\n",
        "                # there is both an X and a T division, assign the number of samples uniformly, assuming same scale of X and T\n",
        "                stratum_coverage_on_unit_square = \\\n",
        "                  ((xbreaks_used[stratum_x_count+1]-xbreaks_used[stratum_x_count])/xbreaks_range)*\\\n",
        "                  ((tbreaks_used[stratum_t_count+1]-tbreaks_used[stratum_t_count])/tbreaks_range)\n",
        "                num_samples_in_stratum = math.ceil(stratum_coverage_on_unit_square * size)\n",
        "\n",
        "              range_multiplier = 1.0\n",
        "\n",
        "              ### internal samples of Time, Wealth, Mu, R, Sigma\n",
        "              internal_stratum_t_sample = tbreaks_used[stratum_t_count] + torch.rand([num_samples_in_stratum,1])*(tbreaks_used[stratum_t_count+1]-tbreaks_used[stratum_t_count])\n",
        "              internal_stratum_x_sample = xbreaks_used[stratum_x_count] + torch.rand([num_samples_in_stratum,1])*(xbreaks_used[stratum_x_count+1]-xbreaks_used[stratum_x_count])\n",
        "              stratum_mu_sample_internal, stratum_r_sample_internal = self.mu_r_sample(num_samples_in_stratum, range_multiplier)\n",
        "              stratum_sigma_sample_internal = -self.MAX_SIGMA*range_multiplier*torch.rand([num_samples_in_stratum, 1])+self.MAX_SIGMA*range_multiplier\n",
        "              stratum_mu_sample_internal, stratum_r_sample_internal, stratum_sigma_sample_internal = \\\n",
        "                self.apply_forced_mu_r_sigma(stratum_mu_sample_internal, stratum_r_sample_internal, stratum_sigma_sample_internal)\n",
        "              x_internal_stratum = self.to_device(torch.cat(( internal_stratum_t_sample , # Time\n",
        "                                                              internal_stratum_x_sample, # Wealth\n",
        "                                                              stratum_mu_sample_internal, # mu\n",
        "                                                              stratum_r_sample_internal, # R\n",
        "                                                               # Sigma\n",
        "                                                            ) , dim = 1 ),to_cpu)\n",
        "              if not internal_strata_xts: \n",
        "                internal_strata_xts = [ x_internal_stratum ] \n",
        "              else:\n",
        "                internal_strata_xts.append(x_internal_stratum) \n",
        "\n",
        "              ### Terminal time samples\n",
        "              terminal_stratum_x_sample = xbreaks_used[stratum_x_count] + torch.rand([num_samples_in_stratum,1])*(xbreaks_used[stratum_x_count+1]-xbreaks_used[stratum_x_count])\n",
        "              stratum_mu_sample_terminal, stratum_r_sample_terminal = self.mu_r_sample(num_samples_in_stratum, range_multiplier)\n",
        "              stratum_sigma_sample_terminal = -self.MAX_SIGMA*range_multiplier*torch.rand([num_samples_in_stratum, 1])+self.MAX_SIGMA*range_multiplier\n",
        "              stratum_mu_sample_terminal, stratum_r_sample_terminal, stratum_sigma_sample_terminal = \\\n",
        "                self.apply_forced_mu_r_sigma(stratum_mu_sample_terminal, stratum_r_sample_terminal, stratum_sigma_sample_terminal)\n",
        "              x_terminal_stratum = self.to_device(torch.cat(( torch.zeros(num_samples_in_stratum, 1) + self.T , # Time\n",
        "                                                      terminal_stratum_x_sample, # Wealth\n",
        "                                                      stratum_mu_sample_terminal, # mu\n",
        "                                                      stratum_r_sample_terminal, # R\n",
        "                                                      stratum_sigma_sample_terminal # Sigma\n",
        "                                                    ) , dim = 1 ),to_cpu)\n",
        "              if not terminal_strata_xts:\n",
        "                terminal_strata_xts = [ x_terminal_stratum ] # terminal_stratum_xt[None,:,:]\n",
        "              else:\n",
        "                terminal_strata_xts.append(x_terminal_stratum) # torch.vstack((terminal_strata_xts,terminal_stratum_xt[None,:,: ]))\n",
        "\n",
        "              total_strat_processed += 1 \n",
        "              # print((len(internal_strata_xts),xbreaks_used[stratum_x_count],tbreaks_used[stratum_t_count]))\n",
        "\n",
        "          # pdb.set_trace()\n",
        "          # x_initial = torch.cat( ( torch.zeros(size, 1), -self.MAX_X*range_multiplier*torch.rand([size, 1])+self.MAX_X*range_multiplier) , dim = 1 ).cuda()\n",
        "          return internal_strata_xts , terminal_strata_xts\n",
        "    \n",
        "      raise ValueError(f\"{sample_method_X} is not a supported sampling method\")\n",
        "\n",
        "    def get_num_pi_epochs(self):\n",
        "      #if self.adapt_pi_epochs and self.was_loss_beaten:\n",
        "      #  if any([ i < self.epoch_of_u for i in self.start_adapt_epochs[0] ]):\n",
        "      #    return self.pi_net_epoch * self.start_adapt_epochs[1][[i for i in range(len(self.start_adapt_epochs[0])) if self.start_adapt_epochs[0][i] < self.epoch_of_u][-1]] \n",
        "      \n",
        "      return self.pi_net_epoch\n",
        "\n",
        "    def get_utility_function_derivatives(self, u_net_val, x_internal, normalize=False):\n",
        "        du = torch.autograd.grad( u_net_val, \n",
        "                                  x_internal, \n",
        "                                  grad_outputs=torch.ones_like(u_net_val),\n",
        "                                  create_graph=True)\n",
        "        \n",
        "        du_dt = du[0][:,0].reshape(-1,1)\n",
        "        du_dx = du[0][:,1].reshape(-1,1)     \n",
        "\n",
        "        d2u_dx2 = torch.autograd.grad(du_dx, \n",
        "                                      x_internal , \n",
        "                                      grad_outputs=torch.ones_like(du_dx),\n",
        "                                      create_graph=True, allow_unused=True\n",
        "                                      )[0][:,1].reshape(-1,1)\n",
        "        \n",
        "        return du_dt, du_dx, d2u_dx2\n",
        "    \n",
        "    def Pi_star(self, x, gamma=1):\n",
        "        lamda = (x[:,2].reshape(-1,1) - x[:,3].reshape(-1,1))/x[:,4].reshape(-1,1)\n",
        "        return lamda / (gamma * x[:,4].reshape(-1,1)) * torch.exp(-1. * x[:,3].reshape(-1,1)*x[:,0].reshape(-1,1))\n",
        "\n",
        "        \n",
        "    def Htx(self, x, gamma=1):\n",
        "      # 3.6a in https://arxiv.org/abs/1912.01455v3\n",
        "      #  wealth * gamma * exp(r*tau)\n",
        "      part_a = x[:,1].reshape(-1,1)*gamma*torch.exp(x[:,3].reshape(-1,1) * x[:,0].reshape(-1,1))\n",
        "      #  0.5* tau *[(mu - r)/sigma]^2\n",
        "      part_b = 0.5 * x[:,0].reshape(-1,1) * ((x[:,2].reshape(-1,1) - x[:,3].reshape(-1,1))/(x[:,4].reshape(-1,1)))**2 \n",
        "      return -1.0*torch.exp(-part_a - part_b)\n",
        "\n",
        "    \n",
        "    def dHdx(self, x, gamma=1):\n",
        "        \n",
        "        return self.Htx(x) * (-1 * gamma*torch.exp(x[:,3].reshape(-1,1) * x[:,0].reshape(-1,1)))\n",
        "\n",
        "    \n",
        "    def d2Hdx2(self, x, gamma=1):\n",
        "        \n",
        "        return self.Htx(x) * gamma**2 * torch.exp(2* x[:,3].reshape(-1,1) * x[:,0].reshape(-1,1))\n",
        "\n",
        "\n",
        "    def criterion(self, x_internal, x_terminal, loss_transforms = [torch.square], util_network=None):\n",
        "        '''\n",
        "        Loss function that helps network find solution to equation\n",
        "        '''   \n",
        "        # Time / Wealth / Mu / r / Sigma (sample data order)\n",
        "        # pdb.set_trace()\n",
        "        \n",
        "        u_net_val = util_network(x_internal)\n",
        "        #print(torch.mean(u_net_val), torch.min(u_net_val), torch.max(u_net_val))\n",
        "\n",
        "        \n",
        "        # Trying to used a correct solution to see Pi convergence\n",
        "        #u_net_val = self.Htx(x_internal)\n",
        "        #du_dx, d2u_dx2 = self.dHdx(x_internal), self.d2Hdx2(x_internal)\n",
        "        #du_dt = torch.zeros_like(du_dx)\n",
        "\n",
        "\n",
        "        du_dt, du_dx, d2u_dx2 = self.get_utility_function_derivatives(u_net_val, x_internal)\n",
        "        #print('Unet derivatives shape:', du_dt.shape, du_dx.shape, d2u_dx2.shape)\n",
        "\n",
        "\n",
        "        pi_model = PiEquation(self.pi_net, du_dx.detach(), d2u_dx2.detach())\n",
        "        pi_model.curr_epoch = self.epoch_of_u              \n",
        "        \n",
        "        pi_trainer = TrainInternalPiWithDGM(self, pi_model, \n",
        "                                            x_internal.shape[0], \n",
        "                                            self.get_num_pi_epochs(), \n",
        "                                            self.pi_net_lr, \n",
        "                                            debug=True, \n",
        "                                            loss_multiply=1.0)\n",
        "        #pi_trainer.use_early_stop = True\n",
        "        #pi_trainer.early_stop_patience = min(20,math.ceil(self.pi_net_epoch/10.0))\n",
        "        \n",
        "        pi_trainer.train(sample_batch=(x_internal, x_terminal))\n",
        "        \n",
        "\n",
        "        if loss_transforms is None:\n",
        "          loss_transforms = [torch.square]\n",
        "\n",
        "        intC = None\n",
        "        terC = None\n",
        "\n",
        "        if len(x_internal) == 0:\n",
        "          intC = [ torch.tensor(0).cuda().float() for loss_transform in loss_transforms ] \n",
        "        else:\n",
        "          # Time, Wealth, Mu, R, Sigma\n",
        "          \n",
        "          pi_net_preds = self.pi_net(x_internal)\n",
        "          #pi_net_preds = (x_internal[:,2].reshape(-1,1) - x_internal[:,3].reshape(-1,1)) / (x_internal[:,4].reshape(-1,1) ** 2) * (du_dx / d2u_dx2)\n",
        "          \n",
        "          pi_net_preds = pi_net_preds.detach().reshape(-1,1)\n",
        "          #print('Pi net prediction inside Unet:', pi_net_preds.shape)\n",
        "\n",
        "          # pi*(mu-r)\n",
        "          intC_loss_1 = pi_net_preds*(x_internal[:,2].reshape(-1,1) - x_internal[:,3].reshape(-1,1)) \n",
        "          #print('interim loss1 in unet shape:', intC_loss_1.shape)\n",
        "          \n",
        "          # r * wealth\n",
        "          intC_loss_2 = x_internal[:,3].reshape(-1,1)*x_internal[:,1].reshape(-1,1)  \n",
        "          #print('interim loss2 in unet shape:', intC_loss_2.shape)\n",
        "          \n",
        "          # sigma^2 * pi^2\n",
        "          intC_loss_3 = (x_internal[:,4].reshape(-1,1)**2)*(pi_net_preds**2)\n",
        "          #print('interim loss3 in unet shape:', intC_loss_3.shape)\n",
        "          \n",
        "          # it is minus in front of time derivative as it is time to maturity instead of elapsed time\n",
        "          intC_loss = -du_dt + (intC_loss_1 + intC_loss_2)*du_dx + 0.5*intC_loss_3*d2u_dx2\n",
        "          \n",
        "          #print(torch.mean(intC_loss), torch.min(intC_loss), torch.max(intC_loss))\n",
        "          #print('interim total loss in unet shape:', intC_loss.shape)\n",
        "\n",
        "          intC = [ loss_transform(intC_loss) for loss_transform in loss_transforms ] \n",
        "        \n",
        "        \n",
        "        #print('Terminal condition shapes:')\n",
        "        #print(self.g(x_terminal).shape)\n",
        "        #print(util_network(x_terminal).shape)\n",
        "\n",
        "        terC = [ loss_transform(self.g(x_terminal) - util_network(x_terminal)) for loss_transform in loss_transforms ]\n",
        "        \n",
        "        # print('mean d2u_dx2:', d2u_dx2.mean(),'max d2u_dx2:', d2u_dx2.max())\n",
        "        # print('mean du_dx:', du_dx.mean(),'max du_dx:', d2u_dx2.max())\n",
        "        # print('mean du_dt:', du_dt.mean(),'max d2u_dx2:', d2u_dx2.max())\n",
        "        \n",
        "        return intC, terC\n",
        "\n",
        "    def calculateLoss(self, batch_x, train = True, loss_transforms = [ torch.square ], keep_batch = False, util_network=None):\n",
        "        '''\n",
        "        Helper function that Sample and Calculate loss,\n",
        "        '''        \n",
        "        # pdb.set_trace()\n",
        "        x_internal , x_terminal = batch_x\n",
        "        x_internal = Variable( x_internal , requires_grad=True)\n",
        "        \n",
        "        #x_terminal = Variable( x_terminal , requires_grad=True)\n",
        "        # print('MertonEquation calling self.criterion')\n",
        "        Ls = self.criterion(x_internal , x_terminal, loss_transforms = loss_transforms, util_network=util_network)\n",
        "        intC, terC = Ls\n",
        "\n",
        "        return_losses = []\n",
        "        # print('internal Loss', torch.mean(intC[0]))\n",
        "        # print('external Loss', torch.mean(terC[0]))\n",
        "\n",
        "        for lc in range(len(loss_transforms)):\n",
        "          if not keep_batch:\n",
        "            loss_equalWeightedByType = torch.mean(intC[lc]) + torch.mean(terC[lc])\n",
        "            return_losses.append( [ 1e4 * loss_equalWeightedByType , \n",
        "                                    1e4 * torch.mean(intC[lc]) , \n",
        "                                    1e4 * torch.mean(terC[lc])\n",
        "                                   ] )            \n",
        "          else:\n",
        "            return_losses.append( [intC.numpy(), terC.numpy()] )\n",
        "        return return_losses\n",
        "\n",
        "    def calculateLossUsingKLMinMax(self , batch_x , train = True, loss_transforms = [ torch.square ], keep_batch = False):\n",
        "        '''\n",
        "        Helper function that Samples and Calculate loss,\n",
        "        This is adapted in that it changes the weights on the losses\n",
        "        and the distribution of sampling to maximize the loss provided \n",
        "        the KL distance of the loss is within positive constraints\n",
        "        beta represents the constraints on the weights\n",
        "        gamma represents the constraints on the sampling distribution\n",
        "        (each representing an upper bound the KL distribution)\n",
        "        '''        \n",
        "        # x , x_terminal , x_initial = self.sample(sample_method_X, size)\n",
        "        x , x_terminal = batch_x\n",
        "        x = Variable( x, requires_grad=True)\n",
        "        Ls = self.criterion( x , x_terminal , loss_transforms = loss_transforms)\n",
        "        intC , terC = Ls\n",
        "\n",
        "        if self.weights is None:\n",
        "          self.weights = torch.ones(1,len(Ls)).to(intC[0].device)/len(Ls)\n",
        "        \n",
        "        return_losses = []\n",
        "        for lc in range(len(loss_transforms)):\n",
        "          if not keep_batch:\n",
        "            intCt = self.weights[0,0] * torch.pow((1.0/intC[lc].numel() if intC[lc].numel() > 0 else 0.0) * torch.sum( torch.exp(self.beta * intC[lc])), self.gamma/self.beta) \n",
        "            terCt = self.weights[0,1] * torch.pow((1.0/terC[lc].numel() if terC[lc].numel() > 0 else 0.0) * torch.sum( torch.exp(self.beta * terC[lc])), self.gamma/self.beta) \n",
        "            loss_equalWeightedByType = 100*torch.mean(intC[lc]) + 0.5*torch.mean(terC[lc]) \n",
        "            transformed_loss = 1.0/self.gamma * torch.log(intCt + terCt)\n",
        "            return_losses.append( [ transformed_loss , \n",
        "                                    100*torch.mean(intC[lc]) , 0.5*torch.mean(terC[lc]),\n",
        "                                    loss_equalWeightedByType ] )            \n",
        "          else:\n",
        "            return_losses.append( [intC[lc].numpy(), terC[lc].numpy()] )\n",
        "        return return_losses\n",
        "\n",
        "\n",
        "    def calculateLossKLMinMaxGamma(self , batch_x , train = True, loss_transforms = [ torch.square ], keep_batch = False):\n",
        "        '''\n",
        "        Helper function that Samples and Calculate loss,\n",
        "        This is adapted in that it changes the weights on the losses\n",
        "        and the distribution of sampling to maximize the loss provided \n",
        "        the KL distance of the loss is within positive constraints\n",
        "        beta represents the constraints on the weights\n",
        "        gamma represents the constraints on the sampling distribution\n",
        "        (each representing an upper bound the KL distribution)\n",
        "        '''        \n",
        "        # x , x_terminal , x_initial = self.sample(sample_method_X, size)\n",
        "        x , x_terminal  = batch_x\n",
        "        x = Variable( x, requires_grad=True)\n",
        "        Ls = self.criterion( x , x_terminal, loss_transforms = loss_transforms)\n",
        "        intC , terC  = Ls\n",
        "\n",
        "        if self.weights is None:\n",
        "          self.weights = torch.ones(1,len(Ls)).to(intC[0].device)/len(Ls)\n",
        "        \n",
        "        return_losses = []\n",
        "        for lc in range(len(loss_transforms)):\n",
        "          if not keep_batch:\n",
        "            intCt = self.weights[0,0] * (1.0/intC[lc].numel() if intC[lc].numel() > 0 else 0.0) * torch.sum( torch.exp(self.gamma * intC[lc])) \n",
        "            terCt = self.weights[0,1] * (1.0/terC[lc].numel() if terC[lc].numel() > 0 else 0.0) * torch.sum( torch.exp(self.gamma * terC[lc])) \n",
        "            loss_equalWeightedByType = 0.5*torch.mean(intC[lc]) + 0.5*torch.mean(terC[lc]) \n",
        "            transformed_loss = 1.0/self.gamma * torch.log(intCt + terCt )\n",
        "            return_losses.append( [ transformed_loss , \n",
        "                                    0.5*torch.mean(intC[lc]) , 0.5*torch.mean(terC[lc]),\n",
        "                                    loss_equalWeightedByType ] )            \n",
        "          else:\n",
        "            return_losses.append( [intC[lc].numpy(), terC[lc].numpy()] )\n",
        "        return return_losses\n",
        "\n",
        "    "
      ]
    },
    {
      "cell_type": "markdown",
      "metadata": {
        "id": "vkqBrz2JplP9"
      },
      "source": [
        "#### Save info from run"
      ]
    },
    {
      "cell_type": "code",
      "execution_count": null,
      "metadata": {
        "colab": {
          "base_uri": "https://localhost:8080/"
        },
        "id": "bDHKw-yFpqMl",
        "outputId": "3d748bcd-3ac8-4978-c67e-2e159cbadff7"
      },
      "outputs": [
        {
          "output_type": "stream",
          "name": "stdout",
          "text": [
            "time: 49.1 ms (started: 2022-07-10 17:59:25 +00:00)\n"
          ]
        }
      ],
      "source": [
        "def save_model_train(training, eqObject, lr, eqLossFn, sample_method, loss, batch_size, epoch): \n",
        "\n",
        "  model_id_base_str =  f\"{eqObject.__class__.__name__}_{datetime.datetime.now():%Y%m%d%H%M%S}_{batch_size}_{str(torch.round(loss,decimals=2)).replace('.','p')}\"\n",
        "  model_id_base_str = model_id_base_str + f\"_{eqLossFn}_{sample_method}_{epoch}_{str(lr).replace('.','p')}\"  \n",
        "  model_id_base_str = model_id_base_str + f\"_U{eqObject.u_net.neurons}_U{eqObject.u_net.depth}_P{eqObject.pi_net.neurons}_P{eqObject.pi_net.depth}\"\n",
        "  \n",
        "  torch.save(eqObject.u_net.state_dict(),  f\"/content/drive/MyDrive/data_papers/{paper_name}/model_checkpoints/{model_id_base_str}_U\")\n",
        "  torch.save(eqObject.pi_net.state_dict(), f\"/content/drive/MyDrive/data_papers/{paper_name}/model_checkpoints/{model_id_base_str}_P\")\n",
        "\n",
        "  df_at_hookintervals = None\n",
        "  train_losses = None\n",
        "  validation_losses = None\n",
        "  try:\n",
        "      df_at_hookintervals = getattr(training, \"history_surfaces_hooks\")\n",
        "      if df_at_hookintervals is not None:\n",
        "        df_at_hookintervals.to_csv(f\"/content/drive/MyDrive/data_papers/{paper_name}/model_checkpoints/validationHook_{training.hook_interval}_{model_id_base_str}.csv\", index=False)\n",
        "  except AttributeError:\n",
        "      print(\"Class `{}` does not have `{}`\".format(training.__class__.__name__, \"history_surfaces_hooks\"))\n",
        "\n",
        "  try:\n",
        "      train_losses = getattr(training,\"train_losses\")\n",
        "      if train_losses is not None:\n",
        "        train_losses.tofile(f\"/content/drive/MyDrive/data_papers/{paper_name}/model_checkpoints/trainlosses_{model_id_base_str}.csv\", sep = ',')    \n",
        "  except AttributeError:\n",
        "      print(\"Class `{}` does not have `{}`\".format(training.__class__.__name__, \"train_losses\"))\n",
        "      # raise NotImplementedError(\"Class `{}` does not have `{}`\".format(trainObj.__class__.__name__, \"train_losses\"))\n",
        "\n",
        "  try:\n",
        "      validation_losses = getattr(training,\"validation_losses\")\n",
        "      if validation_losses is not None:\n",
        "        validation_losses.tofile(f\"/content/drive/MyDrive/data_papers/{paper_name}/model_checkpoints/validationlosses_{model_id_base_str}.csv\", sep = ',')    \n",
        "  except AttributeError:\n",
        "      print(\"Class `{}` does not have `{}`\".format(training.__class__.__name__, \"validation_losses\"))\n",
        "\n",
        "  import numpy as np\n",
        "\n",
        "  training_dict = dict({ \"BATCH_SIZE\" : training.BATCH_SIZE,\n",
        "                         \"use_early_stop\" : training.use_early_stop,\n",
        "                        \"early_stop_patience\" : training.early_stop_patience,\n",
        "                        \"early_stop_delta\" : training.early_stop_delta,\n",
        "                        \"monitored_loss_type\" : training.monitored_loss_type,\n",
        "                        \"use_early_stop\" : training.use_early_stop,\n",
        "                        \"stop_epoch\" : training.stop_epoch            })\n",
        "  equation_dict = dict({ \"wgamma\" : eqObject.wgamma,\n",
        "                        \"xbreaks\" : eqObject.xbreaks,\n",
        "                        \"tbreaks\" : eqObject.tbreaks,\n",
        "                        \"MAX_X\" : eqObject.MAX_X,\n",
        "                        \"T\" : eqObject.T,\n",
        "                        \"MAX_MU\" : eqObject.MAX_MU,\n",
        "                        \"MAX_SIGMA\" : eqObject.MAX_SIGMA,\n",
        "                        \"pi_net_epoch\" : eqObject.pi_net_epoch,\n",
        "                        \"wgamma\" : eqObject.wgamma,\n",
        "                        \"pi_net_lr\" : eqObject.pi_net_lr,\n",
        "                        \"loss_multiply\" : eqObject.loss_multiply,\n",
        "                        \"epoch_of_u\" : eqObject.epoch_of_u,\n",
        "                        \"adapt_pi_epochs\" : eqObject.adapt_pi_epochs,\n",
        "                        \"start_adapt_epochs\" : eqObject.start_adapt_epochs,\n",
        "                        \"was_loss_beaten\" : eqObject.was_loss_beaten  })\n",
        "\n",
        "  np.save(f\"/content/drive/MyDrive/data_papers/{paper_name}/model_checkpoints/trainingDict_{model_id_base_str}.npy\", training_dict)\n",
        "  np.save(f\"/content/drive/MyDrive/data_papers/{paper_name}/model_checkpoints/equationDict_{model_id_base_str}.npy\", equation_dict) \n"
      ]
    },
    {
      "cell_type": "markdown",
      "metadata": {
        "id": "65nooklCbsdy"
      },
      "source": [
        "#### TrainHJBMertonWithDGM"
      ]
    },
    {
      "cell_type": "code",
      "execution_count": null,
      "metadata": {
        "colab": {
          "base_uri": "https://localhost:8080/"
        },
        "id": "OtO8fV7oaXK2",
        "outputId": "5a489201-c911-4611-a7eb-bdac63bd0d6a"
      },
      "outputs": [
        {
          "output_type": "stream",
          "name": "stdout",
          "text": [
            "time: 1.21 s (started: 2022-07-10 17:59:25 +00:00)\n"
          ]
        }
      ],
      "source": [
        "class TrainHJBMertonWithDGM():\n",
        "    \n",
        "    def __init__(self , net , equation , BATCH_SIZE , debug = False):\n",
        "        \n",
        "        #self.history_mean_hooks = [] \n",
        "        #self.history_surfaces_hooks = None       \n",
        "        #self.history_tl = []\n",
        "        #self.history_internal = []\n",
        "        #self.history_terminal = []\n",
        "        #self.history_initial = []              \n",
        "        #self.history_nonzero = []\n",
        "        self.BATCH_SIZE = BATCH_SIZE\n",
        "        self.net = net\n",
        "        self.model = equation        \n",
        "        self.debug = debug  \n",
        "        self.hook_interval = 20      \n",
        "        if self.debug == True:\n",
        "            self.hooks = {}            \n",
        "            self.get_all_layers(self.net)\n",
        "\n",
        "        self.optimizer_used = optim.Adam\n",
        "\n",
        "        #self.use_early_stop = False\n",
        "        #self.early_stop_patience = 10\n",
        "        #self.early_stop_delta = 0.0        \n",
        "        #self.best_loss = np.Inf\n",
        "        #self.monitored_loss_type = \"Train_L2\"\n",
        "        #self.early_stop_counter = 0\n",
        "        self.stop_epoch = 0\n",
        "        #self.validation_sample = None\n",
        "        #self.validation_losses = None\n",
        "        #self.train_losses = None        \n",
        "        \n",
        "    \n",
        "    def Htx(self, x, gamma=1):\n",
        "      # 3.6a in https://arxiv.org/abs/1912.01455v3\n",
        "      #  wealth * gamma * exp(r*tau)\n",
        "      part_a = x[:,1].reshape(-1,1)*gamma*torch.exp(x[:,3].reshape(-1,1) * x[:,0].reshape(-1,1))\n",
        "      #  0.5* tau *[(mu - r)/sigma]^2\n",
        "      part_b = 0.5 * x[:,0].reshape(-1,1) * ((x[:,2].reshape(-1,1) - x[:,3].reshape(-1,1))/(x[:,4].reshape(-1,1)))**2 \n",
        "      return -1.0*torch.exp(-part_a - part_b)\n",
        "\n",
        "    \n",
        "    def Pi_star(self, x, gamma=1):\n",
        "        lamda = (x[:,2].reshape(-1,1) - x[:,3].reshape(-1,1))/x[:,4].reshape(-1,1)\n",
        "        return lamda / (gamma * x[:,4].reshape(-1,1)) * torch.exp(-1. * x[:,3].reshape(-1,1)*x[:,0].reshape(-1,1))\n",
        "\n",
        "    def train(self, \n",
        "              epoch, \n",
        "              lr, \n",
        "              eqLossFn = 'calculateLoss', \n",
        "              sample_method_X = \"U\", \n",
        "              key_loss_func = torch.square, \n",
        "              huber_delta = 0.5):\n",
        "        \n",
        "        #if self.validation_sample is not None:\n",
        "        #  self.validation_losses = np.ones((epoch, 3*4 ), dtype='float32') * np.nan\n",
        "        #self.train_losses = np.ones((epoch, 3 ), dtype='float32') * np.nan\n",
        "        \n",
        "        self.net.train()\n",
        "        optimizer = self.optimizer_used(self.net.parameters(), lr)\n",
        "        \n",
        "        loss_avg = 0.0\n",
        "        loss_calc_method = None\n",
        "        try:\n",
        "            loss_calc_method = getattr(self.model, eqLossFn)\n",
        "        except AttributeError:\n",
        "            raise NotImplementedError(\"Class `{}` does not implement `{}`\".format(self.model.__class__.__name__, eqLossFn))\n",
        "        \n",
        "        #self.model.adapt_pi_epochs = True\n",
        "\n",
        "        # self.epoch_of_u = None\n",
        "        # self.adapt_pi_epochs = False\n",
        "        # self.start_adapt_epochs = [ [500, 1000, 2000, 5000 ], [4, 8, 10 ,20] ]\n",
        "        # self.was_loss_beaten = False\n",
        "\n",
        "\n",
        "        #full_dataset = self.model.sample(sample_method_X = sample_method_X, size=100000)\n",
        "        #full_batch_internal = DataLoader(full_dataset[0], batch_size=self.BATCH_SIZE)\n",
        "        #full_batch_terminal = DataLoader(full_dataset[1], batch_size=self.BATCH_SIZE)\n",
        "\n",
        "        for e in tqdm(range(epoch)):\n",
        "\n",
        "            loss_avg = 0.0\n",
        "            loss_int_avg = 0.0\n",
        "            i = 0\n",
        "            \n",
        "            full_dataset = self.model.sample(sample_method_X = sample_method_X, size=self.BATCH_SIZE)\n",
        "            full_batch_internal = DataLoader(full_dataset[0], batch_size=self.BATCH_SIZE)\n",
        "            full_batch_terminal = DataLoader(full_dataset[1], batch_size=self.BATCH_SIZE)\n",
        "\n",
        "            for sample_int, sample_term in zip(full_batch_internal, full_batch_terminal):\n",
        "                sample_batch = sample_int, sample_term \n",
        "\n",
        "            #batch_size_used = self.BATCH_SIZE\n",
        "            #if self.model.was_loss_beaten and self.model.adapt_pi_epochs:\n",
        "            #  batch_size_used = self.BATCH_SIZE*20\n",
        "            #sample_batch = self.model.sample(sample_method_X = sample_method_X, size=batch_size_used)\n",
        "\n",
        "                optimizer.zero_grad()\n",
        "\n",
        "                self.model.epoch_of_u = e\n",
        "                losses_L2 = loss_calc_method(sample_batch, loss_transforms = [key_loss_func], keep_batch=False, util_network=self.net )\n",
        "                \n",
        "                # pdb.set_trace()\n",
        "                loss, internal, terminal = losses_L2[0]\n",
        "\n",
        "            #    self.train_losses[e,:] = [ to_cpu_detach(loss), to_cpu_detach(internal), to_cpu_detach(terminal)]\n",
        "            #                           to_cpu_detach(loss_abs) , to_cpu_detach(internal_abs) , to_cpu_detach(terminal_abs), \n",
        "            #                           to_cpu_detach(losses_equalWeightedByType_abs)]\n",
        "\n",
        "            #if self.debug == True and (self.validation_sample is not None):\n",
        "            #  losses_L2_validation, losses_ABS_validation, losses_Huber_valiation = loss_calc_method( self.validation_sample, \n",
        "            #                                                                                         loss_transforms = [ torch.square, torch.abs, partial(huber_loss_zero_target, delta=huber_delta) ], \n",
        "            #                                                                                         keep_batch = False,\n",
        "            #                                                                                         util_network =self.net)\n",
        "            #  validation_loss_list = [*to_cpu_detach(losses_L2_validation),\n",
        "            #                          *to_cpu_detach(losses_ABS_validation),\n",
        "            #                          *to_cpu_detach(losses_Huber_valiation)]\n",
        "              # validation_loss_list = validation_loss_list.pop(5) # the L2 loss is duplicated at index 1\n",
        "            #  self.validation_losses[e,:] = validation_loss_list\n",
        "              # pdb.set_trace()\n",
        "              # print(f\"Epoch {e} - Pi Pred (0.47) {self.model.pi_net(self.validation_sample[0]).item()}\")\n",
        "\n",
        "            \n",
        "            #if self.use_early_stop or self.model.adapt_pi_epochs:\n",
        "            #  loss_to_check = losses_equalWeightedByType\n",
        "            #  if self.monitored_loss_type == \"Train_L2\":\n",
        "            #    pass\n",
        "            #  elif self.monitored_loss_type == \"Train_L1\":             \n",
        "            #    loss_to_check = losses_equalWeightedByType_abs\n",
        "            #  elif self.monitored_loss_type == \"Train_MAXL2\":             \n",
        "            #    loss_to_check = max_loss_L2\n",
        "\n",
        "            #  if loss_to_check < (self.best_loss-self.early_stop_delta):\n",
        "            #    self.best_loss = loss_to_check\n",
        "            #    if self.model.was_loss_beaten and self.model.adapt_pi_epochs:\n",
        "            #      self.model.was_loss_beaten = False  # this was an increased batch for longer run, so we discount the loss here\n",
        "            #      if self.model.adapt_pi_epochs and e>(self.model.start_adapt_epochs[0][0]):\n",
        "            #        save_model_train(self, self.model, lr, eqLossFn, sample_method, self.best_loss, batch_size_used, e)  # but we still store it\n",
        "            #    else:\n",
        "            #      self.model.was_loss_beaten = True\n",
        "            #    self.early_stop_counter = 0\n",
        "            #    # print(f\"New Loss to beat for early Stop at epoch {e}, original loss: {losses_equalWeightedByType} with patience {self.early_stop_patience}\")\n",
        "            #  else:\n",
        "            #    self.early_stop_counter += 1\n",
        "            #    self.model.was_loss_beaten = False\n",
        "            #  if self.early_stop_counter>=self.early_stop_patience and self.use_early_stop:\n",
        "            #    print(f\"Early Stop at epoch {e}, {self.monitored_loss_type}: {loss_to_check} with patience {self.early_stop_patience}\")\n",
        "            #    break\n",
        "            \n",
        "            \n",
        "                loss_avg = loss_avg + float(loss.item())\n",
        "                loss_int_avg = loss_int_avg + float(internal.item())\n",
        "                loss.backward()\n",
        "\n",
        "                optimizer.step()\n",
        "                i += 1\n",
        "\n",
        "            if (e % self.hook_interval == (self.hook_interval-1)) or e == 0:\n",
        "\n",
        "                loss_avg = loss_avg / i\n",
        "                loss_int_avg = loss_int_avg / i\n",
        "                \n",
        "                #sample_batch = self.model.sample(sample_method_X = sample_method_X, size=self.BATCH_SIZE)\n",
        "                #x_internal , x_terminal = sample_batch\n",
        "                \n",
        "                # pdb.set_trace()\n",
        "                # print(f\"Epoch {e} - lr {lr} - Pi Weight {self.model.pi_net.fc_output.weight[0][0]} - key loss: {round(loss.item(),5)} - eqWeighted loss: {round(losses_equalWeightedByType.item(),5)} - L1 loss {round(loss_abs.item(),5)} - Max Loss {round(max_loss_L2.item(),5)}\")\n",
        "                # print(f\"Epoch {e} - lr {lr} - Pi Weight {self.model.pi_net.fc_output.weight[0][0]} - key loss: {round(loss.item(),5)} - eqWeighted loss: {round(losses_equalWeightedByType.item(),5)} - L1 loss {round(loss_abs.item(),5)} - Max Loss {round(max_loss_L2.item(),5)}\")\n",
        "                #print(f\"Epoch {e} - lr {lr} - key loss: {round(loss.item(),5)} - eqWeighted loss: {round(losses_equalWeightedByType.item(),5)} - L1 loss {round(loss_abs.item(),5)} - Max Loss {round(max_loss_L2.item(),5)}\")\n",
        "                #print('internal loss:', internal , 'terminal loss:', terminal)\n",
        "\n",
        "                print(\"Unet Epoch {} - lr {} - Total Loss: {} - Internal Loss: {} - Terminal Loss: {}\".format(e , lr , loss_avg, loss_int_avg, loss_avg - loss_int_avg))\n",
        "\n",
        "\n",
        "                # plot the fitted value function vs the closed form (ideally straight line...)\n",
        "                #u_internal_sample = x_internal.clone()\n",
        "                #mask = (u_internal_sample[:,0] > 0.1) & (u_internal_sample[:,4] > 0.1)\n",
        "                #u_internal_sample = u_internal_sample[mask.reshape(-1),:]\n",
        "                \n",
        "                #gamma = 1\n",
        "                #time = u_internal_sample[:,0].cpu().detach()\n",
        "                #wealth = u_internal_sample[:,1].cpu().detach()\n",
        "                #mu = u_internal_sample[:,2].cpu().detach()\n",
        "                #r = u_internal_sample[:,3].cpu().detach()\n",
        "                #sigma = u_internal_sample[:,4].cpu().detach()\n",
        "                \n",
        "                #u_internal_sample = Variable(u_internal_sample, requires_grad=True)\n",
        "                #unet_preds = self.net(u_internal_sample)\n",
        "                #du_dt, du_dx, d2u_dx2 = self.model.get_utility_function_derivatives(unet_preds, u_internal_sample)\n",
        "                \n",
        "                #pi_pred_example = self.model.pi_net(u_internal_sample.detach())\n",
        "                \n",
        "                #print('mean pi', pi_pred_example.mean(), 'max pi', pi_pred_example.max(), 'min pi', pi_pred_example.min())\n",
        "                #print('mean d2u_dx2:', d2u_dx2.mean(),'max abs d2u_dx2:', torch.abs(d2u_dx2).max(), 'min abs d2u_dx2:', torch.abs(d2u_dx2).min())\n",
        "                #print('mean du_dx:', du_dx.mean(),'max abs du_dx:', torch.abs(du_dx).max(), 'min abs du_dx:', torch.abs(du_dx).min())\n",
        "                #print('mean du_dt:', du_dt.mean(),'max abs d2u_dx2:', torch.abs(du_dt).max(), 'min abs d2u_dx2:', torch.abs(du_dt).min())\n",
        "\n",
        "                #u_net_results = unet_preds.detach().cpu().numpy().reshape(-1).tolist()\n",
        "                #htx_results = self.Htx(u_internal_sample, gamma).cpu().detach().numpy().reshape(-1).tolist()\n",
        "                #dataf2 = pd.DataFrame( { 'u_net': u_net_results, 'closed_form': htx_results } )\n",
        "                \n",
        "                #print(ggplot(dataf2, aes(x='u_net', y='closed_form')) + geom_point())\n",
        "                \n",
        "                #dataf = pd.DataFrame( { 'pi_net': self.model.pi_net(u_internal_sample).cpu().detach().numpy().reshape(-1).tolist(), \n",
        "                #       'closed_form': (((mu-r)/(gamma*(sigma**2)))*np.exp(-r*(1.0-time))).numpy().tolist() } )\n",
        "\n",
        "                #print(ggplot(dataf, aes(x='pi_net', y='closed_form')) + geom_point())\n",
        "                # loss_avg = 0\n",
        "                ## report detailed loss ## ## puting inside no grad??? for memory optimization!\n",
        "                # tl , dl , il , bl, _ = self.model.calculateLoss( 2**6 )  # note that this is the standard loss!!\n",
        "\n",
        "                #self.history_tl.append( loss_avg )\n",
        "                #self.history_internal.append( internal )\n",
        "                #self.history_terminal.append( terminal )\n",
        "                \n",
        "                #if self.debug == True and (self.validation_sample is not None):\n",
        "                #    mean = []\n",
        "                #    for l in self.hooks:\n",
        "                #        mean.append(torch.mean( self.hooks[l] ).item())\n",
        "                #    self.history_mean_hooks.append( mean )\n",
        "                #    xinternal, xterminal = self.validation_sample\n",
        "                #    xinternal_before, xinternal_expanded = attach_pi_used(xinternal, self.model.pi_net, requires_grad=False)\n",
        "                #    xterminal_before, xterminal_expanded = attach_pi_used(xterminal, self.model.pi_net, requires_grad=False)\n",
        "\n",
        "                #    xinternal_res = self.model.u_net(xinternal_expanded).detach()\n",
        "                #    xterminal_res = self.model.u_net(xterminal_expanded).detach()\n",
        "\n",
        "                    # pdb.set_trace()\n",
        "                #    df_internal = self.create_result_df(e, xinternal, xinternal_res, \"INTERNAL\")\n",
        "                #    df_terminal = self.create_result_df(e, xterminal, xterminal_res, \"TERMINAL\")\n",
        "                    \n",
        "                #    if self.history_surfaces_hooks is None:\n",
        "                #      self.history_surfaces_hooks = pd.concat([df_internal, df_terminal],axis=0)\n",
        "                #    else:\n",
        "                #      self.history_surfaces_hooks = pd.concat([self.history_surfaces_hooks,pd.concat([df_internal, df_terminal],axis=0) ], axis=0)\n",
        "\n",
        "        self.stop_epoch = e\n",
        "\n",
        "    def hook_fn(self, m, i, o):\n",
        "      self.hooks[m] = o.detach()\n",
        "            \n",
        "    def get_all_layers(self, net):\n",
        "      for name, layer in net._modules.items():\n",
        "          if isinstance(layer, nn.ModuleList):\n",
        "              for n , l in layer.named_children():\n",
        "                l.register_forward_hook(self.hook_fn)\n",
        "          else:\n",
        "              # it's a non sequential. Register a hook\n",
        "              layer.register_forward_hook(self.hook_fn)\n",
        "    \n",
        "    def create_result_df(self, e, xsample, xsample_res, sample_type):\n",
        "      df_xsample = pd.DataFrame(xsample.cpu().numpy(), columns = [\"Time\", \"S1\", \"Mu\", \"R\", \"Sigma\"])\n",
        "      df_xsample[\"Epoch\"] = e\n",
        "      df_xsample[\"Sample\"] = sample_type\n",
        "      df_xsample[\"Result\"] = xsample_res.cpu().numpy()\n",
        "      return df_xsample\n",
        "\n",
        "    def train_stratified(self , epoch , lr, \n",
        "                         eqLossFn = 'calculateLoss', \n",
        "                         sample_method_X = \"U\", \n",
        "                         key_loss_func = torch.square, \n",
        "                         huber_delta = 0.5\n",
        "                         ):\n",
        "        \n",
        "        self.validation_losses = np.ones((epoch, 3*3 ), dtype='float32') * np.nan\n",
        "        self.train_losses = np.ones((epoch, 3*2 + 1), dtype='float32') * np.nan\n",
        "        optimizer = self.optimizer_used(self.net.parameters(), lr)\n",
        "        # optimizer = optim.SGD(self.net.parameters(), lr)\n",
        "        loss_avg = 0.0\n",
        "        loss_calc_method = None\n",
        "        try:\n",
        "            loss_calc_method = getattr(self.model, eqLossFn)\n",
        "        except AttributeError:\n",
        "            raise NotImplementedError(\"Class `{}` does not implement `{}`\".format(self.model.__class__.__name__, eqLossFn))\n",
        "        \n",
        "        for e in range(epoch):\n",
        "            optimizer.zero_grad()\n",
        "            # pdb.set_trace()\n",
        "            internal_xts_bts, terminal_xts_bts = self.model.sample_stratified(sample_method_X = sample_method_X, size=self.BATCH_SIZE)\n",
        "            validation_stratum_losses = None #np.array([])#.reshape(1,self.validation_losses.shape[1])\n",
        "            training_stratum_losses = None # np.array([])#.reshape(1,self.train_losses.shape[1])  \n",
        "            training_value_to_optimize = torch.tensor(0.0,requires_grad=True)           \n",
        "            \n",
        "            # pdb.set_trace()\n",
        "            for stratum_count in range(len(internal_xts_bts)):              \n",
        "              sample_batch = (internal_xts_bts[stratum_count], \n",
        "                              terminal_xts_bts[stratum_count])  \n",
        "\n",
        "              # pdb.set_trace()\n",
        "              stratum_losses_L2, stratum_losses_ABS = loss_calc_method(sample_batch, \n",
        "                                                                       loss_transforms = [ key_loss_func, torch.abs ], \n",
        "                                                                       keep_batch = False )\n",
        "              # if np.isnan(stratum_losses_L2[0].detach().cpu().item()):\n",
        "              #   pdb.set_trace()\n",
        "              #   pass\n",
        "            \n",
        "              if training_stratum_losses is not None:\n",
        "                training_stratum_losses = torch.vstack([training_stratum_losses, torch.tensor([*to_cpu_detach(stratum_losses_L2), *to_cpu_detach(stratum_losses_ABS)]) ]) \n",
        "              else:\n",
        "                training_stratum_losses = torch.tensor([*stratum_losses_L2, *stratum_losses_ABS], requires_grad=False) \n",
        "\n",
        "              # pdb.set_trace()  \n",
        "              training_value_to_optimize = training_value_to_optimize + stratum_losses_L2[0]\n",
        "\n",
        "            # pdb.set_trace()              \n",
        "            training_loss_for_epoch = torch.sum(training_stratum_losses,0)\n",
        "            loss = training_value_to_optimize\n",
        "\n",
        "            loss_optimized , internal , terminal, losses_equalWeightedByType, \\\n",
        "            loss_abs , internal_abs , terminal_abs ,losses_equalWeightedByType_abs = training_loss_for_epoch            \n",
        "            max_loss_L2 = torch.max(torch.tensor([internal , terminal ]))\n",
        "\n",
        "            self.train_losses[e,:] = training_loss_for_epoch.detach().numpy()\n",
        "\n",
        "            if self.debug == True and (self.validation_sample is not None):\n",
        "              losses_L2_validation, losses_ABS_validation, losses_Huber_valiation = \\\n",
        "                loss_calc_method( self.validation_sample, \n",
        "                                  loss_transforms = [ torch.square, torch.abs, partial(huber_loss_zero_target, delta=huber_delta) ], \n",
        "                                  keep_batch = False )\n",
        "              validation_loss = [*to_cpu_detach(losses_L2_validation),\n",
        "                                              *to_cpu_detach(losses_ABS_validation),\n",
        "                                              *to_cpu_detach(losses_Huber_valiation)]\n",
        "              # validation_loss = validation_loss.pop(5) # the L2 loss is duplicated at index 1                \n",
        "              self.validation_losses[e,:] = validation_loss\n",
        "\n",
        "            if self.use_early_stop:\n",
        "              loss_to_check = losses_equalWeightedByType\n",
        "              if self.monitored_loss_type == \"Train_L2\":\n",
        "                pass\n",
        "              elif self.monitored_loss_type == \"Train_L1\":             \n",
        "                loss_to_check = losses_equalWeightedByType_abs\n",
        "              elif self.monitored_loss_type == \"Train_MAXL2\":             \n",
        "                loss_to_check = max_loss_L2\n",
        "              if loss_to_check < (self.best_loss-self.early_stop_delta):\n",
        "                self.best_loss = loss_to_check\n",
        "                self.early_stop_counter = 0\n",
        "                # print(f\"New Loss to beat for early Stop at epoch {e}, original loss: {losses_equalWeightedByType} with patience {self.early_stop_patience}\")\n",
        "              else:\n",
        "                self.early_stop_counter += 1\n",
        "              if self.early_stop_counter>=self.early_stop_patience:\n",
        "                print(f\"Early Stop at epoch {e}, {self.monitored_loss_type}: {loss_to_check} with patience {self.early_stop_patience}\")\n",
        "                break\n",
        "\n",
        "            loss_avg = loss_avg + float(loss.item())\n",
        "            loss.backward()\n",
        "\n",
        "            optimizer.step()\n",
        "            if (e % self.hook_interval == (self.hook_interval-1)) or e == 0:\n",
        "                loss_avg = loss_avg/self.hook_interval\n",
        "                print(\"Epoch {} - lr {} -  key loss: {} - eqWeighted loss: {} - L1 loss {} - Max Loss {}\".format(e , lr , loss, losses_equalWeightedByType, loss_abs, max_loss_L2 ))\n",
        "                print('internal loss:', internal , 'terminal loss:', terminal)\n",
        "                # loss_avg = 0\n",
        "                ## report detailed loss ## ## puting inside no grad??? for memory optimization!\n",
        "                # tl , dl , il , bl, _ = self.model.calculateLoss( 2**6 )  # note that this is the standard loss!!\n",
        "                self.history_tl.append( loss_avg )\n",
        "                self.history_internal.append( internal )\n",
        "                self.history_terminal.append( terminal )\n",
        "                if self.debug == True and (self.validation_sample is not None):\n",
        "                    mean = []\n",
        "                    for l in self.hooks:\n",
        "                        mean.append(torch.mean( self.hooks[l] ).item())\n",
        "                    self.history_mean_hooks.append( mean )\n",
        "                    xinternal, xterminal, xinitial, xnonzero = self.validation_sample\n",
        "                    xinternal_res = self.model.net(xinternal).detach()\n",
        "                    xterminal_res = self.model.net(xterminal).detach()\n",
        "\n",
        "                    # pdb.set_trace()\n",
        "                    df_internal = self.create_result_df(e, xinternal, xinternal_res, \"INTERNAL\")\n",
        "                    df_terminal = self.create_result_df(e, xterminal, xterminal_res, \"TERMINAL\")\n",
        "                    \n",
        "                    if self.history_surfaces_hooks is None:\n",
        "                      self.history_surfaces_hooks = pd.concat([df_internal, df_terminal],axis=0)\n",
        "                    else:\n",
        "                      self.history_surfaces_hooks = pd.concat([self.history_surfaces_hooks,pd.concat([df_internal, df_terminal],axis=0) ], axis=0)\n",
        "\n",
        "        self.stop_epoch = e\n"
      ]
    },
    {
      "cell_type": "markdown",
      "metadata": {
        "id": "oy05I1QFh7EM"
      },
      "source": [
        "### Test Case"
      ]
    },
    {
      "cell_type": "code",
      "execution_count": null,
      "metadata": {
        "colab": {
          "base_uri": "https://localhost:8080/"
        },
        "id": "Tf-VoPhf2AJu",
        "outputId": "60ec9ee1-b172-477d-f02e-46306c2179e9"
      },
      "outputs": [
        {
          "output_type": "stream",
          "name": "stderr",
          "text": [
            "  0%|          | 2/10000 [00:00<14:08, 11.78it/s]"
          ]
        },
        {
          "output_type": "stream",
          "name": "stdout",
          "text": [
            "Unet Epoch 0 - lr 0.001 - Total Loss: 13933.87109375 - Internal Loss: 2817.010986328125 - Terminal Loss: 11116.860107421875\n"
          ]
        },
        {
          "output_type": "stream",
          "name": "stderr",
          "text": [
            "  1%|          | 100/10000 [00:10<23:06,  7.14it/s]"
          ]
        },
        {
          "output_type": "stream",
          "name": "stdout",
          "text": [
            "Pi Epoch 99 - lr 0.001 -  key loss: -3.2058395385742187\n",
            "Unet Epoch 99 - lr 0.001 - Total Loss: 2181.150390625 - Internal Loss: 951.0221557617188 - Terminal Loss: 1230.1282348632812\n"
          ]
        },
        {
          "output_type": "stream",
          "name": "stderr",
          "text": [
            "  2%|▏         | 202/10000 [00:17<08:21, 19.54it/s]"
          ]
        },
        {
          "output_type": "stream",
          "name": "stdout",
          "text": [
            "Pi Epoch 199 - lr 0.001 -  key loss: -15.02324951171875\n",
            "Unet Epoch 199 - lr 0.001 - Total Loss: 2043.8809814453125 - Internal Loss: 738.7630615234375 - Terminal Loss: 1305.117919921875\n"
          ]
        },
        {
          "output_type": "stream",
          "name": "stderr",
          "text": [
            "  3%|▎         | 302/10000 [00:22<09:01, 17.91it/s]"
          ]
        },
        {
          "output_type": "stream",
          "name": "stdout",
          "text": [
            "Pi Epoch 299 - lr 0.001 -  key loss: 0.09613245964050293\n",
            "Unet Epoch 299 - lr 0.001 - Total Loss: 2281.268310546875 - Internal Loss: 960.8191528320312 - Terminal Loss: 1320.4491577148438\n"
          ]
        },
        {
          "output_type": "stream",
          "name": "stderr",
          "text": [
            "  4%|▍         | 402/10000 [00:28<09:21, 17.09it/s]"
          ]
        },
        {
          "output_type": "stream",
          "name": "stdout",
          "text": [
            "Pi Epoch 399 - lr 0.001 -  key loss: 0.3381613159179688\n",
            "Unet Epoch 399 - lr 0.001 - Total Loss: 2124.94287109375 - Internal Loss: 766.6758422851562 - Terminal Loss: 1358.2670288085938\n"
          ]
        },
        {
          "output_type": "stream",
          "name": "stderr",
          "text": [
            "  5%|▌         | 502/10000 [00:34<09:36, 16.47it/s]"
          ]
        },
        {
          "output_type": "stream",
          "name": "stdout",
          "text": [
            "Pi Epoch 499 - lr 0.001 -  key loss: -0.7778357696533204\n",
            "Unet Epoch 499 - lr 0.001 - Total Loss: 1664.747314453125 - Internal Loss: 232.86070251464844 - Terminal Loss: 1431.8866119384766\n"
          ]
        },
        {
          "output_type": "stream",
          "name": "stderr",
          "text": [
            "  6%|▌         | 602/10000 [00:41<10:27, 14.98it/s]"
          ]
        },
        {
          "output_type": "stream",
          "name": "stdout",
          "text": [
            "Pi Epoch 599 - lr 0.001 -  key loss: -1.4922836303710938\n",
            "Unet Epoch 599 - lr 0.001 - Total Loss: 1407.496337890625 - Internal Loss: 140.98849487304688 - Terminal Loss: 1266.5078430175781\n"
          ]
        },
        {
          "output_type": "stream",
          "name": "stderr",
          "text": [
            "  7%|▋         | 700/10000 [00:48<15:05, 10.27it/s]"
          ]
        },
        {
          "output_type": "stream",
          "name": "stdout",
          "text": [
            "Pi Epoch 699 - lr 0.001 -  key loss: -3.2833966064453124\n",
            "Unet Epoch 699 - lr 0.001 - Total Loss: 1159.0501708984375 - Internal Loss: 290.7238464355469 - Terminal Loss: 868.3263244628906\n"
          ]
        },
        {
          "output_type": "stream",
          "name": "stderr",
          "text": [
            "  8%|▊         | 801/10000 [00:55<11:03, 13.86it/s]"
          ]
        },
        {
          "output_type": "stream",
          "name": "stdout",
          "text": [
            "Pi Epoch 799 - lr 0.001 -  key loss: -5.298038330078125\n",
            "Unet Epoch 799 - lr 0.001 - Total Loss: 660.5263061523438 - Internal Loss: 466.1717224121094 - Terminal Loss: 194.35458374023438\n"
          ]
        },
        {
          "output_type": "stream",
          "name": "stderr",
          "text": [
            "  9%|▉         | 901/10000 [01:02<11:02, 13.73it/s]"
          ]
        },
        {
          "output_type": "stream",
          "name": "stdout",
          "text": [
            "Pi Epoch 899 - lr 0.001 -  key loss: -3.1878958129882813\n",
            "Unet Epoch 899 - lr 0.001 - Total Loss: 336.6278991699219 - Internal Loss: 226.85018920898438 - Terminal Loss: 109.7777099609375\n"
          ]
        },
        {
          "output_type": "stream",
          "name": "stderr",
          "text": [
            " 10%|█         | 1001/10000 [01:10<11:08, 13.46it/s]"
          ]
        },
        {
          "output_type": "stream",
          "name": "stdout",
          "text": [
            "Pi Epoch 999 - lr 0.001 -  key loss: -2.6459054565429687\n",
            "Unet Epoch 999 - lr 0.001 - Total Loss: 302.1993103027344 - Internal Loss: 133.99755859375 - Terminal Loss: 168.20175170898438\n"
          ]
        },
        {
          "output_type": "stream",
          "name": "stderr",
          "text": [
            " 11%|█         | 1101/10000 [01:18<12:06, 12.26it/s]"
          ]
        },
        {
          "output_type": "stream",
          "name": "stdout",
          "text": [
            "Pi Epoch 1099 - lr 0.001 -  key loss: -2.258830718994141\n",
            "Unet Epoch 1099 - lr 0.001 - Total Loss: 302.41888427734375 - Internal Loss: 101.97592163085938 - Terminal Loss: 200.44296264648438\n"
          ]
        },
        {
          "output_type": "stream",
          "name": "stderr",
          "text": [
            " 12%|█▏        | 1201/10000 [01:26<12:00, 12.22it/s]"
          ]
        },
        {
          "output_type": "stream",
          "name": "stdout",
          "text": [
            "Pi Epoch 1199 - lr 0.001 -  key loss: -2.2038002014160156\n",
            "Unet Epoch 1199 - lr 0.001 - Total Loss: 238.57540893554688 - Internal Loss: 94.86198425292969 - Terminal Loss: 143.7134246826172\n"
          ]
        },
        {
          "output_type": "stream",
          "name": "stderr",
          "text": [
            " 13%|█▎        | 1301/10000 [01:35<12:14, 11.84it/s]"
          ]
        },
        {
          "output_type": "stream",
          "name": "stdout",
          "text": [
            "Pi Epoch 1299 - lr 0.001 -  key loss: -2.228310089111328\n",
            "Unet Epoch 1299 - lr 0.001 - Total Loss: 116.62547302246094 - Internal Loss: 91.19268798828125 - Terminal Loss: 25.432785034179688\n"
          ]
        },
        {
          "output_type": "stream",
          "name": "stderr",
          "text": [
            " 14%|█▍        | 1400/10000 [01:45<28:27,  5.04it/s]"
          ]
        },
        {
          "output_type": "stream",
          "name": "stdout",
          "text": [
            "Pi Epoch 1399 - lr 0.001 -  key loss: -2.289422607421875\n",
            "Unet Epoch 1399 - lr 0.001 - Total Loss: 189.93333435058594 - Internal Loss: 88.09134674072266 - Terminal Loss: 101.84198760986328\n"
          ]
        },
        {
          "output_type": "stream",
          "name": "stderr",
          "text": [
            " 15%|█▌        | 1500/10000 [01:54<12:44, 11.12it/s]"
          ]
        },
        {
          "output_type": "stream",
          "name": "stdout",
          "text": [
            "Pi Epoch 1499 - lr 0.001 -  key loss: -2.1488027954101563\n",
            "Unet Epoch 1499 - lr 0.001 - Total Loss: 203.29624938964844 - Internal Loss: 83.74542236328125 - Terminal Loss: 119.55082702636719\n"
          ]
        },
        {
          "output_type": "stream",
          "name": "stderr",
          "text": [
            " 16%|█▌        | 1601/10000 [02:04<13:03, 10.73it/s]"
          ]
        },
        {
          "output_type": "stream",
          "name": "stdout",
          "text": [
            "Pi Epoch 1599 - lr 0.001 -  key loss: -2.2167903137207032\n",
            "Unet Epoch 1599 - lr 0.001 - Total Loss: 176.30726623535156 - Internal Loss: 81.21533966064453 - Terminal Loss: 95.09192657470703\n"
          ]
        },
        {
          "output_type": "stream",
          "name": "stderr",
          "text": [
            " 17%|█▋        | 1701/10000 [02:14<13:21, 10.35it/s]"
          ]
        },
        {
          "output_type": "stream",
          "name": "stdout",
          "text": [
            "Pi Epoch 1699 - lr 0.001 -  key loss: -2.2222972106933594\n",
            "Unet Epoch 1699 - lr 0.001 - Total Loss: 189.0308074951172 - Internal Loss: 78.45457458496094 - Terminal Loss: 110.57623291015625\n"
          ]
        },
        {
          "output_type": "stream",
          "name": "stderr",
          "text": [
            " 18%|█▊        | 1801/10000 [02:24<13:24, 10.19it/s]"
          ]
        },
        {
          "output_type": "stream",
          "name": "stdout",
          "text": [
            "Pi Epoch 1799 - lr 0.001 -  key loss: -2.213509368896484\n",
            "Unet Epoch 1799 - lr 0.001 - Total Loss: 159.65713500976562 - Internal Loss: 76.57215118408203 - Terminal Loss: 83.0849838256836\n"
          ]
        },
        {
          "output_type": "stream",
          "name": "stderr",
          "text": [
            " 19%|█▉        | 1901/10000 [02:35<14:09,  9.54it/s]"
          ]
        },
        {
          "output_type": "stream",
          "name": "stdout",
          "text": [
            "Pi Epoch 1899 - lr 0.001 -  key loss: -2.237061004638672\n",
            "Unet Epoch 1899 - lr 0.001 - Total Loss: 257.14111328125 - Internal Loss: 77.43980407714844 - Terminal Loss: 179.70130920410156\n"
          ]
        },
        {
          "output_type": "stream",
          "name": "stderr",
          "text": [
            " 20%|██        | 2001/10000 [02:46<15:10,  8.79it/s]"
          ]
        },
        {
          "output_type": "stream",
          "name": "stdout",
          "text": [
            "Pi Epoch 1999 - lr 0.001 -  key loss: -2.2253636169433593\n",
            "Unet Epoch 1999 - lr 0.001 - Total Loss: 290.77764892578125 - Internal Loss: 76.4031982421875 - Terminal Loss: 214.37445068359375\n"
          ]
        },
        {
          "output_type": "stream",
          "name": "stderr",
          "text": [
            " 21%|██        | 2101/10000 [02:57<14:19,  9.20it/s]"
          ]
        },
        {
          "output_type": "stream",
          "name": "stdout",
          "text": [
            "Pi Epoch 2099 - lr 0.001 -  key loss: -2.234783172607422\n",
            "Unet Epoch 2099 - lr 0.001 - Total Loss: 111.12311553955078 - Internal Loss: 77.03851318359375 - Terminal Loss: 34.08460235595703\n"
          ]
        },
        {
          "output_type": "stream",
          "name": "stderr",
          "text": [
            " 22%|██▏       | 2201/10000 [03:09<19:52,  6.54it/s]"
          ]
        },
        {
          "output_type": "stream",
          "name": "stdout",
          "text": [
            "Pi Epoch 2199 - lr 0.001 -  key loss: -2.248057403564453\n",
            "Unet Epoch 2199 - lr 0.001 - Total Loss: 103.26824951171875 - Internal Loss: 75.35990142822266 - Terminal Loss: 27.908348083496094\n"
          ]
        },
        {
          "output_type": "stream",
          "name": "stderr",
          "text": [
            " 23%|██▎       | 2301/10000 [03:21<15:12,  8.44it/s]"
          ]
        },
        {
          "output_type": "stream",
          "name": "stdout",
          "text": [
            "Pi Epoch 2299 - lr 0.001 -  key loss: -2.2009629821777343\n",
            "Unet Epoch 2299 - lr 0.001 - Total Loss: 204.65280151367188 - Internal Loss: 74.34790802001953 - Terminal Loss: 130.30489349365234\n"
          ]
        },
        {
          "output_type": "stream",
          "name": "stderr",
          "text": [
            " 24%|██▍       | 2401/10000 [03:33<15:55,  7.95it/s]"
          ]
        },
        {
          "output_type": "stream",
          "name": "stdout",
          "text": [
            "Pi Epoch 2399 - lr 0.001 -  key loss: -2.2727223205566407\n",
            "Unet Epoch 2399 - lr 0.001 - Total Loss: 138.5377197265625 - Internal Loss: 74.57405090332031 - Terminal Loss: 63.96366882324219\n"
          ]
        },
        {
          "output_type": "stream",
          "name": "stderr",
          "text": [
            " 25%|██▌       | 2500/10000 [03:46<15:23,  8.13it/s]"
          ]
        },
        {
          "output_type": "stream",
          "name": "stdout",
          "text": [
            "Pi Epoch 2499 - lr 0.001 -  key loss: -2.234851531982422\n",
            "Unet Epoch 2499 - lr 0.001 - Total Loss: 135.87557983398438 - Internal Loss: 75.3569107055664 - Terminal Loss: 60.51866912841797\n"
          ]
        },
        {
          "output_type": "stream",
          "name": "stderr",
          "text": [
            " 26%|██▌       | 2600/10000 [03:59<15:31,  7.94it/s]"
          ]
        },
        {
          "output_type": "stream",
          "name": "stdout",
          "text": [
            "Pi Epoch 2599 - lr 0.001 -  key loss: -2.147710266113281\n",
            "Unet Epoch 2599 - lr 0.001 - Total Loss: 213.7167205810547 - Internal Loss: 73.44833374023438 - Terminal Loss: 140.2683868408203\n"
          ]
        },
        {
          "output_type": "stream",
          "name": "stderr",
          "text": [
            " 27%|██▋       | 2700/10000 [04:12<15:51,  7.68it/s]"
          ]
        },
        {
          "output_type": "stream",
          "name": "stdout",
          "text": [
            "Pi Epoch 2699 - lr 0.001 -  key loss: -2.179795684814453\n",
            "Unet Epoch 2699 - lr 0.001 - Total Loss: 107.19729614257812 - Internal Loss: 69.81004333496094 - Terminal Loss: 37.38725280761719\n"
          ]
        },
        {
          "output_type": "stream",
          "name": "stderr",
          "text": [
            " 28%|██▊       | 2800/10000 [04:26<15:49,  7.58it/s]"
          ]
        },
        {
          "output_type": "stream",
          "name": "stdout",
          "text": [
            "Pi Epoch 2799 - lr 0.001 -  key loss: -2.2232879638671874\n",
            "Unet Epoch 2799 - lr 0.001 - Total Loss: 112.13529968261719 - Internal Loss: 77.66442108154297 - Terminal Loss: 34.47087860107422\n"
          ]
        },
        {
          "output_type": "stream",
          "name": "stderr",
          "text": [
            " 29%|██▉       | 2900/10000 [04:40<15:39,  7.55it/s]"
          ]
        },
        {
          "output_type": "stream",
          "name": "stdout",
          "text": [
            "Pi Epoch 2899 - lr 0.001 -  key loss: -2.1254808044433595\n",
            "Unet Epoch 2899 - lr 0.001 - Total Loss: 169.8920440673828 - Internal Loss: 67.65679168701172 - Terminal Loss: 102.2352523803711\n"
          ]
        },
        {
          "output_type": "stream",
          "name": "stderr",
          "text": [
            " 30%|███       | 3000/10000 [04:54<15:43,  7.42it/s]"
          ]
        },
        {
          "output_type": "stream",
          "name": "stdout",
          "text": [
            "Pi Epoch 2999 - lr 0.001 -  key loss: -2.1444163513183594\n",
            "Unet Epoch 2999 - lr 0.001 - Total Loss: 119.41158294677734 - Internal Loss: 68.57015991210938 - Terminal Loss: 50.84142303466797\n"
          ]
        },
        {
          "output_type": "stream",
          "name": "stderr",
          "text": [
            " 31%|███       | 3100/10000 [05:08<16:06,  7.14it/s]"
          ]
        },
        {
          "output_type": "stream",
          "name": "stdout",
          "text": [
            "Pi Epoch 3099 - lr 0.001 -  key loss: -2.113972015380859\n",
            "Unet Epoch 3099 - lr 0.001 - Total Loss: 157.47103881835938 - Internal Loss: 69.3145980834961 - Terminal Loss: 88.15644073486328\n"
          ]
        },
        {
          "output_type": "stream",
          "name": "stderr",
          "text": [
            " 32%|███▏      | 3200/10000 [05:24<16:36,  6.82it/s]"
          ]
        },
        {
          "output_type": "stream",
          "name": "stdout",
          "text": [
            "Pi Epoch 3199 - lr 0.001 -  key loss: -2.182001953125\n",
            "Unet Epoch 3199 - lr 0.001 - Total Loss: 175.597412109375 - Internal Loss: 69.0743637084961 - Terminal Loss: 106.5230484008789\n"
          ]
        },
        {
          "output_type": "stream",
          "name": "stderr",
          "text": [
            " 33%|███▎      | 3300/10000 [05:39<19:56,  5.60it/s]"
          ]
        },
        {
          "output_type": "stream",
          "name": "stdout",
          "text": [
            "Pi Epoch 3299 - lr 0.001 -  key loss: -2.1421212768554687\n",
            "Unet Epoch 3299 - lr 0.001 - Total Loss: 241.62525939941406 - Internal Loss: 67.64163970947266 - Terminal Loss: 173.9836196899414\n"
          ]
        },
        {
          "output_type": "stream",
          "name": "stderr",
          "text": [
            " 34%|███▍      | 3400/10000 [05:55<17:17,  6.36it/s]"
          ]
        },
        {
          "output_type": "stream",
          "name": "stdout",
          "text": [
            "Pi Epoch 3399 - lr 0.001 -  key loss: -2.2041290283203123\n",
            "Unet Epoch 3399 - lr 0.001 - Total Loss: 141.90159606933594 - Internal Loss: 66.53838348388672 - Terminal Loss: 75.36321258544922\n"
          ]
        },
        {
          "output_type": "stream",
          "name": "stderr",
          "text": [
            " 35%|███▌      | 3500/10000 [06:10<17:07,  6.32it/s]"
          ]
        },
        {
          "output_type": "stream",
          "name": "stdout",
          "text": [
            "Pi Epoch 3499 - lr 0.001 -  key loss: -2.1087892150878904\n",
            "Unet Epoch 3499 - lr 0.001 - Total Loss: 137.19725036621094 - Internal Loss: 62.21022033691406 - Terminal Loss: 74.98703002929688\n"
          ]
        },
        {
          "output_type": "stream",
          "name": "stderr",
          "text": [
            " 36%|███▌      | 3600/10000 [06:27<16:53,  6.32it/s]"
          ]
        },
        {
          "output_type": "stream",
          "name": "stdout",
          "text": [
            "Pi Epoch 3599 - lr 0.001 -  key loss: -2.2131413269042968\n",
            "Unet Epoch 3599 - lr 0.001 - Total Loss: 294.6875 - Internal Loss: 67.09720611572266 - Terminal Loss: 227.59029388427734\n"
          ]
        },
        {
          "output_type": "stream",
          "name": "stderr",
          "text": [
            " 37%|███▋      | 3700/10000 [06:43<17:14,  6.09it/s]"
          ]
        },
        {
          "output_type": "stream",
          "name": "stdout",
          "text": [
            "Pi Epoch 3699 - lr 0.001 -  key loss: -2.166279754638672\n",
            "Unet Epoch 3699 - lr 0.001 - Total Loss: 94.18280029296875 - Internal Loss: 65.51910400390625 - Terminal Loss: 28.6636962890625\n"
          ]
        },
        {
          "output_type": "stream",
          "name": "stderr",
          "text": [
            " 38%|███▊      | 3800/10000 [07:01<16:49,  6.14it/s]"
          ]
        },
        {
          "output_type": "stream",
          "name": "stdout",
          "text": [
            "Pi Epoch 3799 - lr 0.001 -  key loss: -2.0600621032714845\n",
            "Unet Epoch 3799 - lr 0.001 - Total Loss: 106.669189453125 - Internal Loss: 62.60390090942383 - Terminal Loss: 44.06528854370117\n"
          ]
        },
        {
          "output_type": "stream",
          "name": "stderr",
          "text": [
            " 39%|███▉      | 3900/10000 [07:19<18:20,  5.54it/s]"
          ]
        },
        {
          "output_type": "stream",
          "name": "stdout",
          "text": [
            "Pi Epoch 3899 - lr 0.001 -  key loss: -2.07461669921875\n",
            "Unet Epoch 3899 - lr 0.001 - Total Loss: 134.135498046875 - Internal Loss: 58.93059158325195 - Terminal Loss: 75.20490646362305\n"
          ]
        },
        {
          "output_type": "stream",
          "name": "stderr",
          "text": [
            " 40%|████      | 4000/10000 [07:36<17:34,  5.69it/s]"
          ]
        },
        {
          "output_type": "stream",
          "name": "stdout",
          "text": [
            "Pi Epoch 3999 - lr 0.001 -  key loss: -2.177296142578125\n",
            "Unet Epoch 3999 - lr 0.001 - Total Loss: 101.09931182861328 - Internal Loss: 66.98845672607422 - Terminal Loss: 34.11085510253906\n"
          ]
        },
        {
          "output_type": "stream",
          "name": "stderr",
          "text": [
            " 41%|████      | 4100/10000 [07:54<17:37,  5.58it/s]"
          ]
        },
        {
          "output_type": "stream",
          "name": "stdout",
          "text": [
            "Pi Epoch 4099 - lr 0.001 -  key loss: -2.086531982421875\n",
            "Unet Epoch 4099 - lr 0.001 - Total Loss: 92.31415557861328 - Internal Loss: 58.70382308959961 - Terminal Loss: 33.61033248901367\n"
          ]
        },
        {
          "output_type": "stream",
          "name": "stderr",
          "text": [
            " 42%|████▏     | 4200/10000 [08:13<17:18,  5.59it/s]"
          ]
        },
        {
          "output_type": "stream",
          "name": "stdout",
          "text": [
            "Pi Epoch 4199 - lr 0.001 -  key loss: -2.0932051086425782\n",
            "Unet Epoch 4199 - lr 0.001 - Total Loss: 144.91168212890625 - Internal Loss: 64.91254425048828 - Terminal Loss: 79.99913787841797\n"
          ]
        },
        {
          "output_type": "stream",
          "name": "stderr",
          "text": [
            " 43%|████▎     | 4300/10000 [08:31<17:19,  5.48it/s]"
          ]
        },
        {
          "output_type": "stream",
          "name": "stdout",
          "text": [
            "Pi Epoch 4299 - lr 0.001 -  key loss: -2.1945254516601564\n",
            "Unet Epoch 4299 - lr 0.001 - Total Loss: 87.81218719482422 - Internal Loss: 63.90350341796875 - Terminal Loss: 23.90868377685547\n"
          ]
        },
        {
          "output_type": "stream",
          "name": "stderr",
          "text": [
            " 44%|████▍     | 4400/10000 [08:50<20:23,  4.58it/s]"
          ]
        },
        {
          "output_type": "stream",
          "name": "stdout",
          "text": [
            "Pi Epoch 4399 - lr 0.001 -  key loss: -2.071182861328125\n",
            "Unet Epoch 4399 - lr 0.001 - Total Loss: 88.57878112792969 - Internal Loss: 55.9247932434082 - Terminal Loss: 32.653987884521484\n"
          ]
        },
        {
          "output_type": "stream",
          "name": "stderr",
          "text": [
            " 45%|████▌     | 4500/10000 [09:10<17:28,  5.25it/s]"
          ]
        },
        {
          "output_type": "stream",
          "name": "stdout",
          "text": [
            "Pi Epoch 4499 - lr 0.001 -  key loss: -2.1049516296386717\n",
            "Unet Epoch 4499 - lr 0.001 - Total Loss: 135.32693481445312 - Internal Loss: 55.284976959228516 - Terminal Loss: 80.04195785522461\n"
          ]
        },
        {
          "output_type": "stream",
          "name": "stderr",
          "text": [
            " 46%|████▌     | 4600/10000 [09:29<17:22,  5.18it/s]"
          ]
        },
        {
          "output_type": "stream",
          "name": "stdout",
          "text": [
            "Pi Epoch 4599 - lr 0.001 -  key loss: -2.1356512451171876\n",
            "Unet Epoch 4599 - lr 0.001 - Total Loss: 112.3032455444336 - Internal Loss: 59.80965805053711 - Terminal Loss: 52.493587493896484\n"
          ]
        },
        {
          "output_type": "stream",
          "name": "stderr",
          "text": [
            " 47%|████▋     | 4700/10000 [09:49<17:14,  5.13it/s]"
          ]
        },
        {
          "output_type": "stream",
          "name": "stdout",
          "text": [
            "Pi Epoch 4699 - lr 0.001 -  key loss: -2.037494964599609\n",
            "Unet Epoch 4699 - lr 0.001 - Total Loss: 138.45188903808594 - Internal Loss: 54.94330596923828 - Terminal Loss: 83.50858306884766\n"
          ]
        },
        {
          "output_type": "stream",
          "name": "stderr",
          "text": [
            " 48%|████▊     | 4800/10000 [10:10<17:21,  4.99it/s]"
          ]
        },
        {
          "output_type": "stream",
          "name": "stdout",
          "text": [
            "Pi Epoch 4799 - lr 0.001 -  key loss: -2.030606994628906\n",
            "Unet Epoch 4799 - lr 0.001 - Total Loss: 97.22090911865234 - Internal Loss: 54.44690704345703 - Terminal Loss: 42.77400207519531\n"
          ]
        },
        {
          "output_type": "stream",
          "name": "stderr",
          "text": [
            " 49%|████▉     | 4900/10000 [10:30<20:02,  4.24it/s]"
          ]
        },
        {
          "output_type": "stream",
          "name": "stdout",
          "text": [
            "Pi Epoch 4899 - lr 0.001 -  key loss: -2.163798370361328\n",
            "Unet Epoch 4899 - lr 0.001 - Total Loss: 112.47064971923828 - Internal Loss: 56.93741226196289 - Terminal Loss: 55.53323745727539\n"
          ]
        },
        {
          "output_type": "stream",
          "name": "stderr",
          "text": [
            " 50%|█████     | 5000/10000 [10:52<17:35,  4.74it/s]"
          ]
        },
        {
          "output_type": "stream",
          "name": "stdout",
          "text": [
            "Pi Epoch 4999 - lr 0.001 -  key loss: -2.175078582763672\n",
            "Unet Epoch 4999 - lr 0.001 - Total Loss: 160.24354553222656 - Internal Loss: 58.28300476074219 - Terminal Loss: 101.96054077148438\n"
          ]
        },
        {
          "output_type": "stream",
          "name": "stderr",
          "text": [
            " 51%|█████     | 5100/10000 [11:13<17:05,  4.78it/s]"
          ]
        },
        {
          "output_type": "stream",
          "name": "stdout",
          "text": [
            "Pi Epoch 5099 - lr 0.001 -  key loss: -2.1776191711425783\n",
            "Unet Epoch 5099 - lr 0.001 - Total Loss: 76.39307403564453 - Internal Loss: 58.544517517089844 - Terminal Loss: 17.848556518554688\n"
          ]
        },
        {
          "output_type": "stream",
          "name": "stderr",
          "text": [
            " 52%|█████▏    | 5200/10000 [11:35<16:46,  4.77it/s]"
          ]
        },
        {
          "output_type": "stream",
          "name": "stdout",
          "text": [
            "Pi Epoch 5199 - lr 0.001 -  key loss: -2.119447784423828\n",
            "Unet Epoch 5199 - lr 0.001 - Total Loss: 112.04399108886719 - Internal Loss: 53.427974700927734 - Terminal Loss: 58.61601638793945\n"
          ]
        },
        {
          "output_type": "stream",
          "name": "stderr",
          "text": [
            " 53%|█████▎    | 5300/10000 [11:57<16:47,  4.66it/s]"
          ]
        },
        {
          "output_type": "stream",
          "name": "stdout",
          "text": [
            "Pi Epoch 5299 - lr 0.001 -  key loss: -2.146812744140625\n",
            "Unet Epoch 5299 - lr 0.001 - Total Loss: 108.5523452758789 - Internal Loss: 54.98044204711914 - Terminal Loss: 53.571903228759766\n"
          ]
        },
        {
          "output_type": "stream",
          "name": "stderr",
          "text": [
            " 54%|█████▍    | 5400/10000 [12:19<17:59,  4.26it/s]"
          ]
        },
        {
          "output_type": "stream",
          "name": "stdout",
          "text": [
            "Pi Epoch 5399 - lr 0.001 -  key loss: -1.9983432006835937\n",
            "Unet Epoch 5399 - lr 0.001 - Total Loss: 109.78884887695312 - Internal Loss: 51.081581115722656 - Terminal Loss: 58.70726776123047\n"
          ]
        },
        {
          "output_type": "stream",
          "name": "stderr",
          "text": [
            " 55%|█████▌    | 5500/10000 [12:42<16:53,  4.44it/s]"
          ]
        },
        {
          "output_type": "stream",
          "name": "stdout",
          "text": [
            "Pi Epoch 5499 - lr 0.001 -  key loss: -2.119687194824219\n",
            "Unet Epoch 5499 - lr 0.001 - Total Loss: 176.42002868652344 - Internal Loss: 53.86873245239258 - Terminal Loss: 122.55129623413086\n"
          ]
        },
        {
          "output_type": "stream",
          "name": "stderr",
          "text": [
            " 56%|█████▌    | 5600/10000 [13:06<16:40,  4.40it/s]"
          ]
        },
        {
          "output_type": "stream",
          "name": "stdout",
          "text": [
            "Pi Epoch 5599 - lr 0.001 -  key loss: -2.0883828735351564\n",
            "Unet Epoch 5599 - lr 0.001 - Total Loss: 128.98257446289062 - Internal Loss: 55.69719696044922 - Terminal Loss: 73.2853775024414\n"
          ]
        },
        {
          "output_type": "stream",
          "name": "stderr",
          "text": [
            " 57%|█████▋    | 5700/10000 [13:29<16:36,  4.31it/s]"
          ]
        },
        {
          "output_type": "stream",
          "name": "stdout",
          "text": [
            "Pi Epoch 5699 - lr 0.001 -  key loss: -2.0262901306152346\n",
            "Unet Epoch 5699 - lr 0.001 - Total Loss: 128.62693786621094 - Internal Loss: 64.56629180908203 - Terminal Loss: 64.0606460571289\n"
          ]
        },
        {
          "output_type": "stream",
          "name": "stderr",
          "text": [
            " 58%|█████▊    | 5800/10000 [13:53<21:03,  3.33it/s]"
          ]
        },
        {
          "output_type": "stream",
          "name": "stdout",
          "text": [
            "Pi Epoch 5799 - lr 0.001 -  key loss: -2.1527874755859373\n",
            "Unet Epoch 5799 - lr 0.001 - Total Loss: 79.1921157836914 - Internal Loss: 53.61290740966797 - Terminal Loss: 25.579208374023438\n"
          ]
        },
        {
          "output_type": "stream",
          "name": "stderr",
          "text": [
            " 59%|█████▉    | 5900/10000 [14:17<16:46,  4.07it/s]"
          ]
        },
        {
          "output_type": "stream",
          "name": "stdout",
          "text": [
            "Pi Epoch 5899 - lr 0.001 -  key loss: -2.0321287536621093\n",
            "Unet Epoch 5899 - lr 0.001 - Total Loss: 106.74336242675781 - Internal Loss: 49.10810089111328 - Terminal Loss: 57.63526153564453\n"
          ]
        },
        {
          "output_type": "stream",
          "name": "stderr",
          "text": [
            " 60%|██████    | 6000/10000 [14:42<16:19,  4.08it/s]"
          ]
        },
        {
          "output_type": "stream",
          "name": "stdout",
          "text": [
            "Pi Epoch 5999 - lr 0.001 -  key loss: -2.118735809326172\n",
            "Unet Epoch 5999 - lr 0.001 - Total Loss: 73.2381591796875 - Internal Loss: 52.55448913574219 - Terminal Loss: 20.683670043945312\n"
          ]
        },
        {
          "output_type": "stream",
          "name": "stderr",
          "text": [
            " 61%|██████    | 6100/10000 [15:07<15:57,  4.07it/s]"
          ]
        },
        {
          "output_type": "stream",
          "name": "stdout",
          "text": [
            "Pi Epoch 6099 - lr 0.001 -  key loss: -2.133356018066406\n",
            "Unet Epoch 6099 - lr 0.001 - Total Loss: 98.65629577636719 - Internal Loss: 56.379634857177734 - Terminal Loss: 42.27666091918945\n"
          ]
        },
        {
          "output_type": "stream",
          "name": "stderr",
          "text": [
            " 62%|██████▏   | 6200/10000 [15:33<15:45,  4.02it/s]"
          ]
        },
        {
          "output_type": "stream",
          "name": "stdout",
          "text": [
            "Pi Epoch 6199 - lr 0.001 -  key loss: -2.120349578857422\n",
            "Unet Epoch 6199 - lr 0.001 - Total Loss: 128.1955108642578 - Internal Loss: 52.97798538208008 - Terminal Loss: 75.21752548217773\n"
          ]
        },
        {
          "output_type": "stream",
          "name": "stderr",
          "text": [
            " 63%|██████▎   | 6300/10000 [15:58<16:48,  3.67it/s]"
          ]
        },
        {
          "output_type": "stream",
          "name": "stdout",
          "text": [
            "Pi Epoch 6299 - lr 0.001 -  key loss: -2.152960205078125\n",
            "Unet Epoch 6299 - lr 0.001 - Total Loss: 141.74452209472656 - Internal Loss: 62.245967864990234 - Terminal Loss: 79.49855422973633\n"
          ]
        },
        {
          "output_type": "stream",
          "name": "stderr",
          "text": [
            " 64%|██████▍   | 6400/10000 [16:24<15:20,  3.91it/s]"
          ]
        },
        {
          "output_type": "stream",
          "name": "stdout",
          "text": [
            "Pi Epoch 6399 - lr 0.001 -  key loss: -2.1056503295898437\n",
            "Unet Epoch 6399 - lr 0.001 - Total Loss: 70.94851684570312 - Internal Loss: 50.93608474731445 - Terminal Loss: 20.012432098388672\n"
          ]
        },
        {
          "output_type": "stream",
          "name": "stderr",
          "text": [
            " 65%|██████▌   | 6500/10000 [16:51<15:05,  3.87it/s]"
          ]
        },
        {
          "output_type": "stream",
          "name": "stdout",
          "text": [
            "Pi Epoch 6499 - lr 0.001 -  key loss: -2.1975912475585937\n",
            "Unet Epoch 6499 - lr 0.001 - Total Loss: 102.56855010986328 - Internal Loss: 56.762969970703125 - Terminal Loss: 45.805580139160156\n"
          ]
        },
        {
          "output_type": "stream",
          "name": "stderr",
          "text": [
            " 66%|██████▌   | 6600/10000 [17:17<14:53,  3.81it/s]"
          ]
        },
        {
          "output_type": "stream",
          "name": "stdout",
          "text": [
            "Pi Epoch 6599 - lr 0.001 -  key loss: -2.040085906982422\n",
            "Unet Epoch 6599 - lr 0.001 - Total Loss: 112.28623962402344 - Internal Loss: 51.48606491088867 - Terminal Loss: 60.800174713134766\n"
          ]
        },
        {
          "output_type": "stream",
          "name": "stderr",
          "text": [
            " 67%|██████▋   | 6700/10000 [17:45<18:20,  3.00it/s]"
          ]
        },
        {
          "output_type": "stream",
          "name": "stdout",
          "text": [
            "Pi Epoch 6699 - lr 0.001 -  key loss: -2.047288360595703\n",
            "Unet Epoch 6699 - lr 0.001 - Total Loss: 101.79502868652344 - Internal Loss: 48.89408493041992 - Terminal Loss: 52.900943756103516\n"
          ]
        },
        {
          "output_type": "stream",
          "name": "stderr",
          "text": [
            " 68%|██████▊   | 6800/10000 [18:12<14:25,  3.70it/s]"
          ]
        },
        {
          "output_type": "stream",
          "name": "stdout",
          "text": [
            "Pi Epoch 6799 - lr 0.001 -  key loss: -2.0580593872070314\n",
            "Unet Epoch 6799 - lr 0.001 - Total Loss: 84.55146026611328 - Internal Loss: 48.96058654785156 - Terminal Loss: 35.59087371826172\n"
          ]
        },
        {
          "output_type": "stream",
          "name": "stderr",
          "text": [
            " 69%|██████▉   | 6899/10000 [18:40<14:00,  3.69it/s]"
          ]
        },
        {
          "output_type": "stream",
          "name": "stdout",
          "text": [
            "Pi Epoch 6899 - lr 0.001 -  key loss: -2.043651275634766\n"
          ]
        },
        {
          "output_type": "stream",
          "name": "stderr",
          "text": [
            " 70%|███████   | 7000/10000 [19:09<13:52,  3.60it/s]"
          ]
        },
        {
          "output_type": "stream",
          "name": "stdout",
          "text": [
            "Unet Epoch 6899 - lr 0.001 - Total Loss: 159.24478149414062 - Internal Loss: 49.6356315612793 - Terminal Loss: 109.60914993286133\n",
            "Pi Epoch 6999 - lr 0.001 -  key loss: -2.021114501953125\n",
            "Unet Epoch 6999 - lr 0.001 - Total Loss: 88.52371215820312 - Internal Loss: 51.61402893066406 - Terminal Loss: 36.90968322753906\n"
          ]
        },
        {
          "output_type": "stream",
          "name": "stderr",
          "text": [
            " 71%|███████   | 7100/10000 [19:38<13:28,  3.58it/s]"
          ]
        },
        {
          "output_type": "stream",
          "name": "stdout",
          "text": [
            "Pi Epoch 7099 - lr 0.001 -  key loss: -2.062783050537109\n",
            "Unet Epoch 7099 - lr 0.001 - Total Loss: 114.33183288574219 - Internal Loss: 49.634212493896484 - Terminal Loss: 64.6976203918457\n"
          ]
        },
        {
          "output_type": "stream",
          "name": "stderr",
          "text": [
            " 72%|███████▏  | 7200/10000 [20:07<14:22,  3.25it/s]"
          ]
        },
        {
          "output_type": "stream",
          "name": "stdout",
          "text": [
            "Pi Epoch 7199 - lr 0.001 -  key loss: -2.1960525512695312\n",
            "Unet Epoch 7199 - lr 0.001 - Total Loss: 77.3996353149414 - Internal Loss: 55.757144927978516 - Terminal Loss: 21.64249038696289\n"
          ]
        },
        {
          "output_type": "stream",
          "name": "stderr",
          "text": [
            " 73%|███████▎  | 7300/10000 [20:36<13:03,  3.45it/s]"
          ]
        },
        {
          "output_type": "stream",
          "name": "stdout",
          "text": [
            "Pi Epoch 7299 - lr 0.001 -  key loss: -2.122333221435547\n",
            "Unet Epoch 7299 - lr 0.001 - Total Loss: 83.75514221191406 - Internal Loss: 50.19320297241211 - Terminal Loss: 33.56193923950195\n"
          ]
        },
        {
          "output_type": "stream",
          "name": "stderr",
          "text": [
            " 74%|███████▍  | 7399/10000 [21:06<12:29,  3.47it/s]"
          ]
        },
        {
          "output_type": "stream",
          "name": "stdout",
          "text": [
            "Pi Epoch 7399 - lr 0.001 -  key loss: -2.0806666564941407\n"
          ]
        },
        {
          "output_type": "stream",
          "name": "stderr",
          "text": [
            "\r 74%|███████▍  | 7400/10000 [21:06<12:33,  3.45it/s]"
          ]
        },
        {
          "output_type": "stream",
          "name": "stdout",
          "text": [
            "Unet Epoch 7399 - lr 0.001 - Total Loss: 147.31190490722656 - Internal Loss: 47.73302459716797 - Terminal Loss: 99.5788803100586\n"
          ]
        },
        {
          "output_type": "stream",
          "name": "stderr",
          "text": [
            " 75%|███████▍  | 7499/10000 [21:36<12:26,  3.35it/s]"
          ]
        },
        {
          "output_type": "stream",
          "name": "stdout",
          "text": [
            "Pi Epoch 7499 - lr 0.001 -  key loss: -2.067485656738281\n"
          ]
        },
        {
          "output_type": "stream",
          "name": "stderr",
          "text": [
            "\r 75%|███████▌  | 7500/10000 [21:36<12:33,  3.32it/s]"
          ]
        },
        {
          "output_type": "stream",
          "name": "stdout",
          "text": [
            "Unet Epoch 7499 - lr 0.001 - Total Loss: 114.22896575927734 - Internal Loss: 49.40914535522461 - Terminal Loss: 64.81982040405273\n"
          ]
        },
        {
          "output_type": "stream",
          "name": "stderr",
          "text": [
            " 76%|███████▌  | 7599/10000 [22:07<13:51,  2.89it/s]"
          ]
        },
        {
          "output_type": "stream",
          "name": "stdout",
          "text": [
            "Pi Epoch 7599 - lr 0.001 -  key loss: -2.091921844482422\n"
          ]
        },
        {
          "output_type": "stream",
          "name": "stderr",
          "text": [
            "\r 76%|███████▌  | 7600/10000 [22:07<13:31,  2.96it/s]"
          ]
        },
        {
          "output_type": "stream",
          "name": "stdout",
          "text": [
            "Unet Epoch 7599 - lr 0.001 - Total Loss: 89.11866760253906 - Internal Loss: 46.29659652709961 - Terminal Loss: 42.82207107543945\n"
          ]
        },
        {
          "output_type": "stream",
          "name": "stderr",
          "text": [
            " 77%|███████▋  | 7699/10000 [22:38<11:43,  3.27it/s]"
          ]
        },
        {
          "output_type": "stream",
          "name": "stdout",
          "text": [
            "Pi Epoch 7699 - lr 0.001 -  key loss: -2.111949005126953\n"
          ]
        },
        {
          "output_type": "stream",
          "name": "stderr",
          "text": [
            "\r 77%|███████▋  | 7700/10000 [22:38<11:43,  3.27it/s]"
          ]
        },
        {
          "output_type": "stream",
          "name": "stdout",
          "text": [
            "Unet Epoch 7699 - lr 0.001 - Total Loss: 235.15126037597656 - Internal Loss: 51.337406158447266 - Terminal Loss: 183.8138542175293\n"
          ]
        },
        {
          "output_type": "stream",
          "name": "stderr",
          "text": [
            " 78%|███████▊  | 7799/10000 [23:09<11:25,  3.21it/s]"
          ]
        },
        {
          "output_type": "stream",
          "name": "stdout",
          "text": [
            "Pi Epoch 7799 - lr 0.001 -  key loss: -2.113259735107422\n"
          ]
        },
        {
          "output_type": "stream",
          "name": "stderr",
          "text": [
            "\r 78%|███████▊  | 7800/10000 [23:10<11:22,  3.22it/s]"
          ]
        },
        {
          "output_type": "stream",
          "name": "stdout",
          "text": [
            "Unet Epoch 7799 - lr 0.001 - Total Loss: 90.35955810546875 - Internal Loss: 62.3994026184082 - Terminal Loss: 27.960155487060547\n"
          ]
        },
        {
          "output_type": "stream",
          "name": "stderr",
          "text": [
            " 79%|███████▉  | 7899/10000 [23:41<10:57,  3.20it/s]"
          ]
        },
        {
          "output_type": "stream",
          "name": "stdout",
          "text": [
            "Pi Epoch 7899 - lr 0.001 -  key loss: -2.0838078308105468\n"
          ]
        },
        {
          "output_type": "stream",
          "name": "stderr",
          "text": [
            "\r 79%|███████▉  | 7900/10000 [23:41<11:01,  3.17it/s]"
          ]
        },
        {
          "output_type": "stream",
          "name": "stdout",
          "text": [
            "Unet Epoch 7899 - lr 0.001 - Total Loss: 128.73133850097656 - Internal Loss: 45.62995529174805 - Terminal Loss: 83.10138320922852\n"
          ]
        },
        {
          "output_type": "stream",
          "name": "stderr",
          "text": [
            " 80%|███████▉  | 7999/10000 [24:14<11:34,  2.88it/s]"
          ]
        },
        {
          "output_type": "stream",
          "name": "stdout",
          "text": [
            "Pi Epoch 7999 - lr 0.001 -  key loss: -2.0942352294921873\n"
          ]
        },
        {
          "output_type": "stream",
          "name": "stderr",
          "text": [
            "\r 80%|████████  | 8000/10000 [24:14<11:22,  2.93it/s]"
          ]
        },
        {
          "output_type": "stream",
          "name": "stdout",
          "text": [
            "Unet Epoch 7999 - lr 0.001 - Total Loss: 136.18910217285156 - Internal Loss: 47.78428649902344 - Terminal Loss: 88.40481567382812\n"
          ]
        },
        {
          "output_type": "stream",
          "name": "stderr",
          "text": [
            " 81%|████████  | 8099/10000 [24:47<10:20,  3.06it/s]"
          ]
        },
        {
          "output_type": "stream",
          "name": "stdout",
          "text": [
            "Pi Epoch 8099 - lr 0.001 -  key loss: -1.953986358642578\n"
          ]
        },
        {
          "output_type": "stream",
          "name": "stderr",
          "text": [
            "\r 81%|████████  | 8100/10000 [24:47<10:20,  3.06it/s]"
          ]
        },
        {
          "output_type": "stream",
          "name": "stdout",
          "text": [
            "Unet Epoch 8099 - lr 0.001 - Total Loss: 100.98052215576172 - Internal Loss: 43.98647689819336 - Terminal Loss: 56.99404525756836\n"
          ]
        },
        {
          "output_type": "stream",
          "name": "stderr",
          "text": [
            " 82%|████████▏ | 8199/10000 [25:21<09:46,  3.07it/s]"
          ]
        },
        {
          "output_type": "stream",
          "name": "stdout",
          "text": [
            "Pi Epoch 8199 - lr 0.001 -  key loss: -2.1069017028808594\n"
          ]
        },
        {
          "output_type": "stream",
          "name": "stderr",
          "text": [
            "\r 82%|████████▏ | 8200/10000 [25:21<09:52,  3.04it/s]"
          ]
        },
        {
          "output_type": "stream",
          "name": "stdout",
          "text": [
            "Unet Epoch 8199 - lr 0.001 - Total Loss: 153.5801239013672 - Internal Loss: 49.229854583740234 - Terminal Loss: 104.35026931762695\n"
          ]
        },
        {
          "output_type": "stream",
          "name": "stderr",
          "text": [
            " 83%|████████▎ | 8299/10000 [25:54<09:19,  3.04it/s]"
          ]
        },
        {
          "output_type": "stream",
          "name": "stdout",
          "text": [
            "Pi Epoch 8299 - lr 0.001 -  key loss: -2.185935211181641\n"
          ]
        },
        {
          "output_type": "stream",
          "name": "stderr",
          "text": [
            "\r 83%|████████▎ | 8300/10000 [25:55<09:22,  3.02it/s]"
          ]
        },
        {
          "output_type": "stream",
          "name": "stdout",
          "text": [
            "Unet Epoch 8299 - lr 0.001 - Total Loss: 82.8732681274414 - Internal Loss: 53.17253875732422 - Terminal Loss: 29.700729370117188\n"
          ]
        },
        {
          "output_type": "stream",
          "name": "stderr",
          "text": [
            " 84%|████████▍ | 8399/10000 [26:29<09:29,  2.81it/s]"
          ]
        },
        {
          "output_type": "stream",
          "name": "stdout",
          "text": [
            "Pi Epoch 8399 - lr 0.001 -  key loss: -2.059789123535156\n"
          ]
        },
        {
          "output_type": "stream",
          "name": "stderr",
          "text": [
            "\r 84%|████████▍ | 8400/10000 [26:29<09:15,  2.88it/s]"
          ]
        },
        {
          "output_type": "stream",
          "name": "stdout",
          "text": [
            "Unet Epoch 8399 - lr 0.001 - Total Loss: 156.96078491210938 - Internal Loss: 47.70616149902344 - Terminal Loss: 109.25462341308594\n"
          ]
        },
        {
          "output_type": "stream",
          "name": "stderr",
          "text": [
            " 85%|████████▍ | 8499/10000 [27:03<08:26,  2.97it/s]"
          ]
        },
        {
          "output_type": "stream",
          "name": "stdout",
          "text": [
            "Pi Epoch 8499 - lr 0.001 -  key loss: -2.144239044189453\n"
          ]
        },
        {
          "output_type": "stream",
          "name": "stderr",
          "text": [
            "\r 85%|████████▌ | 8500/10000 [27:03<08:34,  2.92it/s]"
          ]
        },
        {
          "output_type": "stream",
          "name": "stdout",
          "text": [
            "Unet Epoch 8499 - lr 0.001 - Total Loss: 208.17987060546875 - Internal Loss: 46.262451171875 - Terminal Loss: 161.91741943359375\n"
          ]
        },
        {
          "output_type": "stream",
          "name": "stderr",
          "text": [
            " 86%|████████▌ | 8599/10000 [27:38<07:55,  2.94it/s]"
          ]
        },
        {
          "output_type": "stream",
          "name": "stdout",
          "text": [
            "Pi Epoch 8599 - lr 0.001 -  key loss: -2.103179931640625\n"
          ]
        },
        {
          "output_type": "stream",
          "name": "stderr",
          "text": [
            "\r 86%|████████▌ | 8600/10000 [27:38<07:55,  2.95it/s]"
          ]
        },
        {
          "output_type": "stream",
          "name": "stdout",
          "text": [
            "Unet Epoch 8599 - lr 0.001 - Total Loss: 64.20518493652344 - Internal Loss: 48.96402359008789 - Terminal Loss: 15.241161346435547\n"
          ]
        },
        {
          "output_type": "stream",
          "name": "stderr",
          "text": [
            " 87%|████████▋ | 8699/10000 [28:13<07:29,  2.89it/s]"
          ]
        },
        {
          "output_type": "stream",
          "name": "stdout",
          "text": [
            "Pi Epoch 8699 - lr 0.001 -  key loss: -2.133716278076172\n"
          ]
        },
        {
          "output_type": "stream",
          "name": "stderr",
          "text": [
            "\r 87%|████████▋ | 8700/10000 [28:13<07:33,  2.86it/s]"
          ]
        },
        {
          "output_type": "stream",
          "name": "stdout",
          "text": [
            "Unet Epoch 8699 - lr 0.001 - Total Loss: 73.07990264892578 - Internal Loss: 51.641902923583984 - Terminal Loss: 21.437999725341797\n"
          ]
        },
        {
          "output_type": "stream",
          "name": "stderr",
          "text": [
            " 88%|████████▊ | 8799/10000 [28:49<07:58,  2.51it/s]"
          ]
        },
        {
          "output_type": "stream",
          "name": "stdout",
          "text": [
            "Pi Epoch 8799 - lr 0.001 -  key loss: -2.0869793701171875\n"
          ]
        },
        {
          "output_type": "stream",
          "name": "stderr",
          "text": [
            "\r 88%|████████▊ | 8800/10000 [28:49<07:42,  2.59it/s]"
          ]
        },
        {
          "output_type": "stream",
          "name": "stdout",
          "text": [
            "Unet Epoch 8799 - lr 0.001 - Total Loss: 65.8731460571289 - Internal Loss: 49.32503128051758 - Terminal Loss: 16.548114776611328\n"
          ]
        },
        {
          "output_type": "stream",
          "name": "stderr",
          "text": [
            " 89%|████████▉ | 8899/10000 [29:25<06:29,  2.83it/s]"
          ]
        },
        {
          "output_type": "stream",
          "name": "stdout",
          "text": [
            "Pi Epoch 8899 - lr 0.001 -  key loss: -2.062996673583984\n"
          ]
        },
        {
          "output_type": "stream",
          "name": "stderr",
          "text": [
            "\r 89%|████████▉ | 8900/10000 [29:25<06:35,  2.78it/s]"
          ]
        },
        {
          "output_type": "stream",
          "name": "stdout",
          "text": [
            "Unet Epoch 8899 - lr 0.001 - Total Loss: 62.68059539794922 - Internal Loss: 43.26577377319336 - Terminal Loss: 19.41482162475586\n"
          ]
        },
        {
          "output_type": "stream",
          "name": "stderr",
          "text": [
            " 90%|████████▉ | 8999/10000 [30:01<06:04,  2.75it/s]"
          ]
        },
        {
          "output_type": "stream",
          "name": "stdout",
          "text": [
            "Pi Epoch 8999 - lr 0.001 -  key loss: -2.066039733886719\n"
          ]
        },
        {
          "output_type": "stream",
          "name": "stderr",
          "text": [
            "\r 90%|█████████ | 9000/10000 [30:01<06:00,  2.78it/s]"
          ]
        },
        {
          "output_type": "stream",
          "name": "stdout",
          "text": [
            "Unet Epoch 8999 - lr 0.001 - Total Loss: 120.07515716552734 - Internal Loss: 46.862274169921875 - Terminal Loss: 73.21288299560547\n"
          ]
        },
        {
          "output_type": "stream",
          "name": "stderr",
          "text": [
            " 91%|█████████ | 9099/10000 [30:38<05:38,  2.66it/s]"
          ]
        },
        {
          "output_type": "stream",
          "name": "stdout",
          "text": [
            "Pi Epoch 9099 - lr 0.001 -  key loss: -2.085904998779297\n"
          ]
        },
        {
          "output_type": "stream",
          "name": "stderr",
          "text": [
            "\r 91%|█████████ | 9100/10000 [30:38<05:40,  2.64it/s]"
          ]
        },
        {
          "output_type": "stream",
          "name": "stdout",
          "text": [
            "Unet Epoch 9099 - lr 0.001 - Total Loss: 94.88055419921875 - Internal Loss: 47.2469482421875 - Terminal Loss: 47.63360595703125\n"
          ]
        },
        {
          "output_type": "stream",
          "name": "stderr",
          "text": [
            " 92%|█████████▏| 9199/10000 [31:17<05:20,  2.50it/s]"
          ]
        },
        {
          "output_type": "stream",
          "name": "stdout",
          "text": [
            "Pi Epoch 9199 - lr 0.001 -  key loss: -2.0149111938476563\n"
          ]
        },
        {
          "output_type": "stream",
          "name": "stderr",
          "text": [
            "\r 92%|█████████▏| 9200/10000 [31:17<05:18,  2.52it/s]"
          ]
        },
        {
          "output_type": "stream",
          "name": "stdout",
          "text": [
            "Unet Epoch 9199 - lr 0.001 - Total Loss: 69.26051330566406 - Internal Loss: 46.8415412902832 - Terminal Loss: 22.41897201538086\n"
          ]
        },
        {
          "output_type": "stream",
          "name": "stderr",
          "text": [
            " 93%|█████████▎| 9299/10000 [31:55<04:25,  2.64it/s]"
          ]
        },
        {
          "output_type": "stream",
          "name": "stdout",
          "text": [
            "Pi Epoch 9299 - lr 0.001 -  key loss: -2.0111238098144533\n"
          ]
        },
        {
          "output_type": "stream",
          "name": "stderr",
          "text": [
            "\r 93%|█████████▎| 9300/10000 [31:55<04:25,  2.64it/s]"
          ]
        },
        {
          "output_type": "stream",
          "name": "stdout",
          "text": [
            "Unet Epoch 9299 - lr 0.001 - Total Loss: 105.21073150634766 - Internal Loss: 47.769386291503906 - Terminal Loss: 57.44134521484375\n"
          ]
        },
        {
          "output_type": "stream",
          "name": "stderr",
          "text": [
            " 94%|█████████▍| 9399/10000 [32:33<03:43,  2.69it/s]"
          ]
        },
        {
          "output_type": "stream",
          "name": "stdout",
          "text": [
            "Pi Epoch 9399 - lr 0.001 -  key loss: -2.102628021240234\n"
          ]
        },
        {
          "output_type": "stream",
          "name": "stderr",
          "text": [
            "\r 94%|█████████▍| 9400/10000 [32:33<03:44,  2.67it/s]"
          ]
        },
        {
          "output_type": "stream",
          "name": "stdout",
          "text": [
            "Unet Epoch 9399 - lr 0.001 - Total Loss: 109.00515747070312 - Internal Loss: 40.902652740478516 - Terminal Loss: 68.10250473022461\n"
          ]
        },
        {
          "output_type": "stream",
          "name": "stderr",
          "text": [
            " 95%|█████████▍| 9499/10000 [33:12<03:06,  2.69it/s]"
          ]
        },
        {
          "output_type": "stream",
          "name": "stdout",
          "text": [
            "Pi Epoch 9499 - lr 0.001 -  key loss: -2.0462986755371095\n"
          ]
        },
        {
          "output_type": "stream",
          "name": "stderr",
          "text": [
            "\r 95%|█████████▌| 9500/10000 [33:12<03:09,  2.63it/s]"
          ]
        },
        {
          "output_type": "stream",
          "name": "stdout",
          "text": [
            "Unet Epoch 9499 - lr 0.001 - Total Loss: 85.35206604003906 - Internal Loss: 44.9636116027832 - Terminal Loss: 40.38845443725586\n"
          ]
        },
        {
          "output_type": "stream",
          "name": "stderr",
          "text": [
            " 96%|█████████▌| 9599/10000 [33:51<02:40,  2.50it/s]"
          ]
        },
        {
          "output_type": "stream",
          "name": "stdout",
          "text": [
            "Pi Epoch 9599 - lr 0.001 -  key loss: -2.017691345214844\n"
          ]
        },
        {
          "output_type": "stream",
          "name": "stderr",
          "text": [
            "\r 96%|█████████▌| 9600/10000 [33:51<02:38,  2.52it/s]"
          ]
        },
        {
          "output_type": "stream",
          "name": "stdout",
          "text": [
            "Unet Epoch 9599 - lr 0.001 - Total Loss: 77.89183807373047 - Internal Loss: 39.2531852722168 - Terminal Loss: 38.63865280151367\n"
          ]
        },
        {
          "output_type": "stream",
          "name": "stderr",
          "text": [
            " 97%|█████████▋| 9699/10000 [34:30<01:57,  2.56it/s]"
          ]
        },
        {
          "output_type": "stream",
          "name": "stdout",
          "text": [
            "Pi Epoch 9699 - lr 0.001 -  key loss: -2.0749139404296875\n"
          ]
        },
        {
          "output_type": "stream",
          "name": "stderr",
          "text": [
            "\r 97%|█████████▋| 9700/10000 [34:31<01:56,  2.58it/s]"
          ]
        },
        {
          "output_type": "stream",
          "name": "stdout",
          "text": [
            "Unet Epoch 9699 - lr 0.001 - Total Loss: 146.99928283691406 - Internal Loss: 41.10481643676758 - Terminal Loss: 105.89446640014648\n"
          ]
        },
        {
          "output_type": "stream",
          "name": "stderr",
          "text": [
            " 98%|█████████▊| 9799/10000 [35:10<01:18,  2.55it/s]"
          ]
        },
        {
          "output_type": "stream",
          "name": "stdout",
          "text": [
            "Pi Epoch 9799 - lr 0.001 -  key loss: -2.093811340332031\n"
          ]
        },
        {
          "output_type": "stream",
          "name": "stderr",
          "text": [
            "\r 98%|█████████▊| 9800/10000 [35:11<01:19,  2.53it/s]"
          ]
        },
        {
          "output_type": "stream",
          "name": "stdout",
          "text": [
            "Unet Epoch 9799 - lr 0.001 - Total Loss: 69.91094207763672 - Internal Loss: 38.62795639038086 - Terminal Loss: 31.28298568725586\n"
          ]
        },
        {
          "output_type": "stream",
          "name": "stderr",
          "text": [
            " 99%|█████████▉| 9899/10000 [35:51<00:41,  2.45it/s]"
          ]
        },
        {
          "output_type": "stream",
          "name": "stdout",
          "text": [
            "Pi Epoch 9899 - lr 0.001 -  key loss: -1.9717816162109374\n"
          ]
        },
        {
          "output_type": "stream",
          "name": "stderr",
          "text": [
            "\r 99%|█████████▉| 9900/10000 [35:51<00:40,  2.47it/s]"
          ]
        },
        {
          "output_type": "stream",
          "name": "stdout",
          "text": [
            "Unet Epoch 9899 - lr 0.001 - Total Loss: 127.7676010131836 - Internal Loss: 37.18894577026367 - Terminal Loss: 90.57865524291992\n"
          ]
        },
        {
          "output_type": "stream",
          "name": "stderr",
          "text": [
            "100%|█████████▉| 9999/10000 [36:32<00:00,  2.46it/s]"
          ]
        },
        {
          "output_type": "stream",
          "name": "stdout",
          "text": [
            "Pi Epoch 9999 - lr 0.001 -  key loss: -2.0854345703125\n"
          ]
        },
        {
          "output_type": "stream",
          "name": "stderr",
          "text": [
            "100%|██████████| 10000/10000 [36:32<00:00,  4.56it/s]"
          ]
        },
        {
          "output_type": "stream",
          "name": "stdout",
          "text": [
            "Unet Epoch 9999 - lr 0.001 - Total Loss: 76.70756530761719 - Internal Loss: 43.27777862548828 - Terminal Loss: 33.429786682128906\n",
            "time: 36min 37s (started: 2022-07-08 21:53:48 +00:00)\n"
          ]
        },
        {
          "output_type": "stream",
          "name": "stderr",
          "text": [
            "\n"
          ]
        }
      ],
      "source": [
        "seed = 123\n",
        "torch.manual_seed(seed)\n",
        "torch.cuda.manual_seed(seed)\n",
        "torch.cuda.manual_seed_all(seed)\n",
        "np.random.seed(seed)\n",
        "random.seed(seed)\n",
        "torch.backends.cudnn.benchmark = False\n",
        "torch.backends.cudnn.deterministic = True\n",
        "\n",
        "# u_net, pi_net, pi_net_epoch, pi_net_lr\n",
        "eqLossFn= 'calculateLoss'\n",
        "sample_method= \"U\"\n",
        "lr = 1e-3\n",
        "lr_for_pi = 1e-3\n",
        "max_pi_epochs = 4 # has to be low!!!\n",
        "\n",
        "#u_net = MertonAlternativePiNet( in_size = 5 , out_size = 1, neurons = 64, depth=2 )\n",
        "u_net = MertonUtilityNet(NL=2, NN=64)\n",
        "u_net.to(torch.device(\"cuda:0\")) \n",
        "\n",
        "pi_net = MertonAlternativePiNet( in_size = 5 , out_size = 1, neurons = 64, depth=2 )\n",
        "#pi_net = MertonPiNet(NL=2, NN=64)\n",
        "pi_net.to(torch.device(\"cuda:0\"))\n",
        "\n",
        "mequation = MertonEquation(u_net, pi_net, max_pi_epochs, lr_for_pi)\n",
        "#mequation.adapt_pi_epochs = True\n",
        "\n",
        "trainMertonAlloc = TrainHJBMertonWithDGM(u_net, mequation, BATCH_SIZE=2048, debug=False )\n",
        "trainMertonAlloc.hook_interval = 100\n",
        "\n",
        "trainMertonAlloc.train(epoch = 10000, lr = lr, eqLossFn = eqLossFn, sample_method_X = sample_method, key_loss_func=torch.abs)"
      ]
    },
    {
      "cell_type": "code",
      "source": [
        "def attach_pi_used(x, pi_net, requires_grad=True):\n",
        "  pi_used = pi_net(x)  \n",
        "  # pi_used = pi_used[:,0].reshape(-1,1)\n",
        "  pi_used = pi_used.detach().reshape(-1,1)\n",
        "  \n",
        "  before_x = x.detach().clone()\n",
        "  new_x =  Variable(torch.cat((x, pi_used), dim=1), requires_grad=requires_grad)\n",
        "  return before_x, new_x"
      ],
      "metadata": {
        "id": "vHmkskwIFYO6"
      },
      "execution_count": null,
      "outputs": []
    },
    {
      "cell_type": "markdown",
      "metadata": {
        "id": "kowxNupDAwOI"
      },
      "source": [
        "List of params for successfull run\n",
        "\n",
        "\n",
        "\n",
        "*   Loss = L1\n",
        "*   Util Net + piNet: depth = 3, NN= 50\n",
        "*   lr = 0.005\n",
        "*   lr_for_pi = 0.002\n",
        "*   max_pi_epochs = 5\n",
        "*   trainMertonAlloc.use_early_stop = False\n",
        "*   epoch = 6100\n",
        "*   loss weights = 1\\*intC + 1\\*terminal\n",
        "\n",
        "\n",
        "\n",
        "\n",
        "\n"
      ]
    },
    {
      "cell_type": "code",
      "source": [
        "def Htx(x, gamma=1):\n",
        "    # 3.6a in https://arxiv.org/abs/1912.01455v3\n",
        "    #  wealth * gamma * exp(r*tau)\n",
        "    part_a = x[:,1].reshape(-1,1)*gamma*torch.exp(x[:,3].reshape(-1,1) * x[:,0].reshape(-1,1))\n",
        "    #  0.5* tau *[(mu - r)/sigma]^2\n",
        "    part_b = 0.5 * x[:,0].reshape(-1,1) * ((x[:,2].reshape(-1,1) - x[:,3].reshape(-1,1))/(x[:,4].reshape(-1,1)))**2 \n",
        "    return -1.0*torch.exp(-part_a - part_b)"
      ],
      "metadata": {
        "colab": {
          "base_uri": "https://localhost:8080/"
        },
        "id": "0kDWNbnM6ihO",
        "outputId": "be4389dd-233a-42a3-eef5-2a7b03193a0b"
      },
      "execution_count": null,
      "outputs": [
        {
          "output_type": "stream",
          "name": "stdout",
          "text": [
            "time: 5.87 ms (started: 2022-07-08 22:33:10 +00:00)\n"
          ]
        }
      ]
    },
    {
      "cell_type": "code",
      "execution_count": null,
      "metadata": {
        "id": "u35g5sAPbsG_",
        "colab": {
          "base_uri": "https://localhost:8080/"
        },
        "outputId": "f23bb626-9694-4ee2-ba9a-1c494003d37a"
      },
      "outputs": [
        {
          "output_type": "stream",
          "name": "stdout",
          "text": [
            "time: 10.3 ms (started: 2022-07-08 22:33:10 +00:00)\n"
          ]
        }
      ],
      "source": [
        "# check control for closed form:\n",
        "# PI(x,t) = [(mu-r)/(gamma*sigma^2)]*exp(-r*(T-t))\n",
        "# ((mu-r)/(gamma*(sigma**2)))*np.exp(-r*(1.0-time))\n",
        "# gamma = 1.0 # time = 0.0 # mu = 0.05 # r = 0.02 # sigma = 0.25   # PI\n",
        "\n",
        "gamma = 1\n",
        "internal_sample, terminal_sample = mequation.sample(size=10000, to_cpu=False)\n",
        "#mask = (internal_sample[:,0] > 0.1) & (internal_sample[:,4] > 0.1)\n",
        "#internal_sample = internal_sample[mask.reshape(-1),:]\n",
        "\n",
        "# tau, wealth, mu, r, sigma\n",
        "tau = internal_sample[:,0].cpu().detach()\n",
        "wealth = internal_sample[:,1].cpu().detach()\n",
        "mu = internal_sample[:,2].cpu().detach()\n",
        "r = internal_sample[:,3].cpu().detach()\n",
        "sigma = internal_sample[:,4].cpu().detach()\n",
        "\n",
        "# mequation.pi_net(internal_sample)[:,0]"
      ]
    },
    {
      "cell_type": "code",
      "execution_count": null,
      "metadata": {
        "id": "Woj8BoAK5OLC",
        "colab": {
          "base_uri": "https://localhost:8080/",
          "height": 466
        },
        "outputId": "924179ba-0158-4790-d979-cb8154d5b1ee"
      },
      "outputs": [
        {
          "output_type": "display_data",
          "data": {
            "text/plain": [
              "<Figure size 640x480 with 1 Axes>"
            ],
            "image/png": "[encoded data removed]"
          },
          "metadata": {}
        },
        {
          "output_type": "execute_result",
          "data": {
            "text/plain": [
              "<ggplot: (8746915137901)>"
            ]
          },
          "metadata": {},
          "execution_count": 35
        },
        {
          "output_type": "stream",
          "name": "stdout",
          "text": [
            "time: 601 ms (started: 2022-07-08 22:33:10 +00:00)\n"
          ]
        }
      ],
      "source": [
        "u_internal_sample = internal_sample\n",
        "\n",
        "u_net_results = trainMertonAlloc.net(u_internal_sample).detach().cpu().numpy().reshape(-1).tolist()\n",
        "htx_results = Htx(u_internal_sample, gamma).cpu().detach().numpy().reshape(-1).tolist()\n",
        "dataf2 = pd.DataFrame( { 'u_net': u_net_results, 'closed_form': htx_results } )\n",
        "ggplot(dataf2, aes(x='u_net', y='closed_form')) + geom_point()"
      ]
    },
    {
      "cell_type": "code",
      "source": [
        "np.mean((dataf2['u_net'] - dataf2['closed_form']) ** 2)"
      ],
      "metadata": {
        "id": "9cVkQKOKFQ9K",
        "colab": {
          "base_uri": "https://localhost:8080/"
        },
        "outputId": "4a4f906d-8e4b-45fc-b622-2429823732b7"
      },
      "execution_count": null,
      "outputs": [
        {
          "output_type": "execute_result",
          "data": {
            "text/plain": [
              "8.89245682532021e-05"
            ]
          },
          "metadata": {},
          "execution_count": 36
        },
        {
          "output_type": "stream",
          "name": "stdout",
          "text": [
            "time: 4.93 ms (started: 2022-07-08 22:33:16 +00:00)\n"
          ]
        }
      ]
    },
    {
      "cell_type": "code",
      "execution_count": null,
      "metadata": {
        "id": "GHfTC6GljYnd",
        "colab": {
          "base_uri": "https://localhost:8080/",
          "height": 466
        },
        "outputId": "85b3f877-c362-45fe-cc00-0c0ac5650499"
      },
      "outputs": [
        {
          "output_type": "display_data",
          "data": {
            "text/plain": [
              "<Figure size 640x480 with 1 Axes>"
            ],
            "image/png": "[encoded data removed]"
          },
          "metadata": {}
        },
        {
          "output_type": "execute_result",
          "data": {
            "text/plain": [
              "<ggplot: (8746914994253)>"
            ]
          },
          "metadata": {},
          "execution_count": 37
        },
        {
          "output_type": "stream",
          "name": "stdout",
          "text": [
            "time: 710 ms (started: 2022-07-08 22:33:28 +00:00)\n"
          ]
        }
      ],
      "source": [
        "# plot the control function vs the closed form (ideally straight line...)\n",
        "dataf = pd.DataFrame( { 'pi_net': mequation.pi_net(internal_sample).cpu().detach().numpy().reshape(-1).tolist(), \n",
        "                       'closed_form': (((mu-r)/(gamma*(sigma**2)))*np.exp(-r*tau)).numpy().tolist() } )\n",
        "\n",
        "temp = dataf[dataf['closed_form'] < 0.1]\n",
        "# plt.scatter(temp['pi_net'], temp['closed_form'])\n",
        "ggplot(dataf, aes(x='pi_net', y='closed_form')) + geom_point()\n",
        "#g.draw()\n",
        "# ggplot(temp, aes(x='pi_net', y='closed_form')) + geom_point()\n",
        "\n",
        "\n",
        "# plt.yscale('log')\n",
        "# plt.xscale('log')"
      ]
    },
    {
      "cell_type": "code",
      "source": [
        "np.mean((dataf['pi_net'] - dataf['closed_form']) ** 2)"
      ],
      "metadata": {
        "colab": {
          "base_uri": "https://localhost:8080/"
        },
        "id": "uMx9wMiHyX0z",
        "outputId": "bea23916-2ae3-4840-8515-03a01eb2f4c0"
      },
      "execution_count": null,
      "outputs": [
        {
          "output_type": "execute_result",
          "data": {
            "text/plain": [
              "0.0264241100276824"
            ]
          },
          "metadata": {},
          "execution_count": 38
        },
        {
          "output_type": "stream",
          "name": "stdout",
          "text": [
            "time: 5.05 ms (started: 2022-07-08 22:33:32 +00:00)\n"
          ]
        }
      ]
    },
    {
      "cell_type": "code",
      "source": [
        ""
      ],
      "metadata": {
        "id": "RB73t2QYDYI2"
      },
      "execution_count": null,
      "outputs": []
    },
    {
      "cell_type": "code",
      "source": [
        ""
      ],
      "metadata": {
        "id": "FamKRf-ODYLy"
      },
      "execution_count": null,
      "outputs": []
    },
    {
      "cell_type": "code",
      "source": [
        "from google.colab import drive\n",
        "drive.mount('/content/drive')\n",
        "filepath = '/content/drive/MyDrive/DGM'"
      ],
      "metadata": {
        "colab": {
          "base_uri": "https://localhost:8080/"
        },
        "id": "LX8HJdwnp7HT",
        "outputId": "50601e5c-8757-4171-b2d2-ee391a3c3fb1"
      },
      "execution_count": null,
      "outputs": [
        {
          "output_type": "stream",
          "name": "stdout",
          "text": [
            "Mounted at /content/drive\n",
            "time: 24 s (started: 2022-07-08 14:30:39 +00:00)\n"
          ]
        }
      ]
    },
    {
      "cell_type": "code",
      "source": [
        "#torch.save(trainMertonAlloc.net.state_dict(), os.path.join(filepath, 'unet_trained_15k_epochs.pt'))\n",
        "#torch.save(mequation.pi_net.state_dict(), os.path.join(filepath, 'pi_net_trained_15k_epochs_4ep.pt'))"
      ],
      "metadata": {
        "colab": {
          "base_uri": "https://localhost:8080/"
        },
        "id": "AmruF-Yup7Jy",
        "outputId": "d1258b09-23a5-4628-d5c3-30e81102592f"
      },
      "execution_count": null,
      "outputs": [
        {
          "output_type": "stream",
          "name": "stdout",
          "text": [
            "time: 14.2 ms (started: 2022-07-08 07:19:57 +00:00)\n"
          ]
        }
      ]
    },
    {
      "cell_type": "code",
      "source": [
        "u_net = MertonUtilityNet(NL=2, NN=64)\n",
        "u_net.load_state_dict(torch.load(os.path.join(filepath, 'unet_trained_15k_epochs.pt')))"
      ],
      "metadata": {
        "colab": {
          "base_uri": "https://localhost:8080/"
        },
        "id": "WdX5wjEWrprT",
        "outputId": "136917c3-a59e-4564-a552-44dab42bf972"
      },
      "execution_count": null,
      "outputs": [
        {
          "output_type": "execute_result",
          "data": {
            "text/plain": [
              "<All keys matched successfully>"
            ]
          },
          "metadata": {},
          "execution_count": 62
        },
        {
          "output_type": "stream",
          "name": "stdout",
          "text": [
            "time: 589 ms (started: 2022-07-08 14:31:30 +00:00)\n"
          ]
        }
      ]
    },
    {
      "cell_type": "code",
      "source": [
        "u_net.to('cuda:0')"
      ],
      "metadata": {
        "colab": {
          "base_uri": "https://localhost:8080/"
        },
        "id": "aartSECarp28",
        "outputId": "65eab182-a2c9-43e8-b251-2006d479c588"
      },
      "execution_count": null,
      "outputs": [
        {
          "output_type": "execute_result",
          "data": {
            "text/plain": [
              "MertonUtilityNet(\n",
              "  (fc_input): Linear(in_features=5, out_features=64, bias=True)\n",
              "  (linears): ModuleList(\n",
              "    (0): Linear(in_features=64, out_features=64, bias=True)\n",
              "    (1): Linear(in_features=64, out_features=64, bias=True)\n",
              "  )\n",
              "  (fc_output): Linear(in_features=64, out_features=1, bias=True)\n",
              ")"
            ]
          },
          "metadata": {},
          "execution_count": 63
        },
        {
          "output_type": "stream",
          "name": "stdout",
          "text": [
            "time: 4.95 ms (started: 2022-07-08 14:31:57 +00:00)\n"
          ]
        }
      ]
    },
    {
      "cell_type": "code",
      "source": [
        ""
      ],
      "metadata": {
        "id": "xdIWxyQuOV8D"
      },
      "execution_count": null,
      "outputs": []
    },
    {
      "cell_type": "code",
      "source": [
        ""
      ],
      "metadata": {
        "id": "ALwOKd1HOV-S"
      },
      "execution_count": null,
      "outputs": []
    },
    {
      "cell_type": "code",
      "execution_count": null,
      "metadata": {
        "id": "f85Kg2zvhMdM"
      },
      "outputs": [],
      "source": [
        "mequation = MertonEquation(MertonUtilityNet( NL = 1 , NN = 3 ), MertonAlternativePiNet( in_size = 5 , out_size = 1, neurons = 100, depth=5 ), 1, 10000.0)\n",
        "# val_sample_to_use = tuple([ x.cpu().detach() for x in mequation.sample(sample_method_X=\"U\", size=1) ] )\n",
        "val_sample_to_use = mequation.sample(sample_method_X=\"U\", size=1) \n",
        "# # gamma = 1.0 # time = 0.0 # mu = 0.05 # r = 0.02 # sigma = 0.25   \n",
        "val_sample_to_use[0][0,0] = 0.0\n",
        "val_sample_to_use[0][0,2] = 0.05\n",
        "val_sample_to_use[0][0,3] = 0.02\n",
        "val_sample_to_use[0][0,4] = 0.25"
      ]
    },
    {
      "cell_type": "code",
      "execution_count": null,
      "metadata": {
        "id": "H7ce6_TPrsG4"
      },
      "outputs": [],
      "source": [
        "import torch\n",
        "\n",
        "def u(q):\n",
        "  x = q[:,1]\n",
        "  y = q[:, 0]\n",
        "  return x**2 + y**2\n",
        "x = torch.randn(3, requires_grad=True)\n",
        "t = torch.randn(3, requires_grad=True)\n",
        "u_val = u(torch.cat((x, t), axis=1))\n",
        "\n",
        "print(x,t,u_val)\n",
        "print(torch.cat((t,x)))\n",
        "# 1st derivatives\n",
        "dt = torch.autograd.grad(u_val, x, grad_outputs=torch.ones_like(u_val), create_graph=True, allow_unused=True)\n",
        "print(dt[0])\n",
        "dt = torch.autograd.grad(u_val.sum(), torch.cat((t,x)), create_graph=True)\n",
        "print(dt[0])\n",
        "dx = torch.autograd.grad(u_val.sum(), x, create_graph=True)[0]\n",
        "\n",
        "# 2nd derivatives (higher orders require `create_graph=True`)\n",
        "ddx = torch.autograd.grad(dx.sum(), x)[0]\n",
        "ddx"
      ]
    },
    {
      "cell_type": "code",
      "execution_count": null,
      "metadata": {
        "id": "mUOACTjkXBM0"
      },
      "outputs": [],
      "source": [
        "!nvidia-smi"
      ]
    },
    {
      "cell_type": "code",
      "source": [
        "2+2"
      ],
      "metadata": {
        "colab": {
          "base_uri": "https://localhost:8080/"
        },
        "id": "UsREgS8YUFl6",
        "outputId": "c5ce70ae-b647-4886-aabf-3121172c7a4f"
      },
      "execution_count": null,
      "outputs": [
        {
          "output_type": "execute_result",
          "data": {
            "text/plain": [
              "4"
            ]
          },
          "metadata": {},
          "execution_count": 1
        }
      ]
    },
    {
      "cell_type": "code",
      "source": [
        ""
      ],
      "metadata": {
        "id": "wckhSaNdUGlc"
      },
      "execution_count": null,
      "outputs": []
    }
  ],
  "metadata": {
    "accelerator": "GPU",
    "colab": {
      "collapsed_sections": [
        "BErSeefeQwQi",
        "bvy0WvxDGCxk",
        "N-GO35FcJPP6",
        "fyFbPZr7I5RE",
        "RNhAbZ727RC_",
        "CNsqOm1ithSG",
        "vkqBrz2JplP9",
        "65nooklCbsdy",
        "oy05I1QFh7EM"
      ],
      "name": "DGM_HJB_IU_working_version.ipynb",
      "provenance": []
    },
    "kernelspec": {
      "display_name": "Python 3",
      "name": "python3"
    },
    "language_info": {
      "name": "python"
    },
    "gpuClass": "standard"
  },
  "nbformat": 4,
  "nbformat_minor": 0
}